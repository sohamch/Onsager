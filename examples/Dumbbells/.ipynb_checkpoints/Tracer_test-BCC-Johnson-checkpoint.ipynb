{
 "cells": [
  {
   "cell_type": "code",
   "execution_count": 1,
   "metadata": {},
   "outputs": [],
   "source": [
    "import sys\n",
    "sys.path.extend(\"../\")"
   ]
  },
  {
   "cell_type": "code",
   "execution_count": 5,
   "metadata": {},
   "outputs": [
    {
     "ename": "ImportError",
     "evalue": "cannot import name 'pureDBContainer'",
     "output_type": "error",
     "traceback": [
      "\u001b[0;31m---------------------------------------------------------------------------\u001b[0m",
      "\u001b[0;31mImportError\u001b[0m                               Traceback (most recent call last)",
      "\u001b[0;32m<ipython-input-5-f45b39f3acea>\u001b[0m in \u001b[0;36m<module>\u001b[0;34m\u001b[0m\n\u001b[0;32m----> 1\u001b[0;31m \u001b[0;32mfrom\u001b[0m \u001b[0monsager\u001b[0m\u001b[0;34m.\u001b[0m\u001b[0mcrystal\u001b[0m \u001b[0;32mimport\u001b[0m \u001b[0mCrystal\u001b[0m\u001b[0;34m,\u001b[0m \u001b[0mpureDBContainer\u001b[0m\u001b[0;34m,\u001b[0m \u001b[0mmixedDBContainer\u001b[0m\u001b[0;34m\u001b[0m\u001b[0;34m\u001b[0m\u001b[0m\n\u001b[0m\u001b[1;32m      2\u001b[0m \u001b[0;32mfrom\u001b[0m \u001b[0monsager\u001b[0m\u001b[0;34m.\u001b[0m\u001b[0mcrystalStars\u001b[0m \u001b[0;32mimport\u001b[0m \u001b[0mzeroclean\u001b[0m\u001b[0;34m\u001b[0m\u001b[0;34m\u001b[0m\u001b[0m\n\u001b[1;32m      3\u001b[0m \u001b[0;32mfrom\u001b[0m \u001b[0monsager\u001b[0m\u001b[0;34m.\u001b[0m\u001b[0mOnsagerCalc\u001b[0m \u001b[0;32mimport\u001b[0m \u001b[0;34m*\u001b[0m\u001b[0;34m\u001b[0m\u001b[0;34m\u001b[0m\u001b[0m\n\u001b[1;32m      4\u001b[0m \u001b[0;32mfrom\u001b[0m \u001b[0monsager\u001b[0m\u001b[0;34m.\u001b[0m\u001b[0mDB_structs\u001b[0m \u001b[0;32mimport\u001b[0m \u001b[0mdumbbell\u001b[0m\u001b[0;34m,\u001b[0m \u001b[0mSdPair\u001b[0m\u001b[0;34m,\u001b[0m \u001b[0mjump\u001b[0m\u001b[0;34m,\u001b[0m \u001b[0mconnector\u001b[0m\u001b[0;34m\u001b[0m\u001b[0;34m\u001b[0m\u001b[0m\n",
      "\u001b[0;31mImportError\u001b[0m: cannot import name 'pureDBContainer'"
     ]
    }
   ],
   "source": [
    "from onsager.crystal import Crystal, pureDBContainer, mixedDBContainer\n",
    "from onsager.crystalStars import zeroclean\n",
    "from onsager.OnsagerCalc import *\n",
    "from onsager.DB_structs import dumbbell, SdPair, jump, connector"
   ]
  },
  {
   "cell_type": "code",
   "execution_count": 2,
   "metadata": {},
   "outputs": [
    {
     "name": "stderr",
     "output_type": "stream",
     "text": [
      "/usr/local/lib/python3.6/dist-packages/onsager-1.3.3-py3.6.egg/onsager/cluster.py:835: NumbaDeprecationWarning: The 'numba.jitclass' decorator has moved to 'numba.experimental.jitclass' to better reflect the experimental nature of the functionality. Please update your imports to accommodate this change and see http://numba.pydata.org/numba-doc/latest/reference/deprecation.html#change-of-jitclass-location for the time frame.\n"
     ]
    }
   ],
   "source": [
    "import numpy as np\n",
    "from Onsager_calc_db import *\n",
    "import onsager.crystal as crystal\n",
    "from states import *\n",
    "from stars import *\n",
    "from vector_stars import *\n",
    "import time"
   ]
  },
  {
   "cell_type": "code",
   "execution_count": 3,
   "metadata": {},
   "outputs": [
    {
     "name": "stdout",
     "output_type": "stream",
     "text": [
      "#Lattice:\n",
      "  a1 = [0.142765 0.142765 0.142765]\n",
      "  a2 = [-0.142765  0.142765 -0.142765]\n",
      "  a3 = [-0.142765 -0.142765  0.142765]\n",
      "#Basis:\n",
      "  (Fe) 0.0 = [0. 0. 0.]\n"
     ]
    }
   ],
   "source": [
    "# make a BCC lattice\n",
    "# We'll modify the jumpnetwork to keep only the 60 degree reorientational jumps.\n",
    "latt = np.array([[1., 0., 0.], [0., 1., 0.], [0., 0., 1.]]) * 0.28553\n",
    "Fe = crystal.Crystal(latt, [[np.array([0., 0., 0.]), np.array([0.5, 0.5, 0.5])]], [\"Fe\"])\n",
    "# Now give it the orientations - for BCC it's [110]\n",
    "o = np.array([1.,1.,0.])/np.linalg.norm(np.array([1.,1.,0.]))*0.126*2\n",
    "famp0 = [o.copy()]\n",
    "family = [famp0]\n",
    "pdbcontainer_fe = dbStates(Fe, 0, family)\n",
    "mdbcontainer_fe = mStates(Fe, 0, family)\n",
    "jset0, jset2 = pdbcontainer_fe.jumpnetwork(0.27, 0.01, 0.01), mdbcontainer_fe.jumpnetwork(0.27, 0.01, 0.01)\n",
    "print(Fe)"
   ]
  },
  {
   "cell_type": "code",
   "execution_count": 4,
   "metadata": {},
   "outputs": [],
   "source": [
    "# Modify jnet0\n",
    "jnet0 = jset0[0]\n",
    "jnet0_indexed = jset0[1]\n",
    "# Let's try to sort the jumps according to closest distance\n",
    "# except rotational jumps, we don't want them.\n",
    "z = np.zeros(3)\n",
    "indices = []\n",
    "\n",
    "for jt, jlist in enumerate(jnet0):\n",
    "    if np.allclose(jnet0_indexed[jt][0][1], z):\n",
    "        continue\n",
    "    indices.append(jt)\n",
    "    \n",
    "def sortkey(entry):\n",
    "    jmp = jnet0[entry][0]\n",
    "    or1 = pdbcontainer_fe.iorlist[jmp.state1.iorind][1]\n",
    "    or2 = pdbcontainer_fe.iorlist[jmp.state2.iorind][1]\n",
    "    dx = disp(pdbcontainer_fe, jmp.state1, jmp.state2)\n",
    "    dx1 = np.linalg.norm(jmp.c1*or1/2.)\n",
    "    dx2 = np.linalg.norm(dx + jmp.c2*or2/2. - jmp.c1*or1/2.)\n",
    "    dx3 = np.linalg.norm(-jmp.c2*or2/2.)\n",
    "    return dx1+dx2+dx3\n",
    "ind_sort = sorted(indices, key=sortkey)"
   ]
  },
  {
   "cell_type": "code",
   "execution_count": 5,
   "metadata": {},
   "outputs": [
    {
     "name": "stdout",
     "output_type": "stream",
     "text": [
      "Jump object:\n",
      "Initial state:\n",
      "\tdumbbell : (i, or) index = 0, lattice vector = [0 0 0]\n",
      "Final state:\n",
      "\tdumbbell : (i, or) index = 2, lattice vector = [0 0 1]\n",
      "Jumping from c1 = -1 to c2 = -1\n",
      "\n"
     ]
    }
   ],
   "source": [
    "# Let's check if we got the correct jump\n",
    "print(jnet0[ind_sort[0]][0])"
   ]
  },
  {
   "cell_type": "code",
   "execution_count": 6,
   "metadata": {},
   "outputs": [
    {
     "data": {
      "text/plain": [
       "[(0, array([ 1.78190909e-01,  1.78190909e-01, -5.24417134e-18])),\n",
       " (0, array([0.17819091, 0.        , 0.17819091])),\n",
       " (0, array([ 0.        , -0.17819091,  0.17819091])),\n",
       " (0, array([-1.78190909e-01, -5.24417134e-18,  1.78190909e-01])),\n",
       " (0, array([-5.24417134e-18,  1.78190909e-01,  1.78190909e-01])),\n",
       " (0, array([-0.17819091,  0.17819091,  0.        ]))]"
      ]
     },
     "execution_count": 6,
     "metadata": {},
     "output_type": "execute_result"
    }
   ],
   "source": [
    "pdbcontainer_fe.iorlist"
   ]
  },
  {
   "cell_type": "code",
   "execution_count": 7,
   "metadata": {},
   "outputs": [],
   "source": [
    "# take only the lowest displacement jump\n",
    "# that is the jump we want.\n",
    "jset0new = ([jnet0[ind_sort[0]]], [jnet0_indexed[ind_sort[0]]])"
   ]
  },
  {
   "cell_type": "code",
   "execution_count": 8,
   "metadata": {},
   "outputs": [
    {
     "name": "stdout",
     "output_type": "stream",
     "text": [
      "[0, 1, 2, 3, 4, 5, 6, 7, 8, 9, 10, 11, 12, 13, 14, 15, 16]\n",
      "[16, 15, 4, 7, 3, 0, 11, 1, 12, 2, 8, 5, 6, 10, 9, 14, 13]\n"
     ]
    }
   ],
   "source": [
    "# Now, we modify the mixed dumbbell jumpnetwork to also give the lowest displacement jump\n",
    "# Modify jnet0\n",
    "jnet2 = jset2[0]\n",
    "jnet2_indexed = jset2[1]\n",
    "# Let's try to sort the jumps according to closest distance\n",
    "# we don't want the rotational jumps as before.\n",
    "z = np.zeros(3)\n",
    "indices2 = []\n",
    "for jt, jlist in enumerate(jnet2):\n",
    "    if np.allclose(jnet2_indexed[jt][0][1], z):\n",
    "        continue\n",
    "#     # get the 90 degree reorientations\n",
    "#     or1 = mdbcontainer_fe.iorlist[jlist[0].state1.db.iorind][1]\n",
    "#     or2 = mdbcontainer_fe.iorlist[jlist[0].state2.db.iorind][1]\n",
    "#     if not np.dot(or1, or2) <= 1e-8:\n",
    "#         continue\n",
    "    indices2.append(jt)    \n",
    "print(indices2)\n",
    "\n",
    "def sortkey2(entry):\n",
    "    jmp = jnet2[entry][0]\n",
    "    or1 = mdbcontainer_fe.iorlist[jmp.state1.db.iorind][1]\n",
    "    or2 = mdbcontainer_fe.iorlist[jmp.state2.db.iorind][1]\n",
    "    dx = disp(mdbcontainer_fe, jmp.state1, jmp.state2)\n",
    "    # c1 and c2 are always +1 for mixed dumbbell jumps.\n",
    "    dx1 = np.linalg.norm(jmp.c1*or1/2.)\n",
    "    dx2 = np.linalg.norm(dx + jmp.c2*or2/2. - jmp.c1*or1/2.)\n",
    "    dx3 = np.linalg.norm(-jmp.c2*or2/2.)\n",
    "    return dx1+dx2+dx3\n",
    "ind_sort2 = sorted(indices2, key=sortkey2)\n",
    "print(ind_sort2)"
   ]
  },
  {
   "cell_type": "code",
   "execution_count": 9,
   "metadata": {},
   "outputs": [
    {
     "name": "stdout",
     "output_type": "stream",
     "text": [
      "Jump object:\n",
      "Initial state:\n",
      "\tSolute loctation:basis index = 0, lattice vector = [0 0 0]\n",
      "\tdumbbell : (i, or) index = 5, lattice vector = [0 0 0]\n",
      "Final state:\n",
      "\tSolute loctation :basis index = 0, lattice vector = [0 0 1]\n",
      "\tdumbbell : (i, or) index = 10, lattice vector = [0 0 1]\n",
      "Jumping from c1 = 1 to c2 = 1\n"
     ]
    }
   ],
   "source": [
    "# check if we have the correct type of jump\n",
    "print(jnet2[ind_sort2[0]][0])"
   ]
  },
  {
   "cell_type": "code",
   "execution_count": 10,
   "metadata": {},
   "outputs": [
    {
     "name": "stdout",
     "output_type": "stream",
     "text": [
      "(0, array([ 1.78190909e-01,  1.78190909e-01, -5.24417134e-18]))\n",
      "(0, array([0.17819091, 0.        , 0.17819091]))\n",
      "(0, array([ 0.        , -0.17819091,  0.17819091]))\n",
      "(0, array([-1.78190909e-01, -5.24417134e-18,  1.78190909e-01]))\n",
      "(0, array([-5.24417134e-18,  1.78190909e-01,  1.78190909e-01]))\n",
      "(0, array([-1.78190909e-01, -1.78190909e-01,  5.24417134e-18]))\n",
      "(0, array([ 1.78190909e-01,  5.24417134e-18, -1.78190909e-01]))\n",
      "(0, array([-0.17819091,  0.17819091,  0.        ]))\n",
      "(0, array([-0.17819091,  0.        , -0.17819091]))\n",
      "(0, array([ 5.24417134e-18, -1.78190909e-01, -1.78190909e-01]))\n",
      "(0, array([ 0.        ,  0.17819091, -0.17819091]))\n",
      "(0, array([ 0.17819091, -0.17819091,  0.        ]))\n"
     ]
    }
   ],
   "source": [
    "for tup in mdbcontainer_fe.iorlist:\n",
    "    print(tup)"
   ]
  },
  {
   "cell_type": "code",
   "execution_count": 11,
   "metadata": {},
   "outputs": [],
   "source": [
    "# take only the lowest displacement jump\n",
    "# that is the jump we want.\n",
    "jset2new = ([jnet2[ind_sort2[0]]], [jnet2_indexed[ind_sort2[0]]])"
   ]
  },
  {
   "cell_type": "code",
   "execution_count": 12,
   "metadata": {},
   "outputs": [
    {
     "name": "stdout",
     "output_type": "stream",
     "text": [
      "initializing thermo\n",
      "initializing kin\n",
      "initializing NN\n",
      "built shell 1: time - 0.057662010192871094\n",
      "built shell 2: time - 0.8521368503570557\n",
      "grouped states by symmetry: 1.0245380401611328\n",
      "built mixed dumbbell stars: 0.00043582916259765625\n",
      "built jtags2: 0.0003845691680908203\n",
      "built mixed indexed star: 0.005707740783691406\n",
      "building star2symlist : 7.486343383789062e-05\n",
      "building bare, mixed index dicts : 0.0001633167266845703\n",
      "2NN Shell initialization time: 2.9221134185791016\n",
      "\n",
      "generating thermodynamic shell\n",
      "built shell 1: time - 0.028825044631958008\n",
      "grouped states by symmetry: 0.10301923751831055\n",
      "built mixed dumbbell stars: 0.00040793418884277344\n",
      "built jtags2: 0.0002830028533935547\n",
      "built mixed indexed star: 0.0059778690338134766\n",
      "building star2symlist : 3.790855407714844e-05\n",
      "building bare, mixed index dicts : 0.00012040138244628906\n",
      "thermodynamic shell generated: 0.202498197555542\n",
      "Total number of states in Thermodynamic Shell - 54, 12\n",
      "generating kinetic shell\n",
      "built shell 1: time - 0.037287235260009766\n",
      "built shell 2: time - 1.004744052886963\n",
      "grouped states by symmetry: 1.1279895305633545\n",
      "built mixed dumbbell stars: 0.0004818439483642578\n",
      "built jtags2: 0.0002231597900390625\n",
      "built mixed indexed star: 0.00832509994506836\n",
      "building star2symlist : 0.00013065338134765625\n",
      "building bare, mixed index dicts : 0.00028443336486816406\n",
      "Kinetic shell generated: 3.102569103240967\n",
      "Total number of states in Kinetic Shell - 210, 12\n",
      "generating kinetic shell vector starset\n",
      "Kinetic shell vector starset generated: 1.538588285446167\n",
      "Generating Jump networks\n",
      "building omega1\n",
      "built omega1 : time - 1.017061710357666\n",
      "building omega43\n",
      "built omega43 : time 3.1135008335113525\n",
      "Jump networks generated: 4.14174485206604\n",
      "building GF starsets\n",
      "\tComplex connections creation time: 27.94230628013611\n",
      "\tComplex connections symmetry grouping time: 8.495262622833252\n",
      "No. of pure dumbbell connections: 6804\n",
      "GF star sets built: 36.440683364868164\n",
      "Built Complex GF expansions: 20.934587240219116\n",
      "built GFstarsets: 57.411303997039795\n",
      "built rate expansions: 0.4187581539154053\n",
      "built bias expansions: 2.0262324810028076\n",
      "built outer product tensor:0.04099154472351074\n",
      "onsager calculator initiation time = 75.18954300880432\n"
     ]
    }
   ],
   "source": [
    "# Now, we construct the Onsager calculator with these non-local jump sets.\n",
    "start = time.time()\n",
    "onsagercalculator = dumbbellMediated(pdbcontainer_fe, mdbcontainer_fe, jset0new, jset2new, 0.27,\n",
    "                                     0.01, 0.01, 0.01, NGFmax=4, Nthermo=1)\n",
    "print(\"onsager calculator initiation time = {}\".format(time.time() - start))"
   ]
  },
  {
   "cell_type": "code",
   "execution_count": 13,
   "metadata": {},
   "outputs": [
    {
     "data": {
      "text/plain": [
       "[0, 0, 0, 0, 0, 0, 0, 0]"
      ]
     },
     "execution_count": 13,
     "metadata": {},
     "output_type": "execute_result"
    }
   ],
   "source": [
    "onsagercalculator.om1types"
   ]
  },
  {
   "cell_type": "code",
   "execution_count": 14,
   "metadata": {},
   "outputs": [
    {
     "data": {
      "text/plain": [
       "26"
      ]
     },
     "execution_count": 14,
     "metadata": {},
     "output_type": "execute_result"
    }
   ],
   "source": [
    "# First, we must also modify the omega3 and omega4 jump lists\n",
    "# NOTE - I am modifying these lists in place right now.\n",
    "# But I must come up with a way to do this separately\n",
    "len(onsagercalculator.jnet43)"
   ]
  },
  {
   "cell_type": "code",
   "execution_count": 15,
   "metadata": {},
   "outputs": [
    {
     "name": "stdout",
     "output_type": "stream",
     "text": [
      "[12, 6, 8, 20, 10, 25, 4, 21, 0, 7, 14, 2, 13, 16, 24, 23, 17, 15, 5, 19, 11, 22, 9, 18, 3, 1]\n"
     ]
    }
   ],
   "source": [
    "jnet43 = onsagercalculator.jnet43\n",
    "jnet43_indexed = onsagercalculator.jnet43_indexed\n",
    "# Let's try to sort the jumps according to closest distance\n",
    "# we don't want the rotational jumps as before.\n",
    "\n",
    "z = np.zeros(3)\n",
    "indices43 = []\n",
    "for jt, jlist in enumerate(jnet43):\n",
    "    if np.allclose(jnet43_indexed[jt][0][1], z):\n",
    "        continue\n",
    "    indices43.append(jt)    \n",
    "# print(indices43)\n",
    "\n",
    "def sortkey43(entry):\n",
    "    jmp = jnet43[entry][0] # This is an omega4 jump\n",
    "    if not jmp.c2 == -1:\n",
    "        print(c2)\n",
    "    or1 = pdbcontainer_fe.iorlist[jmp.state1.db.iorind][1]\n",
    "    or2 = mdbcontainer_fe.iorlist[jmp.state2.db.iorind][1]\n",
    "    dx = disp4(pdbcontainer_fe, mdbcontainer_fe, jmp.state1, jmp.state2)\n",
    "    # remember that c2 is -1 for an omega4 jump\n",
    "    dx1 = np.linalg.norm(jmp.c1*or1/2.)\n",
    "    dx2 = np.linalg.norm(dx - or2/2. - jmp.c1*or1/2.)\n",
    "    dx3 = np.linalg.norm(jmp.c2*or2/2.)\n",
    "    return dx1+dx2+dx3\n",
    "\n",
    "ind_sort43 = sorted(indices43, key=sortkey43)\n",
    "print(ind_sort43)"
   ]
  },
  {
   "cell_type": "code",
   "execution_count": 16,
   "metadata": {},
   "outputs": [
    {
     "name": "stdout",
     "output_type": "stream",
     "text": [
      "Jump object:\n",
      "Initial state:\n",
      "\tSolute loctation:basis index = 0, lattice vector = [0 0 0]\n",
      "\tdumbbell : (i, or) index = 0, lattice vector = [1 0 0]\n",
      "Final state:\n",
      "\tSolute loctation :basis index = 0, lattice vector = [0 0 0]\n",
      "\tdumbbell : (i, or) index = 8, lattice vector = [0 0 0]\n",
      "Jumping from c1 = -1 to c2 = -1\n"
     ]
    }
   ],
   "source": [
    "# check if we have the correct jump\n",
    "print(jnet43[ind_sort43[0]][0])"
   ]
  },
  {
   "cell_type": "code",
   "execution_count": 17,
   "metadata": {},
   "outputs": [
    {
     "data": {
      "text/plain": [
       "[(0, array([ 1.78190909e-01,  1.78190909e-01, -5.24417134e-18])),\n",
       " (0, array([0.17819091, 0.        , 0.17819091])),\n",
       " (0, array([ 0.        , -0.17819091,  0.17819091])),\n",
       " (0, array([-1.78190909e-01, -5.24417134e-18,  1.78190909e-01])),\n",
       " (0, array([-5.24417134e-18,  1.78190909e-01,  1.78190909e-01])),\n",
       " (0, array([-0.17819091,  0.17819091,  0.        ]))]"
      ]
     },
     "execution_count": 17,
     "metadata": {},
     "output_type": "execute_result"
    }
   ],
   "source": [
    "pdbcontainer_fe.iorlist"
   ]
  },
  {
   "cell_type": "code",
   "execution_count": 18,
   "metadata": {},
   "outputs": [
    {
     "data": {
      "text/plain": [
       "[(0, array([ 1.78190909e-01,  1.78190909e-01, -5.24417134e-18])),\n",
       " (0, array([0.17819091, 0.        , 0.17819091])),\n",
       " (0, array([ 0.        , -0.17819091,  0.17819091])),\n",
       " (0, array([-1.78190909e-01, -5.24417134e-18,  1.78190909e-01])),\n",
       " (0, array([-5.24417134e-18,  1.78190909e-01,  1.78190909e-01])),\n",
       " (0, array([-1.78190909e-01, -1.78190909e-01,  5.24417134e-18])),\n",
       " (0, array([ 1.78190909e-01,  5.24417134e-18, -1.78190909e-01])),\n",
       " (0, array([-0.17819091,  0.17819091,  0.        ])),\n",
       " (0, array([-0.17819091,  0.        , -0.17819091])),\n",
       " (0, array([ 5.24417134e-18, -1.78190909e-01, -1.78190909e-01])),\n",
       " (0, array([ 0.        ,  0.17819091, -0.17819091])),\n",
       " (0, array([ 0.17819091, -0.17819091,  0.        ]))]"
      ]
     },
     "execution_count": 18,
     "metadata": {},
     "output_type": "execute_result"
    }
   ],
   "source": [
    "mdbcontainer_fe.iorlist"
   ]
  },
  {
   "cell_type": "code",
   "execution_count": 19,
   "metadata": {},
   "outputs": [],
   "source": [
    "onsagercalculator.regenerate43([ind_sort43[0]])"
   ]
  },
  {
   "cell_type": "code",
   "execution_count": 20,
   "metadata": {},
   "outputs": [],
   "source": [
    "# 1.  First get the rates and thermodynamic data\n",
    "# All the energies of the \"mixed\" and pure dumbbells will be the same,\n",
    "# All the jump rates will be the same\n",
    "    # Since we have only one type each of omega0, omega2 and omega43 jumps, set their rates to zero.\n",
    "    # All omega1 rates will be the same as the above rate.\n",
    "# The \"solute\" energies will be zero since we are dealing with a chemically identical tracer.\n",
    "# All interaction energies will be zero.\n",
    "\n",
    "# 1a. Energies and pre-factors\n",
    "kT = 1\n",
    "\n",
    "predb0, enedb0 = np.ones(len(onsagercalculator.vkinetic.starset.pdbcontainer.symorlist)), \\\n",
    "                 np.random.rand(len(onsagercalculator.vkinetic.starset.pdbcontainer.symorlist))\n",
    "\n",
    "preS, eneS = np.ones(\n",
    "    len(onsagercalculator.vkinetic.starset.crys.sitelist(onsagercalculator.vkinetic.starset.chem))), \\\n",
    "             np.zeros(len(onsagercalculator.vkinetic.starset.crys.sitelist(\n",
    "                 onsagercalculator.vkinetic.starset.chem)))\n",
    "\n",
    "# These are the interaction or the excess energies and pre-factors for solutes and dumbbells.\n",
    "# The energies will all be zero.\n",
    "preSdb, eneSdb = np.ones(onsagercalculator.thermo.mixedstartindex), \\\n",
    "                 np.zeros(onsagercalculator.thermo.mixedstartindex)\n",
    "\n",
    "predb2, enedb2 = predb0.copy(), enedb0.copy()\n",
    "\n",
    "preT0, eneT0 = np.ones(len(onsagercalculator.vkinetic.starset.jnet0)), np.random.rand(\n",
    "    len(onsagercalculator.jnet0))\n",
    "preT2, eneT2 = preT0.copy(), eneT0.copy()\n",
    "preT1, eneT1 = np.ones(len(onsagercalculator.jnet1)), np.array([eneT0[onsagercalculator.om1types[jt]] for jt in\n",
    "                                                                range(len(onsagercalculator.jnet1))])\n",
    "\n",
    "preT43, eneT43 = np.ones(len(onsagercalculator.jnet43)), eneT0.copy()"
   ]
  },
  {
   "cell_type": "code",
   "execution_count": 21,
   "metadata": {},
   "outputs": [],
   "source": [
    "# 1b. Now get the beta*free energy values.\n",
    "bFdb0, bFdb2, bFS, bFSdb, bFT0, bFT1, bFT2, bFT3, bFT4 = \\\n",
    "    onsagercalculator.preene2betafree(kT, predb0, enedb0, preS, eneS, preSdb, eneSdb, predb2, enedb2,\n",
    "                                           preT0, eneT0, preT2, eneT2, preT1, eneT1, preT43, eneT43)"
   ]
  },
  {
   "cell_type": "code",
   "execution_count": 22,
   "metadata": {},
   "outputs": [
    {
     "data": {
      "text/plain": [
       "8"
      ]
     },
     "execution_count": 22,
     "metadata": {},
     "output_type": "execute_result"
    }
   ],
   "source": [
    "len(onsagercalculator.jnet1)"
   ]
  },
  {
   "cell_type": "code",
   "execution_count": 23,
   "metadata": {},
   "outputs": [],
   "source": [
    "# get the probabilities and other data from L_ij\n",
    "L0bb,(L_uc_aa,L_c_aa), (L_uc_bb,L_c_bb), (L_uc_ab,L_c_ab)=\\\n",
    "onsagercalculator.L_ij(bFdb0, bFT0, bFdb2, bFT2, bFS, bFSdb, bFT1, bFT3, bFT4)"
   ]
  },
  {
   "cell_type": "code",
   "execution_count": 24,
   "metadata": {},
   "outputs": [],
   "source": [
    "L_aa = L_uc_aa + L_c_aa"
   ]
  },
  {
   "cell_type": "code",
   "execution_count": 25,
   "metadata": {},
   "outputs": [],
   "source": [
    "L_ab = L_uc_ab + L_c_ab"
   ]
  },
  {
   "cell_type": "code",
   "execution_count": 26,
   "metadata": {},
   "outputs": [
    {
     "data": {
      "text/plain": [
       "0.4126434097962856"
      ]
     },
     "execution_count": 26,
     "metadata": {},
     "output_type": "execute_result"
    }
   ],
   "source": [
    "L_aa[0][0]/L_ab[0][0]"
   ]
  },
  {
   "cell_type": "code",
   "execution_count": null,
   "metadata": {},
   "outputs": [],
   "source": [
    "x = np.array([0.28553, 0., 0.])\n",
    "R, u = Fe.cart2pos(x)\n",
    "R, u"
   ]
  },
  {
   "cell_type": "code",
   "execution_count": 27,
   "metadata": {},
   "outputs": [],
   "source": [
    "Crystal = crystal.Crystal"
   ]
  },
  {
   "cell_type": "code",
   "execution_count": null,
   "metadata": {},
   "outputs": [],
   "source": []
  }
 ],
 "metadata": {
  "kernelspec": {
   "display_name": "Python 3",
   "language": "python",
   "name": "python3"
  },
  "language_info": {
   "codemirror_mode": {
    "name": "ipython",
    "version": 3
   },
   "file_extension": ".py",
   "mimetype": "text/x-python",
   "name": "python",
   "nbconvert_exporter": "python",
   "pygments_lexer": "ipython3",
   "version": "3.6.9"
  }
 },
 "nbformat": 4,
 "nbformat_minor": 2
}
