{
 "cells": [
  {
   "cell_type": "markdown",
   "metadata": {},
   "source": [
    "## Transport Coefficient Calculations on Ni-X (X = Cr, Fe)\n",
    "\n",
    "### Data was obtained from Tucker et. al.  - Journal of Nuclear Materials405, 216–234 (2010)"
   ]
  },
  {
   "cell_type": "code",
   "execution_count": 1,
   "metadata": {},
   "outputs": [],
   "source": [
    "import sys\n",
    "sys.path.append(\"../\")"
   ]
  },
  {
   "cell_type": "code",
   "execution_count": 2,
   "metadata": {},
   "outputs": [
    {
     "name": "stderr",
     "output_type": "stream",
     "text": [
      "/usr/local/lib/python3.6/dist-packages/onsager-1.3.3.1-py3.6.egg/onsager/cluster.py:804: NumbaDeprecationWarning: The 'numba.jitclass' decorator has moved to 'numba.experimental.jitclass' to better reflect the experimental nature of the functionality. Please update your imports to accommodate this change and see http://numba.pydata.org/numba-doc/latest/reference/deprecation.html#change-of-jitclass-location for the time frame.\n"
     ]
    }
   ],
   "source": [
    "from onsager.crystal import Crystal\n",
    "from onsager.crystalStars import zeroclean\n",
    "from onsager.OnsagerCalc import *\n",
    "from onsager.crystal import DB_disp, DB_disp4, pureDBContainer, mixedDBContainer\n",
    "from onsager.DB_structs import dumbbell, SdPair, jump, connector\n",
    "import pickle\n",
    "import numpy as np\n",
    "from scipy.constants import physical_constants\n",
    "kB = physical_constants['Boltzmann constant in eV/K'][0]\n",
    "from matplotlib import pyplot as plt\n",
    "import matplotlib.ticker as ticker"
   ]
  },
  {
   "cell_type": "markdown",
   "metadata": {},
   "source": [
    "### We work with our existing Onsager Calculator that we had saved as a pickled object. This allows for reuse in case multiple uses are required."
   ]
  },
  {
   "cell_type": "code",
   "execution_count": 3,
   "metadata": {},
   "outputs": [
    {
     "name": "stdout",
     "output_type": "stream",
     "text": [
      "#Lattice:\n",
      "  a1 = [0.    0.176 0.176]\n",
      "  a2 = [0.176 0.    0.176]\n",
      "  a3 = [0.176 0.176 0.   ]\n",
      "#Basis:\n",
      "  (Ni) 0.0 = [0. 0. 0.]\n"
     ]
    }
   ],
   "source": [
    "with open('NiFe_NiCr_Onsg.pkl','rb') as fl:\n",
    "    onsagercalculator = pickle.load(fl)\n",
    "\n",
    "pdbcontainer_Ni = onsagercalculator.pdbcontainer\n",
    "mdbcontainer_Ni = onsagercalculator.mdbcontainer\n",
    "\n",
    "# The pdbcontainer and mdbcontainer objects (see states.py) contain all information regarding pure and\n",
    "# mixed dumbbells, including: The possible orientations (pdbcontainer.iorlist), the symmetry grouping\n",
    "# of the dumbbells (pdbcontainer.symorlist) and the group operations between them.\n",
    "\n",
    "# The following output shows the Nickel crystal (all units are nano-meters)\n",
    "print(onsagercalculator.crys)"
   ]
  },
  {
   "cell_type": "markdown",
   "metadata": {},
   "source": [
    "### Next, we need to identify the solute-dumbbell complex states we are dealing with. The definitions of a-type and b-type complex states can be found in Tucker et. al. We pre-identify them and note the indices assigned to them, so that we can assign energies to them later on"
   ]
  },
  {
   "cell_type": "code",
   "execution_count": 4,
   "metadata": {},
   "outputs": [
    {
     "name": "stdout",
     "output_type": "stream",
     "text": [
      "0\n",
      "[0. 0. 0.]\n",
      "[ 1.13877191e-17  1.13877191e-17 -3.26000000e-01]\n",
      "3\n",
      "\n",
      "1\n",
      "[0.176 0.176 0.   ]\n",
      "[ 1.13877191e-17  1.13877191e-17 -3.26000000e-01]\n",
      "12\n",
      "\n",
      "2\n",
      "[ 0.176  0.    -0.176]\n",
      "[3.26000000e-01 1.13877191e-17 1.13877191e-17]\n",
      "24\n",
      "\n"
     ]
    }
   ],
   "source": [
    "# First, we need to figure out the interacting complexes, whether \"orign state\", a-type or b-type\n",
    "# origin state is where solute and pure dumbbell are in the same position - unphysical\n",
    "\n",
    "# In the output, each set of 4 lines correspond to the following\n",
    "# The first line - the index of the symmetry group containing the particular type of complex state.\n",
    "# The second line - the relative cartesian location of the dumbbell compared to the solute\n",
    "# The third line - the orientation vector of the dumbbell\n",
    "# The fourth line - the number of complex states of that type.\n",
    "\n",
    "# Note that the orientation vector is a nominal vector. It helps in symmetry analysis and\n",
    "# identificiation of jump types, but atomic displacements are only considered to be site-to-site.\n",
    "# To keep things somewhat physically relevant, we choose this orientation vector length to be the same\n",
    "# as the host atomic diameter (0.326 nm for Ni).\n",
    "\n",
    "count = 0\n",
    "for star in onsagercalculator.thermo.stars[:onsagercalculator.thermo.mixedstartindex]:\n",
    "    # Iterate through all symmetry groups of complex states\n",
    "    print(count) # the symmetry group index assigned for this type of complex state.\n",
    "    \n",
    "    st0 = star[0]  # the first complex state (representative) of a symmetry group\n",
    "    \n",
    "    # print the cartesian position vector of the solute\n",
    "    print(np.dot(onsagercalculator.crys.lattice, st0.db.R))\n",
    "    \n",
    "    # print the cartesian position vector of the solute\n",
    "    print(onsagercalculator.pdbcontainer.iorlist[star[0].db.iorind][1])\n",
    "    print(len(star))\n",
    "    count += 1\n",
    "    print()"
   ]
  },
  {
   "cell_type": "markdown",
   "metadata": {},
   "source": [
    "## Next, we need to identify the omega1 jump types we are dealing with"
   ]
  },
  {
   "cell_type": "code",
   "execution_count": 5,
   "metadata": {},
   "outputs": [
    {
     "name": "stdout",
     "output_type": "stream",
     "text": [
      "Origin state omega1 jump type index : 0\n",
      "Jump object:\n",
      "Initial state:\n",
      "\tSolute loctation:basis index = 0, lattice vector = [0 0 0]\n",
      "\tdumbbell : (i, or) index = 1, lattice vector = [0 0 0]\n",
      "Final state:\n",
      "\tSolute loctation :basis index = 0, lattice vector = [0 0 0]\n",
      "\tdumbbell : (i, or) index = 2, lattice vector = [-1  0  0]\n",
      "Jumping from c1 = 1 to c2 = -1\n",
      "\n",
      "Origin state omega1 jump type index : 13\n",
      "Jump object:\n",
      "Initial state:\n",
      "\tSolute loctation:basis index = 0, lattice vector = [0 0 0]\n",
      "\tdumbbell : (i, or) index = 0, lattice vector = [0 0 0]\n",
      "Final state:\n",
      "\tSolute loctation :basis index = 0, lattice vector = [0 0 0]\n",
      "\tdumbbell : (i, or) index = 1, lattice vector = [0 0 0]\n",
      "Jumping from c1 = -1 to c2 = 1\n",
      "\n",
      "[0, 13]\n"
     ]
    }
   ],
   "source": [
    "# First, let us weed out jumps to and from \"origin\" states (see our paper)\n",
    "# \"Origin\" states are where the solute and pure dumbbell are at the same site - which is unphysical.\n",
    "# There should be two kinds - one to and from origin states and the second on-site rotation in an origin state\n",
    "\n",
    "# For a dumbbell, the (i, or) indices (iorInd) correspond to (basis site, orientation vector) pairs.\n",
    "# The corresponding values can be found at onsagercalculator.pdbcontainer.iorlist[iorInd]\n",
    "\n",
    "# The basis index of the solute corresponds to which unit cell site type it occupies.\n",
    "\n",
    "# The quantity \"c1\" indicates whether the atom at the head (c1 = 1) or the tail (c1 = -1) of the\n",
    "# orientation vector is executing the jump\n",
    "\n",
    "# The quantity \"c2\" indicates whether the jumping atom ends up at the head (c2 = 1) or the \n",
    "# tail (c2 = -1) of the final orientation vector.\n",
    "\n",
    "origin_index = []\n",
    "for idx, jlist in enumerate(onsagercalculator.jnet1):\n",
    "    if jlist[0].state2.is_zero(onsagercalculator.pdbcontainer):\n",
    "        print(\"Origin state omega1 jump type index : {}\".format(idx))\n",
    "        print(jlist[0])\n",
    "        origin_index.append(idx)\n",
    "        print()\n",
    "        continue\n",
    "    if jlist[0].state1.is_zero(onsagercalculator.pdbcontainer):\n",
    "        print(\"Origin state omega1 jump type index : {}\".format(idx))\n",
    "        print(jlist[0])\n",
    "        origin_index.append(idx)\n",
    "        print()\n",
    "        continue\n",
    "\n",
    "print(origin_index)"
   ]
  },
  {
   "cell_type": "code",
   "execution_count": 6,
   "metadata": {},
   "outputs": [
    {
     "name": "stdout",
     "output_type": "stream",
     "text": [
      "[14, 15, 16, 17, 18, 19, 20, 21, 22, 23, 24, 25]\n"
     ]
    }
   ],
   "source": [
    "## In order to make this a bit less tedious, let's first filter out the rotation jumps\n",
    "rot_index = []\n",
    "\n",
    "# iterate through the omega1 jump types (which are grouped by symmetry)\n",
    "for i, jlist in enumerate(onsagercalculator.jnet1):\n",
    "    jmp = jlist[0] # Get a representative jump\n",
    "    \n",
    "    # check the dumbbell displacement during the jump\n",
    "    dx = DB_disp(pdbcontainer_Ni, jmp.state1, jmp.state2) # the disp function is in states.py\n",
    "    \n",
    "    # if the displacement is zero, then we have a rotation\n",
    "    # if the rotation is of an origin state, ignore it, since we have identified it before.\n",
    "    if np.allclose(dx, 0.) and not i in origin_index:\n",
    "        rot_index.append(i)\n",
    "print(rot_index)"
   ]
  },
  {
   "cell_type": "markdown",
   "metadata": {},
   "source": [
    "## Identification of roto-translational omega1 jumps to compare to Tucker et. al."
   ]
  },
  {
   "cell_type": "code",
   "execution_count": 7,
   "metadata": {
    "scrolled": false
   },
   "outputs": [
    {
     "name": "stdout",
     "output_type": "stream",
     "text": [
      "1\n",
      "[0.176 0.176 0.   ]\n",
      "[ 1.13877191e-17  1.13877191e-17 -3.26000000e-01]\n",
      "\n",
      "[ 0.176  0.    -0.176]\n",
      "[-1.13877191e-17 -3.26000000e-01  1.13877191e-17]\n",
      "\n",
      "\n",
      "2\n",
      "[0.176 0.    0.176]\n",
      "[ 1.13877191e-17  1.13877191e-17 -3.26000000e-01]\n",
      "\n",
      "[ 0.176 -0.176  0.   ]\n",
      "[-1.13877191e-17 -3.26000000e-01  1.13877191e-17]\n",
      "\n",
      "\n",
      "3\n",
      "[ 0.    -0.176  0.176]\n",
      "[ 1.13877191e-17  1.13877191e-17 -3.26000000e-01]\n",
      "\n",
      "[ 0.    -0.352  0.   ]\n",
      "[-1.13877191e-17 -3.26000000e-01  1.13877191e-17]\n",
      "\n",
      "\n",
      "4\n",
      "[-0.176 -0.176  0.   ]\n",
      "[ 1.13877191e-17  1.13877191e-17 -3.26000000e-01]\n",
      "\n",
      "[-0.176 -0.352 -0.176]\n",
      "[-1.13877191e-17 -3.26000000e-01  1.13877191e-17]\n",
      "\n",
      "\n",
      "5\n",
      "[ 0.    -0.176 -0.176]\n",
      "[ 1.13877191e-17  1.13877191e-17 -3.26000000e-01]\n",
      "\n",
      "[ 0.    -0.352 -0.352]\n",
      "[-1.13877191e-17 -3.26000000e-01  1.13877191e-17]\n",
      "\n",
      "\n",
      "6\n",
      "[ 0.176  0.    -0.176]\n",
      "[ 1.13877191e-17  1.13877191e-17 -3.26000000e-01]\n",
      "\n",
      "[ 0.176 -0.176 -0.352]\n",
      "[-1.13877191e-17 -3.26000000e-01  1.13877191e-17]\n",
      "\n",
      "\n",
      "7\n",
      "[ 0.     0.176 -0.176]\n",
      "[ 1.13877191e-17  1.13877191e-17 -3.26000000e-01]\n",
      "\n",
      "[ 0.     0.    -0.352]\n",
      "[-1.13877191e-17 -3.26000000e-01  1.13877191e-17]\n",
      "\n",
      "\n",
      "8\n",
      "[-0.352  0.     0.   ]\n",
      "[ 1.13877191e-17  1.13877191e-17 -3.26000000e-01]\n",
      "\n",
      "[-0.352 -0.176 -0.176]\n",
      "[-1.13877191e-17 -3.26000000e-01  1.13877191e-17]\n",
      "\n",
      "\n",
      "9\n",
      "[-0.352  0.176 -0.176]\n",
      "[ 1.13877191e-17  1.13877191e-17 -3.26000000e-01]\n",
      "\n",
      "[-0.352  0.    -0.352]\n",
      "[-1.13877191e-17 -3.26000000e-01  1.13877191e-17]\n",
      "\n",
      "\n",
      "10\n",
      "[-0.352 -0.176  0.176]\n",
      "[ 1.13877191e-17  1.13877191e-17 -3.26000000e-01]\n",
      "\n",
      "[-0.352 -0.352  0.   ]\n",
      "[-1.13877191e-17 -3.26000000e-01  1.13877191e-17]\n",
      "\n",
      "\n",
      "11\n",
      "[-0.176 -0.176  0.352]\n",
      "[ 1.13877191e-17  1.13877191e-17 -3.26000000e-01]\n",
      "\n",
      "[-0.176 -0.352  0.176]\n",
      "[-1.13877191e-17 -3.26000000e-01  1.13877191e-17]\n",
      "\n",
      "\n",
      "12\n",
      "[ 0.176  0.352 -0.176]\n",
      "[ 1.13877191e-17  1.13877191e-17 -3.26000000e-01]\n",
      "\n",
      "[ 0.176  0.176 -0.352]\n",
      "[-1.13877191e-17 -3.26000000e-01  1.13877191e-17]\n",
      "\n",
      "\n"
     ]
    }
   ],
   "source": [
    "## we have to see what the omega1 jump network looks like, once we have weeded out the rotations and\n",
    "## origin state jumps\n",
    "\n",
    "# In the outputs, each set of six line corresponds to the following\n",
    "# First line: the symmetry group index of the jumps. All jumps are related by symmetry are stored\n",
    "# in the same list. Since Forward and Backward jumps have the same transition state energy, they are also\n",
    "# stored in the same list.\n",
    "# Second line : the initial location of the dumbbell relative to the solute atom\n",
    "# Third line : the initial orientation of the dumbbell\n",
    "# Then a blank line\n",
    "# Fifth line : the final location of the dumbbell relative to the solute atom\n",
    "# Sixth line : the final orientation vector of the dumbbell\n",
    "\n",
    "# These jumps need to be then compared with the jump types given in\n",
    "# Tucker et. al. (see begining of notebook for reference), and then migration energies \n",
    "# assigned accordingly later on.\n",
    "# All jumps that are grouped within the same symmetry group (indexed by the first number) - will\n",
    "# have the migration same energy.\n",
    "\n",
    "# Note that if every time a new pickle file is created by regenerating the onsager calculator, the indices\n",
    "# assigned to particular jump types may change and they have to be re-identified from Tucker et. al.\n",
    "\n",
    "for i, jlist in enumerate(onsagercalculator.jnet1):\n",
    "    if not i in rot_index and not i in origin_index:\n",
    "        jmp = jlist[0]\n",
    "        print(i)\n",
    "        print(np.dot(onsagercalculator.crys.lattice, jmp.state1.db.R))\n",
    "        print(pdbcontainer_Ni.iorlist[jmp.state1.db.iorind][1])\n",
    "        print()\n",
    "        print(np.dot(onsagercalculator.crys.lattice, jmp.state2.db.R))\n",
    "        print(pdbcontainer_Ni.iorlist[jmp.state2.db.iorind][1])\n",
    "        print()\n",
    "        print()"
   ]
  },
  {
   "cell_type": "code",
   "execution_count": 8,
   "metadata": {},
   "outputs": [
    {
     "name": "stdout",
     "output_type": "stream",
     "text": [
      "0\n",
      "[0. 0. 0.]\n",
      "[-1.13877191e-17 -1.13877191e-17  3.26000000e-01]\n",
      "\n",
      "[ 0.    -0.176  0.176]\n",
      "[ 1.13877191e-17  3.26000000e-01 -1.13877191e-17]\n",
      "\n",
      "\n",
      "1\n",
      "[0. 0. 0.]\n",
      "[3.26000000e-01 1.13877191e-17 1.13877191e-17]\n",
      "\n",
      "[0. 0. 0.]\n",
      "[-1.13877191e-17 -1.13877191e-17  3.26000000e-01]\n",
      "\n",
      "\n"
     ]
    }
   ],
   "source": [
    "# See the omega2 jnet\n",
    "\n",
    "# Next, we look at the mixed dumbbell jump network\n",
    "# The lines are printed in the same manner as in the previous cell.\n",
    "\n",
    "# Note that the mixed dumbbells contain the solute, and hence their initial sites are always at [0, 0, 0]\n",
    "\n",
    "# In the output, one jump type corresponds to the 90-degree roto-translation jump\n",
    "# The other jump type corresponds to on-site 90-degree rotation.\n",
    "\n",
    "# In mixed dumbbells, the orientation vector also always points towards the solute atom.\n",
    "# So, for omega2 jumps, c1=c2=1\n",
    "\n",
    "for i, jlist in enumerate(onsagercalculator.jnet2):\n",
    "    jmp = jlist[0]\n",
    "    print(i)\n",
    "    print(np.dot(onsagercalculator.crys.lattice, jmp.state1.db.R))\n",
    "    print(mdbcontainer_Ni.iorlist[jmp.state1.db.iorind][1])\n",
    "    print()\n",
    "    print(np.dot(onsagercalculator.crys.lattice, jmp.state2.db.R))\n",
    "    print(mdbcontainer_Ni.iorlist[jmp.state2.db.iorind][1])\n",
    "    print()\n",
    "    print()"
   ]
  },
  {
   "cell_type": "code",
   "execution_count": 9,
   "metadata": {},
   "outputs": [
    {
     "name": "stdout",
     "output_type": "stream",
     "text": [
      "[-0.176  0.     0.176]\n",
      "[ 1.13877191e-17  1.13877191e-17 -3.26000000e-01]\n",
      "\n",
      "[0. 0. 0.]\n",
      "[3.26000000e-01 1.13877191e-17 1.13877191e-17]\n"
     ]
    }
   ],
   "source": [
    "# Next, we take a look at our 90-degree roto-translational omega4-omega3 jumps\n",
    "# Since they have the same transition state energy, they are all grouped together in\n",
    "# the same list.\n",
    "\n",
    "# The first two lines are the complex state, and the next two line the mixed dumbbell state involved\n",
    "# in the omega4-3 jump.\n",
    "\n",
    "jmp43_0 = onsagercalculator.jnet43[0][0]  # The first index is the symmetry\n",
    "print(np.dot(onsagercalculator.crys.lattice, jmp43_0.state1.db.R))\n",
    "print(pdbcontainer_Ni.iorlist[jmp43_0.state1.db.iorind][1])\n",
    "print()\n",
    "print(np.dot(onsagercalculator.crys.lattice, jmp43_0.state2.db.R))\n",
    "print(mdbcontainer_Ni.iorlist[jmp43_0.state2.db.iorind][1])"
   ]
  },
  {
   "cell_type": "markdown",
   "metadata": {},
   "source": [
    "## First we evaluate the Ni-Cr system"
   ]
  },
  {
   "cell_type": "code",
   "execution_count": 10,
   "metadata": {},
   "outputs": [],
   "source": [
    "# set temperatures\n",
    "T_arr = np.arange(200, 1801, 50)\n",
    "Dconv=1e-2  # To convert all Transport coefficients to cm^2/s, since all lengths are nano-meters and\n",
    "            # attempt frequencies are in Thz."
   ]
  },
  {
   "cell_type": "code",
   "execution_count": 11,
   "metadata": {},
   "outputs": [],
   "source": [
    "vu0 = 4.48  # pure dumbbell jump attempt frequency\n",
    "vu2 = 4.92  # mixed dumbbell jump attempt frequency\n",
    "\n",
    "E_b_a = -0.11 # binding energy of a-type complex\n",
    "E_b_b = -0.11 # binding energy of b-type complex\n",
    "\n",
    "# Part 1: Energies and pre-factors of pure dumbbells.\n",
    "\n",
    "# predb0 - pure dumbbell formation entropy (from Tucker et. al.)\n",
    "# enedb0 - pure dumbbell formation energy\n",
    "\n",
    "# Note - there will be as many pure dumbbell energies and pre-factors as the\n",
    "# number of lists in pdbcontainer.symorlist, since this is the number of symmetry unique dumbbells\n",
    "# that can form.\n",
    "\n",
    "predb0, enedb0 = np.ones(1)*np.exp(12.7), np.array([4.07])\n",
    "\n",
    "# Part 2: The solute formation energy and prefactor\n",
    "# all our energies are computed relative to the solute, we set it to zero energy.\n",
    "preS, eneS = np.ones(1), np.zeros(1)\n",
    "\n",
    "\n",
    "# Part 3: Here, we need to assign the appropriate binding energies to the solute dumbbell complexes we\n",
    "# had identified earlier. For all the complexes, the binding energies are given in Table II of our GF paper.\n",
    "\n",
    "preSdb, eneSdb = np.ones(3), np.array([0., E_b_b,E_b_a])\n",
    "\n",
    "# Part 4: We add the mixed dumbbell binding energy to the pure dumbbell energy to get the mixed\n",
    "# dumbbell formation energy.\n",
    "predb2, enedb2 = np.ones(1), np.array([4.07 - 0.42])\n",
    "\n",
    "# Next, put in the transition state energies of the jumps.\n",
    "\n",
    "# Part 5: For omega0 jumps, the first type is roto-trans, the second is onsite rot.\n",
    "# We add the migration barrier from Tucker et. al. to the pure dumbbell energy to get the transition state\n",
    "# energy\n",
    "eneT0 = np.array([4.07 + 0.14, 4.07 + 0.92])\n",
    "\n",
    "# Part 6: For omega2 jumps, the first type is roto-trans, the second is onsite rot.\n",
    "# We add the migration barrier from Tucker et. al. to the MIXED dumbbell energy to get the transition state\n",
    "# energy. Note that in the case of Cr, the mixed dumbbell energy is 4.07 - 0.42.\n",
    "eneT2 = np.array([4.07 - 0.42 + 0.08, 4.07 - 0.42 + 0.75])\n",
    "\n",
    "# Part 7: For the omega4-3 jumps, we add the omega3 migration barrier to the mixed dumbbell formation\n",
    "# energy to get the transition state energy.\n",
    "eneT43 = np.array([4.07 - 0.42 + 0.31])\n",
    "\n",
    "# Part 8: The omega1 jump barriers\n",
    "\n",
    "# Here we assign the Transition state energies to the jump types we had identified earlier.\n",
    "eneT1 = np.zeros(len(onsagercalculator.jnet1))\n",
    "\n",
    "# from 14 to 25, we have on-site rotations - we assign the pure dumbbell\n",
    "# rotation transition state energies since no other values we indicated.\n",
    "eneT1[14:] = 4.07 + 0.92\n",
    "\n",
    "# Now, the roto-translation transition state energies.\n",
    "# These are assigned in the following manner: We have already identified in the previous cells which jumps in\n",
    "# our omega1 jump network corresponds to which type of jump in Tucker et. al.\n",
    "# We now add the corresponding migration barrier (from Tucker et. al.) to the formation energies of\n",
    "# the initial states of the corresponding jumps to get their transition state energies.\n",
    "eneT1[8:13] = 4.07 + 0.14\n",
    "\n",
    "eneT1[1] = 4.07 + E_b_b + 0.16\n",
    "eneT1[2] = np.inf\n",
    "eneT1[3] = 4.07 + E_b_a + 0.26\n",
    "eneT1[4] = 4.07 + E_b_b + 0.21\n",
    "eneT1[5] = 4.07 + E_b_a + 0.26\n",
    "eneT1[6] = 4.07 + E_b_a + 0.26\n",
    "eneT1[7] = 4.07 + E_b_a + 0.26\n",
    "\n",
    "# Next, make arrays to store transport coefficients\n",
    "# diff_aa_Cr : solute-solute (Cr-Cr) transport coefficient\n",
    "# diff_ab_Cr : solute-solvent (Cr-Ni) transport coefficient\n",
    "# diff_bb_non_loc_Cr : bare Ni-Ni dumbbell diffusivity.\n",
    "# diff_ab_Cr : solvent-solvent (Ni-Ni) transport coefficient - correction term due to\n",
    "# solute-solvent interaction\n",
    "\n",
    "diff_aa_Cr = np.zeros(len(T_arr))\n",
    "diff_ab_Cr = np.zeros(len(T_arr))\n",
    "diff_bb_Cr = np.zeros(len(T_arr))\n",
    "\n",
    "diff_bb_non_loc_Cr = np.zeros(len(T_arr))\n",
    "\n",
    "# Multipliers to pre-fractors\n",
    "# Every Ni hop is a w0 hop and will use TS0 and OL0 for migration barrier\n",
    "TS0 = 209.15\n",
    "OL0 = 209.51\n",
    "\n",
    "TS = 206.88\n",
    "OL = 204.79\n",
    "OLINF = 211.92\n",
    "\n",
    "for i, T in enumerate(T_arr):\n",
    "    kT = kB*T\n",
    "    m = np.pi*np.pi*kT/6.\n",
    "    multNi = m*(TS0 - OL0)\n",
    "    \n",
    "    # Compute electronic contributions to jump pre-factors using data from Tucker et. al.\n",
    "    # Every jump where Ni hops is treated as a w0 jump\n",
    "    preT0 = Dconv*vu0*np.ones(len(onsagercalculator.jnet0))*np.exp(multNi)\n",
    "    preT1 = Dconv*vu0*np.ones(len(onsagercalculator.jnet1))*np.exp(multNi)\n",
    "    preT43 = Dconv*vu0*np.ones(len(onsagercalculator.jnet43))*np.exp(multNi)    \n",
    "    preT2 = Dconv*vu2*np.ones(len(onsagercalculator.jnet2))*np.exp(m*(TS - OL))\n",
    "    \n",
    "    # convert the formation energies, Transition state energies and and pre-factors to beta(1/kT)*Free energy\n",
    "    bFdb0, bFdb2, bFS, bFSdb, bFT0, bFT1, bFT2, bFT3, bFT4 = \\\n",
    "        onsagercalculator.preene2betafree(kT, predb0, enedb0, preS, eneS, preSdb, eneSdb, predb2, enedb2,\n",
    "                                               preT0, eneT0, preT2, eneT2, preT1, eneT1, preT43, eneT43)\n",
    "    \n",
    "    # Next, Get the transport coefficients\n",
    "    L0bb, (L_uc_aa,L_c_aa), (L_uc_bb,L_c_bb), (L_uc_ab,L_c_ab)=\\\n",
    "    onsagercalculator.L_ij(bFdb0, bFT0, bFdb2, bFT2, bFS, bFSdb, bFT1, bFT3, bFT4)\n",
    "    \n",
    "    # Add the correlated and uncorrelated parts to get the total transport coefficient.\n",
    "    L_aa = L_uc_aa + L_c_aa\n",
    "    L_bb = L_uc_bb + L_c_bb\n",
    "    L_ab = L_uc_ab + L_c_ab\n",
    "    \n",
    "    diff_aa_Cr[i] = L_aa[0][0]\n",
    "    diff_bb_Cr[i] = L_bb[0][0]\n",
    "    diff_ab_Cr[i] = L_ab[0][0]\n",
    "    \n",
    "    diff_bb_non_loc_Cr[i] = L0bb[0][0]  # The bare dumbbell diffusivity"
   ]
  },
  {
   "cell_type": "markdown",
   "metadata": {},
   "source": [
    "## Next, we evaluate the Ni-Fe system\n",
    "\n",
    "For Ni-Fe, we follow the exact same procedure as Ni-Cr, by using data relevant to Ni-Fe from Tucker et. al. and Table II of our paper."
   ]
  },
  {
   "cell_type": "code",
   "execution_count": 12,
   "metadata": {},
   "outputs": [],
   "source": [
    "# 1.  First get the rates and thermodynamic data\n",
    "vu0 = 4.48\n",
    "vu2 = 4.14\n",
    "\n",
    "E_b_a = 0.06 # binding energy of a-type complex\n",
    "E_b_b = -0.02 # binding energy of b-type complex\n",
    "\n",
    "# Pure dumbbell Energies and pre-factors\n",
    "predb0, enedb0 = np.ones(1)*np.exp(12.7), np.array([4.07])\n",
    "\n",
    "preS, eneS = np.ones(1), np.zeros(1)\n",
    "\n",
    "# Next, binding energies and pre-factors for solutes-dumbbell complex states.\n",
    "# The first state is the origin state, the second one is AA||B and the last is AA(perp)B\n",
    "preSdb, eneSdb = np.ones(3), np.array([0., E_b_b, E_b_a])\n",
    "\n",
    "# Next, binding energies of mixed dumbbells.\n",
    "predb2, enedb2 = np.ones(1), np.array([4.07 + 0.11])\n",
    "\n",
    "# Transition state energies of omega0 jumps\n",
    "eneT0 = np.array([4.07 + 0.14, 4.07 + 0.92])\n",
    "\n",
    "# Transition state energies of omega2 jumps\n",
    "eneT2 = np.array([4.07 + 0.11 + 0.11, 4.07 + 0.11 + 0.87])\n",
    "\n",
    "# Transition state energies of omega43 jumps\n",
    "eneT43 = np.array([4.07 + 0.11 + 0.15])\n",
    "\n",
    "\n",
    "# For omega1, we first need to set rotation rates\n",
    "# All rotations are assumed to be with the same rate as bare dumbbell rotations (they are high energy paths \n",
    "# anyway)\n",
    "\n",
    "preT1 = Dconv*vu0*np.ones(len(onsagercalculator.jnet1))\n",
    "\n",
    "eneT1 = np.zeros(len(onsagercalculator.jnet1))\n",
    "# from 14 to 25, we have on-site rotations\n",
    "eneT1[14:] = 4.07 + 0.92\n",
    "# Now, the translation rates\n",
    "eneT1[8:13] = 4.07 + 0.14\n",
    "\n",
    "eneT1[1] = 4.07 + E_b_b + 0.15\n",
    "eneT1[2] = 4.07 + E_b_a + 0.16\n",
    "eneT1[3] = 4.07 + E_b_a + 0.14\n",
    "eneT1[4] = 4.07 + E_b_b + 0.17\n",
    "eneT1[5] = 4.07 + E_b_a + 0.14\n",
    "eneT1[6] = 4.07 + E_b_a + 0.14\n",
    "eneT1[7] = 4.07 + E_b_a + 0.14\n",
    "\n",
    "# Now, we set the temperatures\n",
    "# 1b. Now get the beta*free energy values.\n",
    "diff_aa_Fe = np.zeros(len(T_arr))\n",
    "diff_bb_Fe = np.zeros(len(T_arr))\n",
    "diff_ab_Fe = np.zeros(len(T_arr))\n",
    "diff_bb_non_loc_Fe = np.zeros(len(T_arr))\n",
    "\n",
    "\n",
    "# Every Ni hop is a w0 hop and will use TS0 and OL0 for migration barrier\n",
    "TS0 = 209.15\n",
    "OL0 = 209.51\n",
    "\n",
    "TS = 206.09\n",
    "OL = 206.85\n",
    "OLINF = 204.79\n",
    "\n",
    "for i, T in enumerate(T_arr):\n",
    "    kT = kB*T\n",
    "    \n",
    "    m = np.pi*np.pi*kT/6.\n",
    "    \n",
    "    multNi = m*(TS0 - OL0)\n",
    "    \n",
    "    # Every jump where Ni hops is treated as a w0 jump\n",
    "    preT0 = Dconv*vu0*np.ones(len(onsagercalculator.vkinetic.starset.jnet0))*np.exp(multNi)\n",
    "    preT1 = Dconv*vu0*np.ones(len(onsagercalculator.jnet1))*np.exp(multNi)\n",
    "    preT43 = Dconv*vu0*np.ones(len(onsagercalculator.jnet43))*np.exp(multNi)\n",
    "    \n",
    "    \n",
    "    preT2 = Dconv*vu2*np.ones(len(onsagercalculator.jnet2))*np.exp(m*(TS - OL))\n",
    "    \n",
    "    bFdb0, bFdb2, bFS, bFSdb, bFT0, bFT1, bFT2, bFT3, bFT4 = \\\n",
    "        onsagercalculator.preene2betafree(kT, predb0, enedb0, preS, eneS, preSdb, eneSdb, predb2, enedb2,\n",
    "                                               preT0, eneT0, preT2, eneT2, preT1, eneT1, preT43, eneT43)\n",
    "\n",
    "    L0bb, (L_uc_aa,L_c_aa), (L_uc_bb,L_c_bb), (L_uc_ab,L_c_ab)=\\\n",
    "    onsagercalculator.L_ij(bFdb0, bFT0, bFdb2, bFT2, bFS, bFSdb, bFT1, bFT3, bFT4)\n",
    "    \n",
    "    L_aa = L_uc_aa + L_c_aa\n",
    "    L_bb = L_uc_bb + L_c_bb\n",
    "    L_ab = L_uc_ab + L_c_ab\n",
    "    \n",
    "    diff_aa_Fe[i] = L_aa[0][0]\n",
    "    diff_bb_Fe[i] = L_bb[0][0]\n",
    "    diff_ab_Fe[i] = L_ab[0][0]\n",
    "    diff_bb_non_loc_Fe[i] = L0bb[0][0]"
   ]
  },
  {
   "cell_type": "markdown",
   "metadata": {},
   "source": [
    "## Next, we plot the Partial Diffusion Coefficient (PDC) Ratios.\n",
    "Since we are in the dilute limit, we ignore solute corrections to solvent-solvent diffusivity (see our paper)"
   ]
  },
  {
   "cell_type": "code",
   "execution_count": 16,
   "metadata": {},
   "outputs": [
    {
     "data": {
      "image/png": "[encoded data removed]",
      "text/plain": [
       "<Figure size 648x360 with 2 Axes>"
      ]
     },
     "metadata": {
      "needs_background": "light"
     },
     "output_type": "display_data"
    }
   ],
   "source": [
    "fig, [ax1, ax2] = plt.subplots(1, 2, figsize=(9, 5))\n",
    "\n",
    "ax1.semilogy(1000./T_arr, diff_ab_Fe/diff_bb_non_loc_Fe, label=r\"$X = Fe$\", linewidth=3, color=\"tab:blue\")\n",
    "ax1.set_xlabel(r'$\\dfrac{1000}{T}(K^{-1})$', fontsize=18)\n",
    "ax1.set_ylabel(r'$\\dfrac{L^{XNi}}{c_xL^{NiNi}}$', fontsize=20, rotation = 0, labelpad = 60)\n",
    "ax1.tick_params(labelsize=14)\n",
    "ax1.text(3.5, 0.3, \"X = Fe\", fontsize=16)\n",
    "\n",
    "ax2.semilogy(1000./T_arr, diff_ab_Cr/diff_bb_non_loc_Cr, label=r\"$X = Cr$\", linewidth=3, color=\"tab:blue\")\n",
    "ax2.set_xlabel(r'$\\dfrac{1000}{T}(K^{-1})$', fontsize=18)\n",
    "ax2.tick_params(which='both',labelsize=14)\n",
    "ax2.yaxis.set_minor_formatter(ticker.ScalarFormatter())\n",
    "\n",
    "ax2.text(3.5, 6.85, \"X = Cr\", fontsize=16)\n",
    "\n",
    "plt.tight_layout()\n",
    "plt.savefig(\"PDC_NiX.png\")"
   ]
  },
  {
   "cell_type": "markdown",
   "metadata": {},
   "source": [
    "## Next, we plot the drag ratios."
   ]
  },
  {
   "cell_type": "code",
   "execution_count": 17,
   "metadata": {},
   "outputs": [
    {
     "data": {
      "image/png": "[encoded data removed]",
      "text/plain": [
       "<Figure size 648x360 with 2 Axes>"
      ]
     },
     "metadata": {
      "needs_background": "light"
     },
     "output_type": "display_data"
    }
   ],
   "source": [
    "fig, [ax1, ax2] = plt.subplots(1, 2, figsize=(9, 5))\n",
    "\n",
    "ax1.plot(T_arr/1000., diff_ab_Fe/diff_aa_Fe, label=r\"$X = Fe$\", linewidth=3, color=\"tab:blue\")\n",
    "ax1.set_xlabel(r'$T(x10^3 K)$', fontsize=18)\n",
    "ax1.set_ylabel(r'$\\dfrac{L^{XNi}}{L^{XX}}$', fontsize=20, rotation = 0, labelpad = 60)\n",
    "ax1.text(1.3, 2.54, r'X = Fe', fontsize=16)\n",
    "ax1.tick_params(labelsize=14)\n",
    "\n",
    "ax2.plot(T_arr/1000., diff_ab_Cr/diff_aa_Cr, label=r\"$X = Cr$\", linewidth=3, color=\"tab:blue\")\n",
    "ax2.set_xlabel(r'$T(x10^3 K)$', fontsize=18)\n",
    "ax2.text(1.3, 2.32, r'X = Cr', fontsize=16)\n",
    "ax2.tick_params(labelsize=14)\n",
    "\n",
    "plt.tight_layout()\n",
    "plt.savefig(\"Drag_NiX.png\")"
   ]
  },
  {
   "cell_type": "code",
   "execution_count": null,
   "metadata": {},
   "outputs": [],
   "source": []
  }
 ],
 "metadata": {
  "kernelspec": {
   "display_name": "Python 3",
   "language": "python",
   "name": "python3"
  },
  "language_info": {
   "codemirror_mode": {
    "name": "ipython",
    "version": 3
   },
   "file_extension": ".py",
   "mimetype": "text/x-python",
   "name": "python",
   "nbconvert_exporter": "python",
   "pygments_lexer": "ipython3",
   "version": "3.6.9"
  }
 },
 "nbformat": 4,
 "nbformat_minor": 2
}
