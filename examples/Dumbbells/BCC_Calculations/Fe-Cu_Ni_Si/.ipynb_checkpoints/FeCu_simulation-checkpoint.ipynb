{
 "cells": [
  {
   "cell_type": "code",
   "execution_count": 1,
   "metadata": {},
   "outputs": [],
   "source": [
    "import sys\n",
    "sys.path.extend([\"../../../../\"])"
   ]
  },
  {
   "cell_type": "code",
   "execution_count": 2,
   "metadata": {},
   "outputs": [
    {
     "name": "stderr",
     "output_type": "stream",
     "text": [
      "/usr/local/lib/python3.6/dist-packages/onsager-1.3.3.1-py3.6.egg/onsager/cluster.py:804: NumbaDeprecationWarning: The 'numba.jitclass' decorator has moved to 'numba.experimental.jitclass' to better reflect the experimental nature of the functionality. Please update your imports to accommodate this change and see http://numba.pydata.org/numba-doc/latest/reference/deprecation.html#change-of-jitclass-location for the time frame.\n"
     ]
    }
   ],
   "source": [
    "import numpy as np\n",
    "\n",
    "from onsager.crystal import Crystal\n",
    "from onsager.OnsagerCalc import dumbbellMediated\n",
    "from onsager.crystal import DB_disp, DB_disp4, pureDBContainer, mixedDBContainer\n",
    "from onsager.DB_structs import dumbbell, SdPair, jump, connector\n",
    "\n",
    "from scipy.constants import physical_constants\n",
    "kB = physical_constants['Boltzmann constant in eV/K'][0]\n",
    "\n",
    "import pickle\n",
    "from matplotlib import pyplot as plt\n",
    "from collections import defaultdict\n",
    "from tqdm import tqdm"
   ]
  },
  {
   "cell_type": "code",
   "execution_count": 3,
   "metadata": {},
   "outputs": [
    {
     "name": "stdout",
     "output_type": "stream",
     "text": [
      "CPU times: user 8min 42s, sys: 4.34 s, total: 8min 46s\n",
      "Wall time: 8min 43s\n"
     ]
    }
   ],
   "source": [
    "%%time\n",
    "with open(\"Fe_Cu_Ni_Si.pkl\",\"rb\") as fl:\n",
    "    onsagercalculator = pickle.load(fl)"
   ]
  },
  {
   "cell_type": "code",
   "execution_count": 4,
   "metadata": {
    "scrolled": false
   },
   "outputs": [
    {
     "name": "stdout",
     "output_type": "stream",
     "text": [
      "0\n",
      "[-0.1782  0.1782  0.    ]\n",
      "[0. 0. 0.]\n",
      "\n",
      "1\n",
      "[-0.1782  0.     -0.1782]\n",
      "[ 0.14155 -0.14155 -0.14155]\n",
      "\n",
      "2\n",
      "[-0.1782  0.1782  0.    ]\n",
      "[ 0.14155 -0.14155  0.14155]\n",
      "\n",
      "3\n",
      "[-0.1782  0.1782  0.    ]\n",
      "[-0.2831  0.      0.    ]\n",
      "\n",
      "4\n",
      "[0.1782 0.1782 0.    ]\n",
      "[0.     0.     0.2831]\n",
      "\n",
      "5\n",
      "[-0.1782  0.1782  0.    ]\n",
      "[-0.2831 -0.2831  0.    ]\n",
      "\n",
      "6\n",
      "[-0.1782  0.1782  0.    ]\n",
      "[-0.2831  0.     -0.2831]\n",
      "\n",
      "7\n",
      "[ 0.     -0.1782 -0.1782]\n",
      "[ 0.     -0.2831 -0.2831]\n",
      "\n",
      "8\n",
      "[-0.1782  0.     -0.1782]\n",
      "[ 0.42465 -0.14155  0.14155]\n",
      "\n",
      "9\n",
      "[-0.1782  0.1782  0.    ]\n",
      "[-0.42465 -0.14155  0.14155]\n",
      "\n",
      "10\n",
      "[0.1782 0.1782 0.    ]\n",
      "[-0.14155  0.14155  0.42465]\n",
      "\n",
      "11\n",
      "[-0.1782  0.1782  0.    ]\n",
      "[ 0.14155 -0.14155  0.42465]\n",
      "\n",
      "12\n",
      "[ 0.     -0.1782  0.1782]\n",
      "[ 0.2831 -0.2831 -0.2831]\n",
      "\n",
      "13\n",
      "[0.1782 0.1782 0.    ]\n",
      "[ 0.2831  0.2831 -0.2831]\n",
      "\n",
      "14\n",
      "[ 0.     -0.1782  0.1782]\n",
      "[-0.42465  0.42465 -0.14155]\n",
      "\n",
      "15\n",
      "[ 0.     -0.1782  0.1782]\n",
      "[ 0.14155  0.42465 -0.42465]\n",
      "\n",
      "16\n",
      "[-0.1782  0.1782  0.    ]\n",
      "[-0.42465 -0.42465  0.14155]\n",
      "\n",
      "17\n",
      "[ 0.     -0.1782  0.1782]\n",
      "[-0.42465  0.42465  0.14155]\n",
      "\n",
      "18\n",
      "[-0.1782  0.     -0.1782]\n",
      "[-0.42465 -0.42465 -0.42465]\n",
      "\n",
      "19\n",
      "[-0.1782  0.     -0.1782]\n",
      "[-0.42465 -0.42465  0.42465]\n",
      "\n"
     ]
    }
   ],
   "source": [
    "count = 0\n",
    "for star in onsagercalculator.thermo.stars[:onsagercalculator.thermo.mixedstartindex]:\n",
    "    print(count)\n",
    "    db = star[0].db\n",
    "    print(np.round(onsagercalculator.pdbcontainer.iorlist[db.iorind][1], decimals=4)+0.)\n",
    "    print(np.dot(onsagercalculator.crys.lattice, db.R))\n",
    "    print()\n",
    "    count += 1"
   ]
  },
  {
   "cell_type": "code",
   "execution_count": 5,
   "metadata": {},
   "outputs": [],
   "source": [
    "# Identify the complex states from Messina et. al. and assign corresponding labels.\n",
    "name_to_themo_star = {\"1nnA\":1, \"1nnB\":2, \"2nnA\":4, \"2nnB\":3,\"3nnA\":5,\"3nnB\":6,\"3nnC\":7,\n",
    "       \"4nnA\":10,\"4nnB\":11,\"4nnC\":8, \"4nnD\":9, \"5nnA\":12, \"5nnB\":13}"
   ]
  },
  {
   "cell_type": "code",
   "execution_count": 6,
   "metadata": {},
   "outputs": [
    {
     "data": {
      "text/plain": [
       "{'1nnA_2nnA': [4],\n",
       " '1nnA_2nnB': [7],\n",
       " '1nnA_3nnB': [6],\n",
       " '1nnA_3nnC': [3],\n",
       " '1nnB_2nnB': [2],\n",
       " '1nnB_3nnB': [1],\n",
       " '1nnB_5nnB': [5],\n",
       " '2nnA_4nnC': [9],\n",
       " '2nnB_4nnB': [10],\n",
       " '2nnB_4nnC': [8]}"
      ]
     },
     "execution_count": 6,
     "metadata": {},
     "output_type": "execute_result"
    }
   ],
   "source": [
    "# sorting out the jumps with the nomenclatures\n",
    "jmpdict = {\"1nnA_2nnA\":[], \"1nnA_2nnB\":[], \"1nnA_3nnB\":[], \"1nnA_3nnC\":[], \"1nnB_2nnB\":[], \"1nnB_3nnB\":[],\n",
    "          \"1nnB_5nnB\":[], \"2nnA_4nnC\":[], \"2nnB_4nnB\":[], \"2nnB_4nnC\":[]}\n",
    "# Now identify the jumps and put them into the dictionaries\n",
    "for jlistind, jlist in enumerate(onsagercalculator.jnet1):\n",
    "    jmp = jlist[0]\n",
    "    state1 = jmp.state1\n",
    "    state2 = jmp.state2\n",
    "    # if rigid jump, then continue\n",
    "    if jmp.state1.db.iorind == jmp.state2.db.iorind:\n",
    "        continue\n",
    "    star1 = onsagercalculator.kinetic.complexIndexdict[state1][1]\n",
    "    star2 = onsagercalculator.kinetic.complexIndexdict[state2][1]\n",
    "    \n",
    "    if star1 in onsagercalculator.thermo2kin and star2 in onsagercalculator.thermo2kin:\n",
    "        thermo_star1 = onsagercalculator.thermo.complexIndexdict[state1][1]\n",
    "        thermo_star2 = onsagercalculator.thermo.complexIndexdict[state2][1]\n",
    "        name1 = \"\"\n",
    "        name2 = \"\"\n",
    "        #Now see which categories the states belong to\n",
    "        star1found = False\n",
    "        count1 = 0\n",
    "        star2found = False\n",
    "        count2 = 0\n",
    "        for (key, value) in name_to_themo_star.items():\n",
    "            if thermo_star1==value:\n",
    "                star1found = True\n",
    "                count1 += 1\n",
    "                name1 = key\n",
    "            if thermo_star2==value:\n",
    "                star2found = True\n",
    "                count2 += 1\n",
    "                name2 = key\n",
    "        # just to ensure we don't have any multiple counting.\n",
    "        if count1>1:\n",
    "            print(thermo_star1)\n",
    "        if count2>1:\n",
    "            print(thermo_star2)\n",
    "        # Now concatenate names\n",
    "        jname = name1+\"_\"+name2\n",
    "        jnameRev = name2+\"_\"+name1\n",
    "        try:\n",
    "            jmpdict[jname].append(jlistind)\n",
    "        except:\n",
    "            try:\n",
    "                # maybe the jump we have is the reverse of what we stored as the label in the dictionary?\n",
    "                jmpdict[jnamerev].append(jlistind)\n",
    "            \n",
    "            except:    \n",
    "                continue\n",
    "\n",
    "jmpdict"
   ]
  },
  {
   "cell_type": "code",
   "execution_count": 7,
   "metadata": {},
   "outputs": [],
   "source": [
    "name_to_en = {\n",
    "\"1nnA\":-2076.29355226,\n",
    "\"1nnB\":-2076.17073296,\n",
    "\"2nnA\":-2076.20528052,\n",
    "\"2nnB\":-2076.17035469,\n",
    "\"3nnA\":-2076.12268221,\n",
    "\"3nnB\":-2076.16878248,\n",
    "\"3nnC\":-2076.20430949,\n",
    "\"4nnA\":-2076.11727877,\n",
    "\"4nnB\":-2076.17973527,\n",
    "\"4nnC\":-2076.15460157,\n",
    "\"5nnA\":-2076.15807100,\n",
    "\"5nnB\":-2076.12315570\n",
    "}"
   ]
  },
  {
   "cell_type": "code",
   "execution_count": 8,
   "metadata": {},
   "outputs": [],
   "source": [
    "E_sup_pdb = -2081.44451396\n",
    "E_sup_solute = -2071.87878154 \n",
    "E_bulk = -2077.21734574\n",
    "E_f_pdb = 4.081701163\n",
    "name_to_Ef = defaultdict(float)\n",
    "for (key, E_IB) in name_to_en.items():\n",
    "    # get the binding energy first\n",
    "    Eb = -E_IB + E_sup_pdb + E_sup_solute - E_bulk\n",
    "    # Next, get the formation energy (relative to solute formation energy)\n",
    "    name_to_Ef[key] = E_f_pdb - Eb\n",
    "name_to_Ef[\"4nnD\"] = E_f_pdb"
   ]
  },
  {
   "cell_type": "code",
   "execution_count": 9,
   "metadata": {},
   "outputs": [
    {
     "data": {
      "text/plain": [
       "(4.461859783000202, 0.38015862000020206)"
      ]
     },
     "execution_count": 9,
     "metadata": {},
     "output_type": "execute_result"
    }
   ],
   "source": [
    "# The complex energies are set. Now, we set the mixed dumbbell energies\n",
    "E_b_mdb = 2075.72579114 + E_sup_pdb + E_sup_solute - E_bulk\n",
    "E_f_mdb = E_f_pdb - E_b_mdb\n",
    "E_f_mdb, E_f_mdb-E_f_pdb"
   ]
  },
  {
   "cell_type": "code",
   "execution_count": 10,
   "metadata": {},
   "outputs": [],
   "source": [
    "# J_3_1nnA_2nnA   -2075.9362\n",
    "# J_3_1nnA_2nnB   -2075.9725\n",
    "# J_3_1nnA_3nnB   -2075.9056\n",
    "# J_3_1nnA_3nnC   -2075.9349\n",
    "# J_3_1nnB_2nnB   -2075.8653\n",
    "# J_3_1nnB_3nnB   -2075.8672\n",
    "# J_3_1nnB_5nnB   -2075.8141\n",
    "# J_3_2nnA_4nnC   -2075.8528\n",
    "# J_3_2nnB_4nnB   -2075.9148\n",
    "# J_3_2nnB_4nnC   -2075.8685\n",
    "\n",
    "Jname_2_TS_en = {\"1nnA_2nnA\": -2075.9362, \"1nnA_2nnB\": -2075.9725, \"1nnA_3nnB\": -2075.9056,\n",
    "                 \"1nnA_3nnC\": -2075.9349, \"1nnB_2nnB\": -2075.8653, \"1nnB_3nnB\": -2075.8672,\n",
    "                 \"1nnB_5nnB\": -2075.8141, \"2nnA_4nnC\": -2075.8528, \"2nnB_4nnB\": -2075.9148, \n",
    "                 \"2nnB_4nnC\": -2075.8685}"
   ]
  },
  {
   "cell_type": "code",
   "execution_count": 11,
   "metadata": {},
   "outputs": [],
   "source": [
    "# Now, we have to find the TS energies.\n",
    "Jname_2_ef_ts = defaultdict(float)\n",
    "for (key, E_IB) in Jname_2_TS_en.items():\n",
    "    Eb = -E_IB + E_sup_pdb + E_sup_solute - E_bulk\n",
    "    # Next, get the formation energy (relative to solute formation energy)\n",
    "    Jname_2_ef_ts[key] = E_f_pdb - Eb"
   ]
  },
  {
   "cell_type": "code",
   "execution_count": 12,
   "metadata": {},
   "outputs": [
    {
     "data": {
      "text/plain": [
       "defaultdict(float,\n",
       "            {'1nnA_2nnA': 0.35735225999997056,\n",
       "             '1nnA_2nnB': 0.32105226000021503,\n",
       "             '1nnA_3nnB': 0.38795226000002003,\n",
       "             '1nnA_3nnC': 0.3586522599998716,\n",
       "             '1nnB_2nnB': 0.3054329599999619,\n",
       "             '1nnB_3nnB': 0.3035329599997567,\n",
       "             '1nnB_5nnB': 0.35663295999984257,\n",
       "             '2nnA_4nnC': 0.3524805199999719,\n",
       "             '2nnB_4nnB': 0.2555546899998262,\n",
       "             '2nnB_4nnC': 0.30185468999980003})"
      ]
     },
     "execution_count": 12,
     "metadata": {},
     "output_type": "execute_result"
    }
   ],
   "source": [
    "Jname_2_mig = defaultdict(float)\n",
    "for (key, TS_en) in Jname_2_ef_ts.items():\n",
    "    initstar = key[:4]\n",
    "    Jname_2_mig[key] = TS_en - name_to_Ef[initstar]\n",
    "Jname_2_mig"
   ]
  },
  {
   "cell_type": "code",
   "execution_count": 13,
   "metadata": {},
   "outputs": [
    {
     "name": "stdout",
     "output_type": "stream",
     "text": [
      "4.825750923000507 4.461859783000202\n",
      "0.3638911400003053 0.4449418199997126\n"
     ]
    }
   ],
   "source": [
    "# omega2 and omega43 Johnson jumps\n",
    "E_IB_43, E_IB_2 = -2075.72579114, -2075.3619\n",
    "Eb_43, Eb_2 = -E_IB_43 + E_sup_pdb + E_sup_solute - E_bulk, -E_IB_2 + E_sup_pdb + E_sup_solute - E_bulk \n",
    "# Next, get the formation energy (relative to solute formation energy)\n",
    "ef_ts_43 = E_f_pdb - Eb_43\n",
    "ef_ts_2 = E_f_pdb - Eb_2\n",
    "print(ef_ts_2, ef_ts_43)\n",
    "print(ef_ts_2-E_f_mdb, ef_ts_43 - name_to_Ef[\"1nnB\"])"
   ]
  },
  {
   "cell_type": "code",
   "execution_count": 14,
   "metadata": {},
   "outputs": [
    {
     "name": "stdout",
     "output_type": "stream",
     "text": [
      "0.3684911400000601\n",
      "2\n"
     ]
    }
   ],
   "source": [
    "# omega2 rigid translation\n",
    "E_IB_2_rigid = -2075.3573\n",
    "Eb_2_rigid = -E_IB_2_rigid + E_sup_pdb + E_sup_solute - E_bulk\n",
    "ef_ts_2_rigid = E_f_pdb - Eb_2_rigid\n",
    "print(ef_ts_2_rigid-E_f_mdb)\n",
    "print(len(onsagercalculator.jnet2))"
   ]
  },
  {
   "cell_type": "code",
   "execution_count": 15,
   "metadata": {},
   "outputs": [],
   "source": [
    "temp = []\n",
    "pdcr = []\n",
    "with open(\"PDC_ratio_Cu.dat\", \"r\") as fl:\n",
    "    for line in fl:\n",
    "        arr = line.split()\n",
    "        temp.append(float(arr[0]))\n",
    "        pdcr.append(float(arr[1]))\n",
    "temp = np.array(temp)\n",
    "pdcr = np.array(pdcr)\n",
    "\n",
    "drag = []\n",
    "with open(\"DragRatio_Cu.dat\", \"r\") as fl:\n",
    "    for line in fl:\n",
    "        arr = line.split()\n",
    "        drag.append(float(arr[0]))\n",
    "\n",
    "drag = np.array(drag)"
   ]
  },
  {
   "cell_type": "markdown",
   "metadata": {},
   "source": [
    "## Cu calculations"
   ]
  },
  {
   "cell_type": "code",
   "execution_count": 16,
   "metadata": {},
   "outputs": [],
   "source": [
    "vu0 = 4.4447\n",
    "vu2 = 2.6848\n",
    "Dconv=1e-2\n",
    "# Need to change the way we are dealing with mdbs to be able to change the pre-factors with consistent results.\n",
    "\n",
    "predb0, enedb0 = np.ones(1)*np.exp(0.05), np.array([E_f_pdb])\n",
    "\n",
    "# We'll measure every formation energy relative to the solute formation energy.\n",
    "preS, eneS = np.ones(1), np.array([0.0])\n",
    "\n",
    "# Next, interaction or the excess energies and pre-factors for solutes and dumbbells.\n",
    "preSdb, eneSdb = np.ones(onsagercalculator.thermo.mixedstartindex), \\\n",
    "                 np.zeros(onsagercalculator.thermo.mixedstartindex)\n",
    "# Now, we go over the necessary stars and assign interaction energies\n",
    "for (key, index) in name_to_themo_star.items():\n",
    "    eneSdb[index] = name_to_Ef[key] - E_f_pdb\n",
    "\n",
    "predb2, enedb2 = np.ones(1), np.array([E_f_mdb])\n",
    "\n",
    "# Transition state energies - For omega0, omega2 and omega43, the first type is the Johnson jump,\n",
    "# and the second one is the Rigid jump.\n",
    "\n",
    "# Omega0 TS eneriges\n",
    "preT0, eneT0 = Dconv*vu0*np.ones(1), np.array([E_f_pdb+0.335115123, E_f_pdb + 0.61091396, E_f_pdb+0.784315123])\n",
    "\n",
    "# Omega2 TS energies\n",
    "Nj2 = len(onsagercalculator.jnet2)\n",
    "preT2, eneT2 = Dconv*vu2*np.ones(Nj2), np.array([ef_ts_2, ef_ts_2_rigid])\n",
    "\n",
    "# Omega43 TS energies\n",
    "preT43, eneT43 = Dconv*vu0*np.ones(1), np.array([ef_ts_43])\n",
    "\n",
    "# Omega1 TS energies - need to be careful here\n",
    "preT1 = Dconv*vu0*np.ones(len(onsagercalculator.jnet1))\n",
    "eneT1 = np.array([eneT0[i] for i in onsagercalculator.om1types])\n",
    "# Now, we go over the jumps that are provided and make the necessary changes\n",
    "for (key, index) in jmpdict.items():\n",
    "    eneT1[index] = Jname_2_ef_ts[key]\n",
    "eneT1[0] = 0.0"
   ]
  },
  {
   "cell_type": "code",
   "execution_count": 18,
   "metadata": {},
   "outputs": [
    {
     "name": "stderr",
     "output_type": "stream",
     "text": [
      "100%|██████████| 381/381 [26:57<00:00,  4.25s/it]\n"
     ]
    }
   ],
   "source": [
    "diff_aa_Cu = np.zeros(len(temp))\n",
    "diff_ab_Cu = np.zeros(len(temp))\n",
    "diff_bb_Cu = np.zeros(len(temp))\n",
    "diff_bb_non_loc = np.zeros(len(temp))\n",
    "\n",
    "for i in tqdm(range(len(temp)), position=0, leave=True):\n",
    "    T = temp[i]\n",
    "    kT = kB*T\n",
    "    bFdb0, bFdb2, bFS, bFSdb, bFT0, bFT1, bFT2, bFT3, bFT4 = \\\n",
    "        onsagercalculator.preene2betafree(kT, predb0, enedb0, preS, eneS, preSdb, eneSdb, predb2, enedb2,\n",
    "                                               preT0, eneT0, preT2, eneT2, preT1, eneT1, preT43, eneT43)\n",
    "\n",
    "    # get the probabilities and other data from L_ij\n",
    "    L0bb, (L_uc_aa,L_c_aa), (L_uc_bb,L_c_bb), (L_uc_ab,L_c_ab)=\\\n",
    "    onsagercalculator.L_ij(bFdb0, bFT0, bFdb2, bFT2, bFS, bFSdb, bFT1, bFT3, bFT4)\n",
    "    \n",
    "    L_aa = L_uc_aa + L_c_aa\n",
    "    L_bb = L_uc_bb + L_c_bb\n",
    "    L_ab = L_uc_ab + L_c_ab\n",
    "    \n",
    "    diff_aa_Cu[i] = L_aa[0][0]\n",
    "    diff_ab_Cu[i] = L_ab[0][0]\n",
    "    diff_bb_Cu[i] = L_bb[0][0]\n",
    "    diff_bb_non_loc[i] = L0bb[0][0]"
   ]
  },
  {
   "cell_type": "code",
   "execution_count": 20,
   "metadata": {},
   "outputs": [
    {
     "data": {
      "text/plain": [
       "<matplotlib.legend.Legend at 0x7f5ebb4c4208>"
      ]
     },
     "execution_count": 20,
     "metadata": {},
     "output_type": "execute_result"
    },
    {
     "data": {
      "image/png": "[encoded data removed]",
      "text/plain": [
       "<Figure size 504x576 with 1 Axes>"
      ]
     },
     "metadata": {
      "needs_background": "light"
     },
     "output_type": "display_data"
    }
   ],
   "source": [
    "plt.figure(figsize=(7,8))\n",
    "\n",
    "plt.semilogy(1/temp, diff_ab_Cu/(diff_bb_non_loc), label=\"Calculated\", linewidth=2)\n",
    "plt.semilogy(1/temp, pdcr, linewidth=2, label=\"Schuler et. al.\")\n",
    "\n",
    "plt.xlabel(r\"1/T (K$^{-1}$)\", fontsize=18)\n",
    "plt.ylabel(r\"$\\frac{L_{Cu-Fe_i}}{L_{Fe_i-Fe_i}}$\", fontsize=30, rotation = 0, labelpad=50)\n",
    "# plt.legend(loc=\"best\", fontsize=16)\n",
    "# plt.ticklabel_format(style='sci', axis='x', scilimits=(0,0))\n",
    "plt.xticks(fontsize=16, rotation = 30)\n",
    "plt.yticks(fontsize=16)\n",
    "# plt.xlim(400, 1301)\n",
    "plt.tight_layout()\n",
    "plt.legend(loc='upper right',fontsize=14)\n",
    "# plt.savefig(\"pdcr_Cu_Fe_log.png\")"
   ]
  },
  {
   "cell_type": "code",
   "execution_count": 21,
   "metadata": {},
   "outputs": [
    {
     "data": {
      "text/plain": [
       "<matplotlib.legend.Legend at 0x7f5eb8f95208>"
      ]
     },
     "execution_count": 21,
     "metadata": {},
     "output_type": "execute_result"
    },
    {
     "data": {
      "image/png": "[encoded data removed]",
      "text/plain": [
       "<Figure size 504x576 with 1 Axes>"
      ]
     },
     "metadata": {
      "needs_background": "light"
     },
     "output_type": "display_data"
    }
   ],
   "source": [
    "plt.figure(figsize=(7,8))\n",
    "\n",
    "plt.semilogy(temp, diff_ab_Cu/(diff_aa_Cu), label=\"Calculated\", linewidth=2)\n",
    "plt.semilogy(temp, drag, linewidth=2, label=\"Schuler et. al.\")\n",
    "\n",
    "plt.xlabel(r\"1/T (K$^{-1}$)\", fontsize=18)\n",
    "plt.ylabel(r\"$\\frac{L_{Cu-Fe_i}}{L_{Fe_i-Fe_i}}$\", fontsize=30, rotation = 0, labelpad=50)\n",
    "# plt.legend(loc=\"best\", fontsize=16)\n",
    "# plt.ticklabel_format(style='sci', axis='x', scilimits=(0,0))\n",
    "plt.xticks(fontsize=16, rotation = 30)\n",
    "plt.yticks(fontsize=16)\n",
    "# plt.xlim(400, 1301)\n",
    "plt.tight_layout()\n",
    "plt.legend(loc='upper right',fontsize=14)\n",
    "# plt.savefig(\"pdcr_Cu_Fe_log.png\")"
   ]
  },
  {
   "cell_type": "code",
   "execution_count": 22,
   "metadata": {},
   "outputs": [],
   "source": [
    "import h5py\n",
    "with h5py.File(\"Cu_data.h5\",\"w\") as fl:\n",
    "    fl.create_dataset(\"diff_aa\", data=diff_aa_Cu)\n",
    "    fl.create_dataset(\"diff_ab\", data=diff_ab_Cu)\n",
    "    fl.create_dataset(\"diff_bb_nl\", data=diff_bb_non_loc)\n",
    "    fl.create_dataset(\"diff_bb\", data=diff_bb_Cu)\n",
    "    fl.create_dataset(\"Temp\", data=temp)"
   ]
  },
  {
   "cell_type": "code",
   "execution_count": 23,
   "metadata": {},
   "outputs": [],
   "source": [
    "# Now let's do the infinite temeperature limit\n",
    "kT = np.inf\n",
    "bFdb0, bFdb2, bFS, bFSdb, bFT0, bFT1, bFT2, bFT3, bFT4 = \\\n",
    "    onsagercalculator.preene2betafree(kT, predb0, enedb0, preS, eneS, preSdb, eneSdb, predb2, enedb2,\n",
    "                                           preT0, eneT0, preT2, eneT2, preT1, eneT1, preT43, eneT43)\n",
    "#     bFdicts[i] = [bFdb0, bFdb2, bFS, bFSdb, bFT0, bFT1, bFT2, bFT3, bFT4]\n",
    "# get the probabilities and other data from L_ij\n",
    "L0bb, (L_uc_aa,L_c_aa), (L_uc_bb,L_c_bb), (L_uc_ab,L_c_ab)=\\\n",
    "onsagercalculator.L_ij(bFdb0, bFT0, bFdb2, bFT2, bFS, bFSdb, bFT1, bFT3, bFT4)\n",
    "\n",
    "L_aa = L_uc_aa + L_c_aa\n",
    "L_bb = L_uc_bb + L_c_bb\n",
    "L_ab = L_uc_ab + L_c_ab"
   ]
  },
  {
   "cell_type": "code",
   "execution_count": 24,
   "metadata": {},
   "outputs": [
    {
     "data": {
      "text/plain": [
       "2.255424407906792"
      ]
     },
     "execution_count": 24,
     "metadata": {},
     "output_type": "execute_result"
    }
   ],
   "source": [
    "L_ab[0][0]/L_aa[0][0]"
   ]
  },
  {
   "cell_type": "code",
   "execution_count": null,
   "metadata": {},
   "outputs": [],
   "source": []
  }
 ],
 "metadata": {
  "kernelspec": {
   "display_name": "Python 3",
   "language": "python",
   "name": "python3"
  },
  "language_info": {
   "codemirror_mode": {
    "name": "ipython",
    "version": 3
   },
   "file_extension": ".py",
   "mimetype": "text/x-python",
   "name": "python",
   "nbconvert_exporter": "python",
   "pygments_lexer": "ipython3",
   "version": "3.6.9"
  }
 },
 "nbformat": 4,
 "nbformat_minor": 2
}
