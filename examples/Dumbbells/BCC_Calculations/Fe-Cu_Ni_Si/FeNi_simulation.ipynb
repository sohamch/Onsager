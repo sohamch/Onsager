{
 "cells": [
  {
   "cell_type": "code",
   "execution_count": 1,
   "metadata": {},
   "outputs": [],
   "source": [
    "import sys\n",
    "sys.path.extend([\"../../../../\"])"
   ]
  },
  {
   "cell_type": "code",
   "execution_count": 2,
   "metadata": {},
   "outputs": [
    {
     "name": "stderr",
     "output_type": "stream",
     "text": [
      "/usr/local/lib/python3.6/dist-packages/onsager-1.3.3.1-py3.6.egg/onsager/cluster.py:804: NumbaDeprecationWarning: The 'numba.jitclass' decorator has moved to 'numba.experimental.jitclass' to better reflect the experimental nature of the functionality. Please update your imports to accommodate this change and see http://numba.pydata.org/numba-doc/latest/reference/deprecation.html#change-of-jitclass-location for the time frame.\n"
     ]
    }
   ],
   "source": [
    "import numpy as np\n",
    "\n",
    "from onsager.crystal import Crystal\n",
    "from onsager.OnsagerCalc import dumbbellMediated\n",
    "from onsager.crystal import DB_disp, DB_disp4, pureDBContainer, mixedDBContainer\n",
    "from onsager.DB_structs import dumbbell, SdPair, jump, connector\n",
    "\n",
    "from scipy.constants import physical_constants\n",
    "kB = physical_constants['Boltzmann constant in eV/K'][0]\n",
    "\n",
    "import pickle\n",
    "from matplotlib import pyplot as plt\n",
    "from collections import defaultdict\n",
    "from tqdm import tqdm"
   ]
  },
  {
   "cell_type": "code",
   "execution_count": 3,
   "metadata": {},
   "outputs": [
    {
     "name": "stdout",
     "output_type": "stream",
     "text": [
      "CPU times: user 8min 46s, sys: 4.24 s, total: 8min 50s\n",
      "Wall time: 8min 46s\n"
     ]
    }
   ],
   "source": [
    "%%time\n",
    "with open(\"Fe_Cu_Ni_Si.pkl\",\"rb\") as fl:\n",
    "    onsagercalculator = pickle.load(fl)"
   ]
  },
  {
   "cell_type": "code",
   "execution_count": 4,
   "metadata": {},
   "outputs": [],
   "source": [
    "# For identification of thermodynamic stars, see the notebook for Fe-Cu\n",
    "name_to_themo_star = {\"1nnA\":1, \"1nnB\":2, \"2nnA\":4, \"2nnB\":3,\"3nnA\":5,\"3nnB\":6,\"3nnC\":7,\n",
    "       \"4nnA\":10,\"4nnB\":11,\"4nnC\":8, \"4nnD\":9, \"5nnA\":12, \"5nnB\":13}"
   ]
  },
  {
   "cell_type": "code",
   "execution_count": 5,
   "metadata": {},
   "outputs": [
    {
     "data": {
      "text/plain": [
       "{'1nnA_2nnA': [4],\n",
       " '1nnA_2nnB': [7],\n",
       " '1nnA_3nnB': [6],\n",
       " '1nnA_3nnC': [3],\n",
       " '1nnB_2nnB': [2],\n",
       " '1nnB_3nnB': [1],\n",
       " '1nnB_5nnB': [5],\n",
       " '2nnA_4nnC': [9],\n",
       " '2nnB_4nnB': [10],\n",
       " '2nnB_4nnC': [8]}"
      ]
     },
     "execution_count": 5,
     "metadata": {},
     "output_type": "execute_result"
    }
   ],
   "source": [
    "# sorting out the jumps with the nomenclatures\n",
    "jmpdict = {\"1nnA_2nnA\":[], \"1nnA_2nnB\":[], \"1nnA_3nnB\":[], \"1nnA_3nnC\":[], \"1nnB_2nnB\":[], \"1nnB_3nnB\":[],\n",
    "          \"1nnB_5nnB\":[], \"2nnA_4nnC\":[], \"2nnB_4nnB\":[], \"2nnB_4nnC\":[]}\n",
    "# Now identify the jumps and put them into the dictionaries\n",
    "for jlistind, jlist in enumerate(onsagercalculator.jnet1):\n",
    "    jmp = jlist[0]\n",
    "    state1 = jmp.state1\n",
    "    state2 = jmp.state2\n",
    "    # if rigid jump, then continue\n",
    "    if jmp.state1.db.iorind == jmp.state2.db.iorind:\n",
    "        continue\n",
    "    star1 = onsagercalculator.kinetic.complexIndexdict[state1][1]\n",
    "    star2 = onsagercalculator.kinetic.complexIndexdict[state2][1]\n",
    "    \n",
    "    if star1 in onsagercalculator.thermo2kin and star2 in onsagercalculator.thermo2kin:\n",
    "        thermo_star1 = onsagercalculator.thermo.complexIndexdict[state1][1]\n",
    "        thermo_star2 = onsagercalculator.thermo.complexIndexdict[state2][1]\n",
    "        name1 = \"\"\n",
    "        name2 = \"\"\n",
    "        #Now see which categories the states belong to\n",
    "        star1found = False\n",
    "        count1 = 0\n",
    "        star2found = False\n",
    "        count2 = 0\n",
    "        for (key, value) in name_to_themo_star.items():\n",
    "            if thermo_star1==value:\n",
    "                star1found = True\n",
    "                count1 += 1\n",
    "                name1 = key\n",
    "            if thermo_star2==value:\n",
    "                star2found = True\n",
    "                count2 += 1\n",
    "                name2 = key\n",
    "        # just to ensure we don't have any multiple counting business going on.\n",
    "        if count1>1:\n",
    "            print(thermo_star1)\n",
    "        if count2>1:\n",
    "            print(thermo_star2)\n",
    "        # Now concatenate names\n",
    "        jname = name1+\"_\"+name2\n",
    "        jnameRev = name2+\"_\"+name1\n",
    "        try:\n",
    "            jmpdict[jname].append(jlistind)\n",
    "        except:\n",
    "            try:\n",
    "                # maybe the jump we have is the reverse of what we stored as the label in the dictionary?\n",
    "                jmpdict[jnamerev].append(jlistind)\n",
    "            \n",
    "            except:    \n",
    "                continue\n",
    "\n",
    "jmpdict"
   ]
  },
  {
   "cell_type": "code",
   "execution_count": 6,
   "metadata": {},
   "outputs": [],
   "source": [
    "E_f_pdb = 4.081701163\n",
    "name_to_en = {\"1nnA\": -2078.60753537,\"1nnB\": -2078.65632730,\"2nnA\": -2078.54414323,\"2nnB\": -2078.61878894,\n",
    "              \"3nnA\": -2078.56041027,\"3nnB\": -2078.58731551,\"3nnC\": -2078.55617904,\"4nnA\": -2078.57491324,\n",
    "              \"4nnB\": -2078.61805864,\"4nnC\": -2078.59907718,\"5nnA\": -2078.60270459,\"5nnB\": -2078.56758108}"
   ]
  },
  {
   "cell_type": "code",
   "execution_count": 8,
   "metadata": {},
   "outputs": [],
   "source": [
    "E_sup_pdb = -2081.44451396\n",
    "E_sup_solute = -2074.36428964 \n",
    "E_bulk = -2077.21734574  #E_bulk is the same as E_ref\n",
    "name_to_Ef = defaultdict(float)\n",
    "for (key, E_IB) in name_to_en.items():\n",
    "    # get the binding energy first\n",
    "    Eb = -E_IB + E_sup_pdb + E_sup_solute - E_bulk\n",
    "    # Next, get the formation energy (relative to solute formation energy)\n",
    "    name_to_Ef[key] = E_f_pdb - Eb\n",
    "name_to_Ef[\"4nnD\"] = E_f_pdb"
   ]
  },
  {
   "cell_type": "code",
   "execution_count": 9,
   "metadata": {},
   "outputs": [
    {
     "data": {
      "text/plain": [
       "0.19062064000036116"
      ]
     },
     "execution_count": 9,
     "metadata": {},
     "output_type": "execute_result"
    }
   ],
   "source": [
    "# The complex energies are set. Now, we set the mixed dumbbell energies\n",
    "E_b_mdb = 2078.40083722 + E_sup_pdb + E_sup_solute - E_bulk\n",
    "E_f_mdb = E_f_pdb - E_b_mdb\n",
    "E_f_mdb - E_f_pdb"
   ]
  },
  {
   "cell_type": "code",
   "execution_count": 10,
   "metadata": {},
   "outputs": [],
   "source": [
    "# Energy values taken from database\n",
    "\n",
    "# J_3_1nnA_2nnA   -2078.2548              4.4447\n",
    "# J_3_1nnA_2nnB   -2078.2962              4.4447\n",
    "# J_3_1nnA_3nnB   -2078.2468              4.4447\n",
    "# J_3_1nnA_3nnC   -2078.2414              4.4447\n",
    "# J_3_1nnB_2nnB   -2078.3442              4.4447\n",
    "# J_3_1nnB_3nnB   -2078.2602              4.4447\n",
    "# J_3_1nnB_5nnB   -2078.2517              4.4447\n",
    "# J_3_2nnA_4nnC   -2078.2413              4.4447\n",
    "# J_3_2nnB_4nnB   -2078.3302              4.4447\n",
    "# J_3_2nnB_4nnC   -2078.2830              4.4447\n",
    "\n",
    "Jname_2_TS_en = {\"1nnA_2nnA\": -2078.2548, \"1nnA_2nnB\": -2078.2962, \"1nnA_3nnB\": -2078.2468,\n",
    "                 \"1nnA_3nnC\": -2078.2414, \"1nnB_2nnB\": -2078.3442, \"1nnB_3nnB\": -2078.2602,\n",
    "                 \"1nnB_5nnB\": -2078.2517, \"2nnA_4nnC\": -2078.2413, \"2nnB_4nnB\": -2078.3302, \n",
    "                 \"2nnB_4nnC\": -2078.2830}"
   ]
  },
  {
   "cell_type": "code",
   "execution_count": 11,
   "metadata": {},
   "outputs": [],
   "source": [
    "# Now, we have to find the TS energies.\n",
    "Jname_2_ef_ts = defaultdict(float)\n",
    "for (key, E_IB) in Jname_2_TS_en.items():\n",
    "    Eb = -E_IB + E_sup_pdb + E_sup_solute - E_bulk\n",
    "    # Next, get the formation energy (relative to solute formation energy)\n",
    "    Jname_2_ef_ts[key] = E_f_pdb - Eb"
   ]
  },
  {
   "cell_type": "code",
   "execution_count": 12,
   "metadata": {},
   "outputs": [
    {
     "data": {
      "text/plain": [
       "defaultdict(float,\n",
       "            {'1nnA_2nnA': 0.3527353699996638,\n",
       "             '1nnA_2nnB': 0.3113353699995969,\n",
       "             '1nnA_3nnB': 0.3607353699999294,\n",
       "             '1nnA_3nnC': 0.3661353699999381,\n",
       "             '1nnB_2nnB': 0.31212730000015654,\n",
       "             '1nnB_3nnB': 0.3961272999999892,\n",
       "             '1nnB_5nnB': 0.4046273000003566,\n",
       "             '2nnA_4nnC': 0.3028432299997803,\n",
       "             '2nnB_4nnB': 0.28858893999995416,\n",
       "             '2nnB_4nnC': 0.3357889399999294})"
      ]
     },
     "execution_count": 12,
     "metadata": {},
     "output_type": "execute_result"
    }
   ],
   "source": [
    "Jname_2_mig = defaultdict(float)\n",
    "for (key, TS_en) in Jname_2_ef_ts.items():\n",
    "    initstar = key[:4]\n",
    "    Jname_2_mig[key] = TS_en - name_to_Ef[initstar]\n",
    "Jname_2_mig"
   ]
  },
  {
   "cell_type": "code",
   "execution_count": 13,
   "metadata": {},
   "outputs": [
    {
     "name": "stdout",
     "output_type": "stream",
     "text": [
      "0.4635372200000347 0.3385273000003508\n"
     ]
    }
   ],
   "source": [
    "# omega2 and omega43 Johnson jumps\n",
    "E_IB_43, E_IB_2 = -2078.3178,  -2077.9373 \n",
    "Eb_43, Eb_2 = -E_IB_43 + E_sup_pdb + E_sup_solute - E_bulk, -E_IB_2 + E_sup_pdb + E_sup_solute - E_bulk \n",
    "# Next, get the formation energy (relative to solute formation energy)\n",
    "ef_ts_43 = E_f_pdb - Eb_43\n",
    "ef_ts_2 = E_f_pdb - Eb_2\n",
    "# print(ef_ts_2, ef_ts_43)\n",
    "print(ef_ts_2-E_f_mdb, ef_ts_43 - name_to_Ef[\"1nnB\"])"
   ]
  },
  {
   "cell_type": "code",
   "execution_count": 14,
   "metadata": {},
   "outputs": [
    {
     "name": "stdout",
     "output_type": "stream",
     "text": [
      "0.6335372200001075\n",
      "2\n"
     ]
    }
   ],
   "source": [
    "# omega2 rigid translation\n",
    "E_IB_2_rigid = -2077.7673\n",
    "Eb_2_rigid = -E_IB_2_rigid + E_sup_pdb + E_sup_solute - E_bulk\n",
    "ef_ts_2_rigid = E_f_pdb - Eb_2_rigid\n",
    "print(ef_ts_2_rigid-E_f_mdb)\n",
    "print(len(onsagercalculator.jnet2))"
   ]
  },
  {
   "cell_type": "code",
   "execution_count": 15,
   "metadata": {},
   "outputs": [],
   "source": [
    "temp = []\n",
    "pdcr = []\n",
    "with open(\"PDC_ratio_Ni.dat\", \"r\") as fl:\n",
    "    for line in fl:\n",
    "        arr = line.split()\n",
    "        temp.append(float(arr[0]))\n",
    "        pdcr.append(float(arr[1]))\n",
    "temp = np.array(temp)\n",
    "pdcr = np.array(pdcr)\n",
    "\n",
    "drag = []\n",
    "with open(\"DragRatio_Ni.dat\", \"r\") as fl:\n",
    "    for line in fl:\n",
    "        arr = line.split()\n",
    "        drag.append(float(arr[0]))\n",
    "\n",
    "drag = np.array(drag)"
   ]
  },
  {
   "cell_type": "markdown",
   "metadata": {},
   "source": [
    "## Ni calculations"
   ]
  },
  {
   "cell_type": "code",
   "execution_count": 16,
   "metadata": {},
   "outputs": [],
   "source": [
    "# We'll use this data to opitimize vu2\n",
    "vu0 = 4.4447\n",
    "vu2 = 2.8285\n",
    "Dconv=1e-2\n",
    "# Need to change the way we are dealing with mdbs to be able to change the pre-factors with consistent results.\n",
    "\n",
    "predb0, enedb0 = np.ones(1)*np.exp(0.05), np.array([E_f_pdb])\n",
    "\n",
    "# We'll measure every formation energy relative to the solute formation energy.\n",
    "preS, eneS = np.ones(1), np.array([0.0])\n",
    "\n",
    "# Next, interaction or the excess energies and pre-factors for solutes and dumbbells.\n",
    "preSdb, eneSdb = np.ones(onsagercalculator.thermo.mixedstartindex), \\\n",
    "                 np.zeros(onsagercalculator.thermo.mixedstartindex)\n",
    "# Now, we go over the necessary stars and assign interaction energies\n",
    "for (key, index) in name_to_themo_star.items():\n",
    "    eneSdb[index] = name_to_Ef[key] - E_f_pdb\n",
    "\n",
    "predb2, enedb2 = np.ones(1), np.array([E_f_mdb])\n",
    "\n",
    "# Transition state energies - For omega0, omega2 and omega43, the first type is the Johnson jump,\n",
    "# and the second one is the Rigid jump.\n",
    "\n",
    "# Omega0 TS eneriges\n",
    "preT0, eneT0 = Dconv*vu0*np.ones(1), np.array([E_f_pdb+0.335115123, E_f_pdb + 0.61091396, E_f_pdb+0.784315123])\n",
    "\n",
    "# Omega2 TS energies\n",
    "Nj2 = len(onsagercalculator.jnet2)\n",
    "preT2, eneT2 = Dconv*vu2*np.ones(Nj2), np.array([ef_ts_2, ef_ts_2_rigid])\n",
    "\n",
    "# Omega43 TS energies\n",
    "preT43, eneT43 = Dconv*vu0*np.ones(1), np.array([ef_ts_43])\n",
    "\n",
    "# Omega1 TS energies - need to be careful here\n",
    "preT1 = Dconv*vu0*np.ones(len(onsagercalculator.jnet1))\n",
    "eneT1 = np.array([eneT0[i] for i in onsagercalculator.om1types])\n",
    "# Now, we go over the jumps that are provided and make the necessary changes\n",
    "for (key, index) in jmpdict.items():\n",
    "    eneT1[index] = Jname_2_ef_ts[key]\n",
    "eneT1[0] = 0.0\n",
    "# print(eneT1)\n",
    "\n",
    "data_Ni = {\"puredb_data\":(predb0, enedb0), \"mixed_db_data\":(predb2, enedb2), \"omega0_data\":(preT0, eneT0),\n",
    "          \"omega2_data\":(preT2, eneT2),\"omega43_data\":(preT43, eneT43), \"omega1_data\":(preT1, eneT1),\n",
    "          \"S-db_interaction_data\":(preSdb, eneSdb)}"
   ]
  },
  {
   "cell_type": "code",
   "execution_count": 18,
   "metadata": {},
   "outputs": [
    {
     "name": "stderr",
     "output_type": "stream",
     "text": [
      "100%|██████████| 381/381 [29:40<00:00,  4.67s/it]\n"
     ]
    }
   ],
   "source": [
    "# Then we calculate the transport coefficients\n",
    "# Now, we set the temperatures\n",
    "T_arr = temp\n",
    "# 1b. Now get the beta*free energy values.\n",
    "diff_aa_Ni = np.zeros(len(T_arr))\n",
    "diff_ab_Ni = np.zeros(len(T_arr))\n",
    "diff_bb = np.zeros(len(T_arr))\n",
    "diff_bb_non_loc = np.zeros(len(T_arr))\n",
    "for i in tqdm(range(len(T_arr)), position=0, leave=True):\n",
    "    T = T_arr[i]\n",
    "    kT = kB*T\n",
    "    bFdb0, bFdb2, bFS, bFSdb, bFT0, bFT1, bFT2, bFT3, bFT4 = \\\n",
    "        onsagercalculator.preene2betafree(kT, predb0, enedb0, preS, eneS, preSdb, eneSdb, predb2, enedb2,\n",
    "                                               preT0, eneT0, preT2, eneT2, preT1, eneT1, preT43, eneT43)\n",
    "#     bFdicts[i] = [bFdb0, bFdb2, bFS, bFSdb, bFT0, bFT1, bFT2, bFT3, bFT4]\n",
    "    # get the probabilities and other data from L_ij\n",
    "    L0bb, (L_uc_aa,L_c_aa), (L_uc_bb,L_c_bb), (L_uc_ab,L_c_ab)=\\\n",
    "    onsagercalculator.L_ij(bFdb0, bFT0, bFdb2, bFT2, bFS, bFSdb, bFT1, bFT3, bFT4)\n",
    "    \n",
    "    L_aa = L_uc_aa + L_c_aa\n",
    "    L_bb = L_uc_bb + L_c_bb\n",
    "    L_ab = L_uc_ab + L_c_ab\n",
    "    \n",
    "    diff_aa_Ni[i] = L_aa[0][0]\n",
    "    diff_ab_Ni[i] = L_ab[0][0]\n",
    "    diff_bb[i] = L_bb[0][0]\n",
    "    diff_bb_non_loc[i] = L0bb[0][0]"
   ]
  },
  {
   "cell_type": "code",
   "execution_count": 19,
   "metadata": {},
   "outputs": [
    {
     "data": {
      "image/png": "[encoded data removed]",
      "text/plain": [
       "<Figure size 504x576 with 1 Axes>"
      ]
     },
     "metadata": {
      "needs_background": "light"
     },
     "output_type": "display_data"
    }
   ],
   "source": [
    "plt.figure(figsize=(7,8))\n",
    "plt.semilogy(1/temp, diff_ab_Ni/(diff_bb_non_loc), label=\"Calculated\", linewidth=2)\n",
    "plt.semilogy(1/temp, pdcr, linewidth=2, label=\"Schuler et. al.\")\n",
    "plt.xlabel(r\"1/T (K$^{-1}$)\", fontsize=18)\n",
    "plt.ylabel(r\"$\\frac{L_{Ni-Fe_i}}{L_{Fe_i-Fe_i}}$\", fontsize=30, rotation = 0, labelpad=50)\n",
    "plt.xticks(fontsize=16, rotation = 30)\n",
    "plt.yticks(fontsize=16)\n",
    "plt.legend(fontsize=16)\n",
    "plt.tight_layout()\n",
    "# plt.savefig(\"pdcr_Ni_Fe_log.png\")"
   ]
  },
  {
   "cell_type": "code",
   "execution_count": 20,
   "metadata": {},
   "outputs": [
    {
     "data": {
      "image/png": "[encoded data removed]",
      "text/plain": [
       "<Figure size 504x576 with 1 Axes>"
      ]
     },
     "metadata": {
      "needs_background": "light"
     },
     "output_type": "display_data"
    }
   ],
   "source": [
    "plt.figure(figsize=(7,8))\n",
    "plt.semilogy(temp, diff_ab_Ni/(diff_aa_Ni), label=\"Calculated\", linewidth=2)\n",
    "plt.semilogy(temp, drag, linewidth=2, label=\"Schuler et. al.\")\n",
    "plt.xlabel(r\"1/T (K$^{-1}$)\", fontsize=18)\n",
    "plt.ylabel(r\"$\\frac{L_{Ni-Fe_i}}{L_{Fe_i-Fe_i}}$\", fontsize=30, rotation = 0, labelpad=50)\n",
    "plt.xticks(fontsize=16, rotation = 30)\n",
    "plt.yticks(fontsize=16)\n",
    "plt.legend(fontsize=16)\n",
    "plt.tight_layout()\n",
    "# plt.savefig(\"pdcr_Ni_Fe_log.png\")"
   ]
  },
  {
   "cell_type": "code",
   "execution_count": 22,
   "metadata": {},
   "outputs": [],
   "source": [
    "# export data to HDF5\n",
    "#save data as HDF5\n",
    "import h5py\n",
    "with h5py.File(\"Ni_data.h5\",\"w\") as fl:\n",
    "    fl.create_dataset(\"diff_aa\", data=diff_aa_Ni)\n",
    "    fl.create_dataset(\"diff_ab\", data=diff_ab_Ni)\n",
    "    fl.create_dataset(\"diff_bb_nl\", data=diff_bb_non_loc)\n",
    "    fl.create_dataset(\"diff_bb\", data=diff_bb)\n",
    "    fl.create_dataset(\"Temp\", data=temp)"
   ]
  },
  {
   "cell_type": "code",
   "execution_count": 23,
   "metadata": {},
   "outputs": [],
   "source": [
    "# Now let's do the infinite temeperature limit\n",
    "kT = np.inf\n",
    "bFdb0, bFdb2, bFS, bFSdb, bFT0, bFT1, bFT2, bFT3, bFT4 = \\\n",
    "    onsagercalculator.preene2betafree(kT, predb0, enedb0, preS, eneS, preSdb, eneSdb, predb2, enedb2,\n",
    "                                           preT0, eneT0, preT2, eneT2, preT1, eneT1, preT43, eneT43)\n",
    "#     bFdicts[i] = [bFdb0, bFdb2, bFS, bFSdb, bFT0, bFT1, bFT2, bFT3, bFT4]\n",
    "# get the probabilities and other data from L_ij\n",
    "L0bb, (L_uc_aa,L_c_aa), (L_uc_bb,L_c_bb), (L_uc_ab,L_c_ab)=\\\n",
    "onsagercalculator.L_ij(bFdb0, bFT0, bFdb2, bFT2, bFS, bFSdb, bFT1, bFT3, bFT4)\n",
    "\n",
    "L_aa = L_uc_aa + L_c_aa\n",
    "L_bb = L_uc_bb + L_c_bb\n",
    "L_ab = L_uc_ab + L_c_ab"
   ]
  },
  {
   "cell_type": "code",
   "execution_count": 24,
   "metadata": {},
   "outputs": [
    {
     "data": {
      "text/plain": [
       "2.2382190019856183"
      ]
     },
     "execution_count": 24,
     "metadata": {},
     "output_type": "execute_result"
    }
   ],
   "source": [
    "L_ab[0][0]/L_aa[0][0]"
   ]
  },
  {
   "cell_type": "code",
   "execution_count": null,
   "metadata": {},
   "outputs": [],
   "source": []
  }
 ],
 "metadata": {
  "kernelspec": {
   "display_name": "Python 3",
   "language": "python",
   "name": "python3"
  },
  "language_info": {
   "codemirror_mode": {
    "name": "ipython",
    "version": 3
   },
   "file_extension": ".py",
   "mimetype": "text/x-python",
   "name": "python",
   "nbconvert_exporter": "python",
   "pygments_lexer": "ipython3",
   "version": "3.6.9"
  }
 },
 "nbformat": 4,
 "nbformat_minor": 2
}
