{
 "cells": [
  {
   "cell_type": "code",
   "execution_count": 1,
   "metadata": {},
   "outputs": [],
   "source": [
    "import sys\n",
    "sys.path.extend([\"../../../../\"])"
   ]
  },
  {
   "cell_type": "code",
   "execution_count": 1,
   "metadata": {},
   "outputs": [],
   "source": [
    "from onsager.crystal import Crystal\n",
    "from onsager.crystalStars import zeroclean\n",
    "from onsager.OnsagerCalc import *\n",
    "from onsager.crystal import DB_disp, DB_disp4, pureDBContainer, mixedDBContainer\n",
    "from onsager.DB_structs import dumbbell, SdPair, jump, connector"
   ]
  },
  {
   "cell_type": "code",
   "execution_count": 27,
   "metadata": {},
   "outputs": [],
   "source": [
    "from tqdm import tqdm\n",
    "import matplotlib.pyplot as plt"
   ]
  },
  {
   "cell_type": "code",
   "execution_count": 2,
   "metadata": {},
   "outputs": [
    {
     "name": "stdout",
     "output_type": "stream",
     "text": [
      "#Lattice:\n",
      "  a1 = [0.5 0.5 0.5]\n",
      "  a2 = [-0.5  0.5 -0.5]\n",
      "  a3 = [-0.5 -0.5  0.5]\n",
      "#Basis:\n",
      "  (Fe) 0.0 = [0. 0. 0.]\n"
     ]
    }
   ],
   "source": [
    "# make a BCC lattice\n",
    "# We'll modify the jumpnetwork to keep only the 60 degree reorientational jumps.\n",
    "a0 = 1.0\n",
    "latt = np.array([[1., 0., 0.], [0., 1., 0.], [0., 0., 1.]]) * a0\n",
    "Fe = crystal.Crystal(latt, [[np.array([0., 0., 0.]), np.array([0.5, 0.5, 0.5])]], [\"Fe\"])\n",
    "# Now give it the orientations - for BCC it's [110]\n",
    "o = np.array([1.,1.,0.])/np.linalg.norm(np.array([1.,1.,0.]))*a0/4\n",
    "famp0 = [o.copy()]\n",
    "family = [famp0]\n",
    "pdbcontainer_fe = pureDBContainer(Fe, 0, family)\n",
    "mdbcontainer_fe = mixedDBContainer(Fe, 0, family)\n",
    "jcut = np.sqrt(3)*1.01*a0/2.\n",
    "jset0, jset2 = pdbcontainer_fe.jumpnetwork(jcut, 0.01, 0.01), mdbcontainer_fe.jumpnetwork(jcut, 0.01, 0.01)\n",
    "print(Fe)"
   ]
  },
  {
   "cell_type": "code",
   "execution_count": 3,
   "metadata": {},
   "outputs": [],
   "source": [
    "# Modify jnet0\n",
    "jnet0 = jset0[0]\n",
    "jnet0_indexed = jset0[1]\n",
    "# Let's try to sort the jumps according to closest distance\n",
    "# except rotational jumps, we don't want them.\n",
    "z = np.zeros(3)\n",
    "indices = []\n",
    "\n",
    "for jt, jlist in enumerate(jnet0):\n",
    "    if np.allclose(jnet0_indexed[jt][0][1], z):\n",
    "        continue\n",
    "    indices.append(jt)\n",
    "    \n",
    "def sortkey(entry):\n",
    "    jmp = jnet0[entry][0]\n",
    "    or1 = pdbcontainer_fe.iorlist[jmp.state1.iorind][1]\n",
    "    or2 = pdbcontainer_fe.iorlist[jmp.state2.iorind][1]\n",
    "    dx = DB_disp(pdbcontainer_fe, jmp.state1, jmp.state2)\n",
    "    dx1 = np.linalg.norm(jmp.c1*or1/2.)\n",
    "    dx2 = np.linalg.norm(dx + jmp.c2*or2/2. - jmp.c1*or1/2.)\n",
    "    dx3 = np.linalg.norm(-jmp.c2*or2/2.)\n",
    "    return dx1+dx2+dx3\n",
    "ind_sort = sorted(indices, key=sortkey)"
   ]
  },
  {
   "cell_type": "code",
   "execution_count": 4,
   "metadata": {},
   "outputs": [
    {
     "name": "stdout",
     "output_type": "stream",
     "text": [
      "Jump object:\n",
      "Initial state:\n",
      "\tdumbbell : (i, or) index = 4, lattice vector = [0 0 0]\n",
      "Final state:\n",
      "\tdumbbell : (i, or) index = 2, lattice vector = [1 0 0]\n",
      "Jumping from c1 = -1 to c2 = -1\n",
      "\n"
     ]
    }
   ],
   "source": [
    "# Let's check if we got the correct jump\n",
    "print(jnet0[ind_sort[0]][0])"
   ]
  },
  {
   "cell_type": "code",
   "execution_count": 5,
   "metadata": {},
   "outputs": [
    {
     "data": {
      "text/plain": [
       "[(0, array([-0.1767767,  0.1767767,  0.       ])),\n",
       " (0, array([-0.1767767,  0.       ,  0.1767767])),\n",
       " (0, array([0.1767767, 0.       , 0.1767767])),\n",
       " (0, array([ 0.       ,  0.1767767, -0.1767767])),\n",
       " (0, array([-0.1767767, -0.1767767,  0.       ])),\n",
       " (0, array([0.       , 0.1767767, 0.1767767]))]"
      ]
     },
     "execution_count": 5,
     "metadata": {},
     "output_type": "execute_result"
    }
   ],
   "source": [
    "pdbcontainer_fe.iorlist"
   ]
  },
  {
   "cell_type": "code",
   "execution_count": 6,
   "metadata": {},
   "outputs": [],
   "source": [
    "# take only the lowest displacement jump\n",
    "# that is the jump we want.\n",
    "jset0new = ([jnet0[ind_sort[0]]], [jnet0_indexed[ind_sort[0]]])"
   ]
  },
  {
   "cell_type": "code",
   "execution_count": 7,
   "metadata": {},
   "outputs": [
    {
     "name": "stdout",
     "output_type": "stream",
     "text": [
      "[0, 1, 2, 3, 4, 5, 6, 7, 8, 9, 10, 11, 12, 13, 14, 15, 16]\n",
      "[15, 16, 14, 8, 7, 0, 9, 1, 12, 10, 13, 11, 3, 4, 2, 5, 6]\n"
     ]
    }
   ],
   "source": [
    "# Now, we modify the mixed dumbbell jumpnetwork to also give the lowest displacement jump\n",
    "# Modify jnet0\n",
    "jnet2 = jset2[0]\n",
    "jnet2_indexed = jset2[1]\n",
    "# Let's try to sort the jumps according to closest distance\n",
    "# we don't want the rotational jumps as before.\n",
    "z = np.zeros(3)\n",
    "indices2 = []\n",
    "for jt, jlist in enumerate(jnet2):\n",
    "    if np.allclose(jnet2_indexed[jt][0][1], z):\n",
    "        continue\n",
    "    indices2.append(jt)    \n",
    "print(indices2)\n",
    "\n",
    "def sortkey2(entry):\n",
    "    jmp = jnet2[entry][0]\n",
    "    or1 = mdbcontainer_fe.iorlist[jmp.state1.db.iorind][1]\n",
    "    or2 = mdbcontainer_fe.iorlist[jmp.state2.db.iorind][1]\n",
    "    dx = DB_disp(mdbcontainer_fe, jmp.state1, jmp.state2)\n",
    "    # c1 and c2 are always +1 for mixed dumbbell jumps.\n",
    "    dx1 = np.linalg.norm(jmp.c1*or1/2.)\n",
    "    dx2 = np.linalg.norm(dx + jmp.c2*or2/2. - jmp.c1*or1/2.)\n",
    "    dx3 = np.linalg.norm(-jmp.c2*or2/2.)\n",
    "    return dx1+dx2+dx3\n",
    "ind_sort2 = sorted(indices2, key=sortkey2)\n",
    "print(ind_sort2)"
   ]
  },
  {
   "cell_type": "code",
   "execution_count": 8,
   "metadata": {},
   "outputs": [
    {
     "name": "stdout",
     "output_type": "stream",
     "text": [
      "Jump object:\n",
      "Initial state:\n",
      "\tSolute loctation:basis index = 0, lattice vector = [0 0 0]\n",
      "\tdumbbell : (i, or) index = 4, lattice vector = [0 0 0]\n",
      "Final state:\n",
      "\tSolute loctation :basis index = 0, lattice vector = [0 1 0]\n",
      "\tdumbbell : (i, or) index = 11, lattice vector = [0 1 0]\n",
      "Jumping from c1 = 1 to c2 = 1\n"
     ]
    }
   ],
   "source": [
    "# check if we have the correct type of jump\n",
    "print(jnet2[ind_sort2[0]][0])"
   ]
  },
  {
   "cell_type": "code",
   "execution_count": 9,
   "metadata": {},
   "outputs": [
    {
     "name": "stdout",
     "output_type": "stream",
     "text": [
      "(0, array([-0.1767767,  0.1767767,  0.       ]))\n",
      "(0, array([-0.1767767,  0.       ,  0.1767767]))\n",
      "(0, array([0.1767767, 0.       , 0.1767767]))\n",
      "(0, array([ 0.       ,  0.1767767, -0.1767767]))\n",
      "(0, array([-0.1767767,  0.       , -0.1767767]))\n",
      "(0, array([ 0.       , -0.1767767,  0.1767767]))\n",
      "(0, array([-0.1767767, -0.1767767,  0.       ]))\n",
      "(0, array([0.       , 0.1767767, 0.1767767]))\n",
      "(0, array([ 0.       , -0.1767767, -0.1767767]))\n",
      "(0, array([ 0.1767767,  0.       , -0.1767767]))\n",
      "(0, array([0.1767767, 0.1767767, 0.       ]))\n",
      "(0, array([ 0.1767767, -0.1767767,  0.       ]))\n"
     ]
    }
   ],
   "source": [
    "for tup in mdbcontainer_fe.iorlist:\n",
    "    print(tup)"
   ]
  },
  {
   "cell_type": "code",
   "execution_count": 10,
   "metadata": {},
   "outputs": [],
   "source": [
    "# take only the lowest displacement jump\n",
    "# that is the jump we want.\n",
    "jset2new = ([jnet2[ind_sort2[0]]], [jnet2_indexed[ind_sort2[0]]])"
   ]
  },
  {
   "cell_type": "code",
   "execution_count": 11,
   "metadata": {},
   "outputs": [
    {
     "name": "stdout",
     "output_type": "stream",
     "text": [
      "initializing thermo\n",
      "initializing kin\n",
      "generating thermodynamic shell\n",
      "built shell 1: time - 0.028833866119384766\n",
      "grouped states by symmetry: 0.09620833396911621\n",
      "built mixed dumbbell stars: 0.0005962848663330078\n",
      "built jtags2: 0.0003590583801269531\n",
      "built mixed indexed star: 0.01267695426940918\n",
      "building star2symlist : 7.748603820800781e-05\n",
      "building bare, mixed index dicts : 0.00024271011352539062\n",
      "thermodynamic shell generated: 0.21755027770996094\n",
      "Total number of states in Thermodynamic Shell - 54, 12\n",
      "generating kinetic shell\n",
      "built shell 1: time - 0.02924633026123047\n",
      "built shell 2: time - 0.9159579277038574\n",
      "grouped states by symmetry: 0.9748637676239014\n",
      "built mixed dumbbell stars: 0.0004055500030517578\n",
      "built jtags2: 0.00013971328735351562\n",
      "built mixed indexed star: 0.006021738052368164\n",
      "building star2symlist : 7.2479248046875e-05\n",
      "building bare, mixed index dicts : 0.00015497207641601562\n",
      "Kinetic shell generated: 2.8836848735809326\n",
      "Total number of states in Kinetic Shell - 210, 12\n",
      "generating kinetic shell vector starset\n",
      "Kinetic shell vector starset generated: 1.2160823345184326\n",
      "Generating Jump networks\n",
      "building omega1\n",
      "built omega1 : time - 0.8795058727264404\n",
      "building omega43\n",
      "built omega43 : time 2.78383731842041\n",
      "Jump networks generated: 3.67445707321167\n",
      "building GF starsets\n",
      "\tComplex connections creation time: 25.36594581604004\n",
      "\tComplex connections symmetry grouping time: 8.500586032867432\n",
      "No. of pure dumbbell connections: 6804\n",
      "GF star sets built: 33.869542837142944\n",
      "Built Complex GF expansions: 20.290354251861572\n",
      "built GFstarsets: 54.20046544075012\n",
      "built rate expansions: 0.4108712673187256\n",
      "built bias expansions: 1.996492624282837\n",
      "built outer product tensor:0.038661956787109375\n",
      "onsager calculator initiation time = 67.79386401176453\n"
     ]
    }
   ],
   "source": [
    "# Now, we construct the Onsager calculator with these non-local jump sets.\n",
    "start = time.time()\n",
    "onsagercalculator = dumbbellMediated(pdbcontainer_fe, mdbcontainer_fe, jset0new, jset2new, jcut,\n",
    "                                     0.01, 0.01, 0.01, NGFmax=4, Nthermo=1)\n",
    "print(\"onsager calculator initiation time = {}\".format(time.time() - start))"
   ]
  },
  {
   "cell_type": "code",
   "execution_count": 12,
   "metadata": {},
   "outputs": [
    {
     "data": {
      "text/plain": [
       "[0, 0, 0, 0, 0, 0, 0, 0]"
      ]
     },
     "execution_count": 12,
     "metadata": {},
     "output_type": "execute_result"
    }
   ],
   "source": [
    "onsagercalculator.om1types"
   ]
  },
  {
   "cell_type": "code",
   "execution_count": 13,
   "metadata": {},
   "outputs": [
    {
     "data": {
      "text/plain": [
       "26"
      ]
     },
     "execution_count": 13,
     "metadata": {},
     "output_type": "execute_result"
    }
   ],
   "source": [
    "# First, we must also modify the omega3 and omega4 jump lists\n",
    "# NOTE - I am modifying these lists in place right now.\n",
    "# But I must come up with a way to do this separately\n",
    "len(onsagercalculator.jnet43)"
   ]
  },
  {
   "cell_type": "code",
   "execution_count": 14,
   "metadata": {},
   "outputs": [
    {
     "name": "stdout",
     "output_type": "stream",
     "text": [
      "[16, 24, 8, 14, 10, 12, 9, 18, 0, 22, 25, 2, 6, 17, 20, 3, 7, 1, 5, 19, 11, 13, 4, 15, 21, 23]\n"
     ]
    }
   ],
   "source": [
    "# Next, we must also modify the omega3 and omega4 jump lists\n",
    "jnet43 = onsagercalculator.jnet43\n",
    "jnet43_indexed = onsagercalculator.jnet43_indexed\n",
    "# Let's try to sort the jumps according to closest distance\n",
    "# we don't want the rotational jumps as before.\n",
    "\n",
    "z = np.zeros(3)\n",
    "indices43 = []\n",
    "for jt, jlist in enumerate(jnet43):\n",
    "    if np.allclose(jnet43_indexed[jt][0][1], z):\n",
    "        continue\n",
    "    indices43.append(jt)    \n",
    "# print(indices43)\n",
    "\n",
    "def sortkey43(entry):\n",
    "    jmp = jnet43[entry][0] # This is an omega4 jump\n",
    "    if not jmp.c2 == -1:\n",
    "        print(c2)\n",
    "    or1 = pdbcontainer_fe.iorlist[jmp.state1.db.iorind][1]\n",
    "    or2 = mdbcontainer_fe.iorlist[jmp.state2.db.iorind][1]\n",
    "    dx = DB_disp4(pdbcontainer_fe, mdbcontainer_fe, jmp.state1, jmp.state2)\n",
    "    # remember that c2 is -1 for an omega4 jump\n",
    "    dx1 = np.linalg.norm(jmp.c1*or1/2.)\n",
    "    dx2 = np.linalg.norm(dx - or2/2. - jmp.c1*or1/2.)\n",
    "    dx3 = np.linalg.norm(jmp.c2*or2/2.)\n",
    "    return dx1+dx2+dx3\n",
    "\n",
    "ind_sort43 = sorted(indices43, key=sortkey43)\n",
    "print(ind_sort43)"
   ]
  },
  {
   "cell_type": "code",
   "execution_count": 15,
   "metadata": {},
   "outputs": [
    {
     "name": "stdout",
     "output_type": "stream",
     "text": [
      "Jump object:\n",
      "Initial state:\n",
      "\tSolute loctation:basis index = 0, lattice vector = [0 0 0]\n",
      "\tdumbbell : (i, or) index = 0, lattice vector = [ 0 -1  0]\n",
      "Final state:\n",
      "\tSolute loctation :basis index = 0, lattice vector = [0 0 0]\n",
      "\tdumbbell : (i, or) index = 4, lattice vector = [0 0 0]\n",
      "Jumping from c1 = 1 to c2 = -1\n"
     ]
    }
   ],
   "source": [
    "# check if we have the correct jump\n",
    "print(jnet43[ind_sort43[0]][0])"
   ]
  },
  {
   "cell_type": "code",
   "execution_count": 16,
   "metadata": {},
   "outputs": [
    {
     "data": {
      "text/plain": [
       "[(0, array([-0.1767767,  0.1767767,  0.       ])),\n",
       " (0, array([-0.1767767,  0.       ,  0.1767767])),\n",
       " (0, array([0.1767767, 0.       , 0.1767767])),\n",
       " (0, array([ 0.       ,  0.1767767, -0.1767767])),\n",
       " (0, array([-0.1767767, -0.1767767,  0.       ])),\n",
       " (0, array([0.       , 0.1767767, 0.1767767]))]"
      ]
     },
     "execution_count": 16,
     "metadata": {},
     "output_type": "execute_result"
    }
   ],
   "source": [
    "pdbcontainer_fe.iorlist"
   ]
  },
  {
   "cell_type": "code",
   "execution_count": 17,
   "metadata": {},
   "outputs": [
    {
     "data": {
      "text/plain": [
       "[(0, array([-0.1767767,  0.1767767,  0.       ])),\n",
       " (0, array([-0.1767767,  0.       ,  0.1767767])),\n",
       " (0, array([0.1767767, 0.       , 0.1767767])),\n",
       " (0, array([ 0.       ,  0.1767767, -0.1767767])),\n",
       " (0, array([-0.1767767,  0.       , -0.1767767])),\n",
       " (0, array([ 0.       , -0.1767767,  0.1767767])),\n",
       " (0, array([-0.1767767, -0.1767767,  0.       ])),\n",
       " (0, array([0.       , 0.1767767, 0.1767767])),\n",
       " (0, array([ 0.       , -0.1767767, -0.1767767])),\n",
       " (0, array([ 0.1767767,  0.       , -0.1767767])),\n",
       " (0, array([0.1767767, 0.1767767, 0.       ])),\n",
       " (0, array([ 0.1767767, -0.1767767,  0.       ]))]"
      ]
     },
     "execution_count": 17,
     "metadata": {},
     "output_type": "execute_result"
    }
   ],
   "source": [
    "mdbcontainer_fe.iorlist"
   ]
  },
  {
   "cell_type": "code",
   "execution_count": 18,
   "metadata": {},
   "outputs": [],
   "source": [
    "onsagercalculator.regenerate43([ind_sort43[0]])"
   ]
  },
  {
   "cell_type": "code",
   "execution_count": 51,
   "metadata": {},
   "outputs": [],
   "source": [
    "kT = 1\n",
    "\n",
    "predb0, enedb0 = np.ones(1), np.zeros(1)\n",
    "\n",
    "preS, eneS = np.ones(1), np.zeros(1)\n",
    "\n",
    "# These are the interaction or the excess energies and pre-factors for solutes and dumbbells.\n",
    "# The energies will all be zero.\n",
    "preSdb, eneSdb = np.ones(onsagercalculator.thermo.mixedstartindex), \\\n",
    "                 np.zeros(onsagercalculator.thermo.mixedstartindex)\n",
    "\n",
    "predb2, enedb2 = predb0.copy(), enedb0.copy()\n",
    "\n",
    "preT0, eneT0 = np.ones(len(onsagercalculator.vkinetic.starset.jnet0)), enedb0.copy()\n",
    "preT2, eneT2 = preT0.copy(), eneT0.copy()\n",
    "preT1, eneT1 = np.ones(len(onsagercalculator.jnet1)), np.array([eneT0[onsagercalculator.om1types[jt]] for jt in\n",
    "                                                                range(len(onsagercalculator.jnet1))])\n",
    "\n",
    "preT43, eneT43 = np.ones(len(onsagercalculator.jnet43)), eneT0.copy()"
   ]
  },
  {
   "cell_type": "code",
   "execution_count": 52,
   "metadata": {},
   "outputs": [],
   "source": [
    "# 1b. Now get the beta*free energy values.\n",
    "bFdb0, bFdb2, bFS, bFSdb, bFT0, bFT1, bFT2, bFT3, bFT4 = \\\n",
    "    onsagercalculator.preene2betafree(kT, predb0, enedb0, preS, eneS, preSdb, eneSdb, predb2, enedb2,\n",
    "                                           preT0, eneT0, preT2, eneT2, preT1, eneT1, preT43, eneT43)"
   ]
  },
  {
   "cell_type": "code",
   "execution_count": 53,
   "metadata": {},
   "outputs": [],
   "source": [
    "# get the probabilities and other data from L_ij\n",
    "L0bb,(L_uc_aa,L_c_aa), (L_uc_bb,L_c_bb), (L_uc_ab,L_c_ab)=\\\n",
    "onsagercalculator.L_ij(bFdb0, bFT0, bFdb2, bFT2, bFS, bFSdb, bFT1, bFT3, bFT4)"
   ]
  },
  {
   "cell_type": "code",
   "execution_count": 54,
   "metadata": {},
   "outputs": [],
   "source": [
    "L_aa = L_uc_aa + L_c_aa"
   ]
  },
  {
   "cell_type": "code",
   "execution_count": 55,
   "metadata": {},
   "outputs": [],
   "source": [
    "L_ab = L_uc_ab + L_c_ab"
   ]
  },
  {
   "cell_type": "code",
   "execution_count": 56,
   "metadata": {},
   "outputs": [
    {
     "data": {
      "text/plain": [
       "0.41264340979628666"
      ]
     },
     "execution_count": 56,
     "metadata": {},
     "output_type": "execute_result"
    }
   ],
   "source": [
    "L_aa[0][0]/L_ab[0][0]"
   ]
  },
  {
   "cell_type": "code",
   "execution_count": 57,
   "metadata": {},
   "outputs": [
    {
     "data": {
      "text/plain": [
       "(17, 1)"
      ]
     },
     "execution_count": 57,
     "metadata": {},
     "output_type": "execute_result"
    }
   ],
   "source": [
    "onsagercalculator.vkinetic.Nvstars, len(onsagercalculator.jnet2)"
   ]
  },
  {
   "cell_type": "code",
   "execution_count": 58,
   "metadata": {},
   "outputs": [
    {
     "data": {
      "text/plain": [
       "array([[0.],\n",
       "       [0.],\n",
       "       [1.],\n",
       "       [1.],\n",
       "       [0.],\n",
       "       [0.],\n",
       "       [0.],\n",
       "       [0.],\n",
       "       [0.],\n",
       "       [0.],\n",
       "       [0.],\n",
       "       [0.],\n",
       "       [0.],\n",
       "       [0.],\n",
       "       [0.],\n",
       "       [0.]])"
      ]
     },
     "execution_count": 58,
     "metadata": {},
     "output_type": "execute_result"
    }
   ],
   "source": [
    "onsagercalculator.omegas[4][1]"
   ]
  },
  {
   "cell_type": "code",
   "execution_count": 59,
   "metadata": {},
   "outputs": [
    {
     "data": {
      "text/plain": [
       "array([[1.]])"
      ]
     },
     "execution_count": 59,
     "metadata": {},
     "output_type": "execute_result"
    }
   ],
   "source": [
    "onsagercalculator.omegas[3][1]"
   ]
  },
  {
   "cell_type": "code",
   "execution_count": 60,
   "metadata": {},
   "outputs": [
    {
     "name": "stderr",
     "output_type": "stream",
     "text": [
      "100%|██████████| 31/31 [18:21<00:00, 35.54s/it]\n"
     ]
    }
   ],
   "source": [
    "# Now, we vary omega43 as a multiple of omega0 and see how our tracer drag ratio changes\n",
    "Npoints = 31\n",
    "inc2vs0 = np.linspace(-10, 10, Npoints)\n",
    "inc43vs0 = np.linspace(-10, 10, Npoints)\n",
    "\n",
    "# put the following into a loop - first determine how to vary omega43 rates\n",
    "tcf = np.zeros(len(inc2vs0)*len(inc43vs0))\n",
    "tdrag = np.zeros(len(inc2vs0)*len(inc43vs0))\n",
    "\n",
    "omega4 = np.zeros(len(inc2vs0)*len(inc43vs0))\n",
    "omega3 = np.zeros(len(inc2vs0)*len(inc43vs0))\n",
    "omega2 = np.zeros(len(inc2vs0)*len(inc43vs0))\n",
    "\n",
    "for i in tqdm(range(len(inc2vs0)), position=0, leave=True):\n",
    "    \n",
    "    # First, we vary omega2 rate with respect to omega0 rate\n",
    "    eneT2 = np.array([eneT0[0] + inc2vs0[i]])\n",
    "    \n",
    "    for j in range(len(inc43vs0)):\n",
    "        \n",
    "        # Then, we'll vary the omega43 rate with respect to omega0 rate\n",
    "        eneT43 = np.array([eneT0[0] + inc43vs0[j]])\n",
    "\n",
    "        bFdb0, bFdb2, bFS, bFSdb, bFT0, bFT1, bFT2, bFT3, bFT4 = \\\n",
    "            onsagercalculator.preene2betafree(kT, predb0, enedb0, preS, eneS, preSdb, eneSdb, predb2, enedb2,\n",
    "                                                   preT0, eneT0, preT2, eneT2, preT1, eneT1, preT43, eneT43)\n",
    "        \n",
    "        L0bb,(L_uc_aa,L_c_aa), (L_uc_bb,L_c_bb), (L_uc_ab,L_c_ab)=\\\n",
    "        onsagercalculator.L_ij(bFdb0, bFT0, bFdb2, bFT2, bFS, bFSdb, bFT1, bFT3, bFT4)\n",
    "\n",
    "        L_aa = L_uc_aa + L_c_aa\n",
    "        L_ab = L_uc_ab + L_c_ab\n",
    "\n",
    "        tcf[i*len(inc2vs0) + j] = L_aa[0][0]/L_ab[0][0]\n",
    "        tdrag[i*len(inc2vs0) + j] = L_ab[0][0]/L_aa[0][0]\n",
    "\n",
    "        omega4[i*len(inc2vs0) + j] = onsagercalculator.omegas[4][0][0]/onsagercalculator.omegas[0][0][0]\n",
    "        omega3[i*len(inc2vs0) + j] = onsagercalculator.omegas[3][0][0]/onsagercalculator.omegas[0][0][0]\n",
    "        omega2[i*len(inc2vs0) + j] = onsagercalculator.omegas[2][0][0]/onsagercalculator.omegas[0][0][0]"
   ]
  },
  {
   "cell_type": "code",
   "execution_count": 61,
   "metadata": {},
   "outputs": [],
   "source": [
    "om3 = omega3.reshape(len(inc2vs0),len(inc43vs0))\n",
    "om2 = omega2.reshape(len(inc2vs0),len(inc43vs0))\n",
    "z = tdrag.reshape(len(inc2vs0),len(inc43vs0))"
   ]
  },
  {
   "cell_type": "code",
   "execution_count": 62,
   "metadata": {},
   "outputs": [
    {
     "name": "stderr",
     "output_type": "stream",
     "text": [
      "100%|██████████| 51/51 [01:02<00:00,  1.23s/it]\n"
     ]
    }
   ],
   "source": [
    "# 1. Set the rates and thermodynamic data\n",
    "kT = 1\n",
    "\n",
    "predb0, enedb0 = np.ones(1), np.zeros(1)\n",
    "\n",
    "preS, eneS = np.ones(1), np.zeros(1)\n",
    "\n",
    "# These are the interaction or the excess energies and pre-factors for solutes and dumbbells.\n",
    "# The energies will all be zero.\n",
    "preSdb, eneSdb = np.ones(onsagercalculator.thermo.mixedstartindex), \\\n",
    "                 np.zeros(onsagercalculator.thermo.mixedstartindex)\n",
    "\n",
    "predb2, enedb2 = predb0.copy(), enedb0.copy()\n",
    "\n",
    "preT0, eneT0 = np.ones(len(onsagercalculator.vkinetic.starset.jnet0)), enedb0.copy()\n",
    "preT2, eneT2 = preT0.copy(), eneT0.copy()\n",
    "preT1, eneT1 = np.ones(len(onsagercalculator.jnet1)), np.array([eneT0[onsagercalculator.om1types[jt]] for jt in\n",
    "                                                                range(len(onsagercalculator.jnet1))])\n",
    "\n",
    "preT43, eneT43 = np.ones(len(onsagercalculator.jnet43)), eneT0.copy()\n",
    "\n",
    "fix_en = enedb0[0]\n",
    "fix_ts_en = eneT0[0]\n",
    "Npoints = 51\n",
    "change2 = np.linspace(0, 5, Npoints)\n",
    "tcf43 = np.zeros(len(change2))\n",
    "tdrag43 = np.zeros(len(change2))\n",
    "\n",
    "omega4 = np.zeros(len(change2))\n",
    "omega3 = np.zeros(len(change2))\n",
    "omega0 = np.zeros(len(change2))\n",
    "omega2 = np.zeros(len(change2))\n",
    "\n",
    "\n",
    "omega4esc = np.zeros(len(change2))\n",
    "omega3esc = np.zeros(len(change2))\n",
    "omega0esc = np.zeros(len(change2))\n",
    "omega2esc = np.zeros(len(change2))\n",
    "\n",
    "\n",
    "for i in tqdm(range(len(change2)), position=0, leave=True):\n",
    "    \n",
    "    # Now, make omega3 easier than omega4 by raising the mixed dumbbell energy, the omega2 TS energy\n",
    "    # and the omega43 TS energy by the same amount.\n",
    "    \n",
    "    enedb2 = np.array([fix_en + change2[i]]) \n",
    "    eneT2 = np.array([fix_ts_en + change2[i]])\n",
    "    eneT43 = np.array([fix_ts_en + change2[i]])\n",
    "    \n",
    "    bFdb0, bFdb2, bFS, bFSdb, bFT0, bFT1, bFT2, bFT3, bFT4 = \\\n",
    "        onsagercalculator.preene2betafree(kT, predb0, enedb0, preS, eneS, preSdb, eneSdb, predb2, enedb2,\n",
    "                                               preT0, eneT0, preT2, eneT2, preT1, eneT1, preT43, eneT43)\n",
    "    \n",
    "    \n",
    "    L0bb,(L_uc_aa,L_c_aa), (L_uc_bb,L_c_bb), (L_uc_ab,L_c_ab)=\\\n",
    "        onsagercalculator.L_ij(bFdb0, bFT0, bFdb2, bFT2, bFS, bFSdb, bFT1, bFT3, bFT4)\n",
    "    \n",
    "    L_aa = L_uc_aa + L_c_aa\n",
    "    L_ab = L_uc_ab + L_c_ab\n",
    "    \n",
    "    tcf43[i] = L_aa[0][0]/L_ab[0][0]\n",
    "    tdrag43[i] = L_ab[0][0]/L_aa[0][0]\n",
    "    \n",
    "    omegas = onsagercalculator.omegas\n",
    "    \n",
    "    omega4[i] = omegas[4][0][0]\n",
    "    omega3[i] = omegas[3][0][0]\n",
    "    omega2[i] = omegas[2][0][0]\n",
    "    omega0[i] = omegas[0][0][0]\n",
    "    \n",
    "    omega4esc[i] = omegas[4][1][2][0]\n",
    "    omega3esc[i] = omegas[3][1][0][0]\n",
    "    omega0esc[i] = omegas[0][1][0][0]\n",
    "    omega2esc[i] = omegas[2][1][0][0]"
   ]
  },
  {
   "cell_type": "code",
   "execution_count": 63,
   "metadata": {},
   "outputs": [
    {
     "data": {
      "image/png": "[encoded data removed]",
      "text/plain": [
       "<Figure size 1152x576 with 3 Axes>"
      ]
     },
     "metadata": {
      "needs_background": "light"
     },
     "output_type": "display_data"
    }
   ],
   "source": [
    "fig,[ax1, ax2] = plt.subplots(1,2, figsize=(16,8))\n",
    "cp = ax1.contourf(om2, om3, z)\n",
    "\n",
    "# # trying to plot lines now\n",
    "ax1.plot([np.min(om3), np.max(om3)],[1, 1], color=\"w\",lw=2, ls=\"--\")\n",
    "ax1.plot([1, 1],[np.min(om3), np.max(om3)], color=\"w\",lw=2, ls=\"--\")\n",
    "\n",
    "ax1.set_xscale(\"log\")\n",
    "ax1.set_yscale(\"log\")\n",
    "\n",
    "ax1.set_xlabel(r'$\\dfrac{W^2}{W^0}$', fontsize=16)\n",
    "ax1.set_ylabel(r'$\\dfrac{W^3(=W^4)}{W^0}$', rotation=0, labelpad=40, fontsize=16)\n",
    "\n",
    "ax1.set_xticks([1e-3, 1e-2, 1e-1, 1e0, 1e1, 1e2, 1e3])\n",
    "ax1.set_yticks([1e-3, 1e-2, 1e-1, 1e0, 1e1, 1e2, 1e3])\n",
    "\n",
    "ax1.tick_params(axis='both', which='major', labelsize=14)\n",
    "\n",
    "cbar = fig.colorbar(cp, ax=ax1, orientation =\"horizontal\", fraction=0.046, pad=0.2)\n",
    "cbar.ax.tick_params(labelsize=12)\n",
    "cbar.set_label(r'$\\dfrac{L^{XA}}{L^{XX}}$', rotation=0, fontsize=18)\n",
    "\n",
    "ax2.semilogx(omega4esc/omega3esc, tdrag43, color=\"tab:blue\", lw=3)\n",
    "ax2.semilogx(omega4esc/omega3esc, np.ones_like(tdrag43)/0.41264341, ls=\"--\", label=r'$(0.41264341)^{-1}$',\n",
    "             color=\"tab:green\")\n",
    "ax2.legend(fontsize=14)\n",
    "# ax2.set_xlim(0.00673795, 1)\n",
    "ax2.tick_params(axis='both', which='major', labelsize=14)\n",
    "ax2.tick_params(axis='both', which='minor', labelsize=14)\n",
    "ax2.text(2e-2, 2.55, r'$W^2=W^0$', fontsize=16)\n",
    "ax2.set_xlabel(r'$\\dfrac{W^4}{W^3=W^0}$', fontsize=16)\n",
    "ax2.set_ylabel(r'$\\dfrac{L^{XA}}{L^{XX}}$', rotation=0, labelpad=20, fontsize=16)\n",
    "\n",
    "fig.tight_layout(pad=4.0)\n",
    "# plt.savefig(\"BCC_Drag_contour.png\")"
   ]
  },
  {
   "cell_type": "code",
   "execution_count": 64,
   "metadata": {},
   "outputs": [
    {
     "data": {
      "text/plain": [
       "(1.0, 1.0, 2.4233999047596058)"
      ]
     },
     "execution_count": 64,
     "metadata": {},
     "output_type": "execute_result"
    }
   ],
   "source": [
    "om2[15,15], om3[15,15], z[15,15]"
   ]
  },
  {
   "cell_type": "code",
   "execution_count": 65,
   "metadata": {},
   "outputs": [],
   "source": [
    "import h5py\n",
    "with h5py.File(\"Drag_Contour_23.h5\", \"w\") as fl:\n",
    "    fl.create_dataset(\"om2\", data=om2)\n",
    "    fl.create_dataset(\"om3\", data=om3)\n",
    "    fl.create_dataset(\"drag\", data=z)\n",
    "\n",
    "with h5py.File(\"Drag_43.h5\", \"w\") as fl:\n",
    "    fl.create_dataset(\"om4esc\", data=omega4esc)\n",
    "    fl.create_dataset(\"om3esc\", data=omega3esc)\n",
    "    fl.create_dataset(\"drag\", data=tdrag43)"
   ]
  },
  {
   "cell_type": "code",
   "execution_count": null,
   "metadata": {},
   "outputs": [],
   "source": []
  }
 ],
 "metadata": {
  "kernelspec": {
   "display_name": "Python 3",
   "language": "python",
   "name": "python3"
  },
  "language_info": {
   "codemirror_mode": {
    "name": "ipython",
    "version": 3
   },
   "file_extension": ".py",
   "mimetype": "text/x-python",
   "name": "python",
   "nbconvert_exporter": "python",
   "pygments_lexer": "ipython3",
   "version": "3.6.9"
  }
 },
 "nbformat": 4,
 "nbformat_minor": 2
}
