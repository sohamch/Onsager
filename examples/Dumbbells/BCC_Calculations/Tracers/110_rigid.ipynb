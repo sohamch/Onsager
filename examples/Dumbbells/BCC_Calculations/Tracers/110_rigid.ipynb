{
 "cells": [
  {
   "cell_type": "markdown",
   "metadata": {},
   "source": [
    "## Tracer correlation factor for 2d dumbell diffusion on a {110} family plane in a BCC crystal - see Appendix B in our paper "
   ]
  },
  {
   "cell_type": "code",
   "execution_count": 1,
   "metadata": {},
   "outputs": [],
   "source": [
    "import sys\n",
    "sys.path.extend([\"../../../../\"])"
   ]
  },
  {
   "cell_type": "code",
   "execution_count": 2,
   "metadata": {},
   "outputs": [
    {
     "name": "stderr",
     "output_type": "stream",
     "text": [
      "../../../../onsager/cluster.py:804: NumbaDeprecationWarning: The 'numba.jitclass' decorator has moved to 'numba.experimental.jitclass' to better reflect the experimental nature of the functionality. Please update your imports to accommodate this change and see http://numba.pydata.org/numba-doc/latest/reference/deprecation.html#change-of-jitclass-location for the time frame.\n",
      "  @jitclass(MonteCarloSamplerSpec)\n"
     ]
    }
   ],
   "source": [
    "from onsager.crystal import Crystal\n",
    "from onsager.crystalStars import zeroclean\n",
    "from onsager.OnsagerCalc import *\n",
    "from onsager.crystal import DB_disp, DB_disp4, pureDBContainer, mixedDBContainer\n",
    "from onsager.DB_structs import dumbbell, SdPair, jump, connector"
   ]
  },
  {
   "cell_type": "code",
   "execution_count": 3,
   "metadata": {},
   "outputs": [
    {
     "name": "stdout",
     "output_type": "stream",
     "text": [
      "#Lattice:\n",
      "  a1 = [0.70710678 0.5       ]\n",
      "  a2 = [-0.70710678  0.5       ]\n",
      "#Basis:\n",
      "  (A) 0.0 = [0. 0.]\n"
     ]
    }
   ],
   "source": [
    "a2 = 1.0\n",
    "a1 = np.sqrt(2)*a2\n",
    "\n",
    "crys2d = crystal.Crystal(np.array([[a1, 0.], [0., a2]]),\n",
    "                         [[np.array([0., 0.]), np.array([0.5, 0.5])]], [\"A\"])\n",
    "print(crys2d)"
   ]
  },
  {
   "cell_type": "code",
   "execution_count": 4,
   "metadata": {},
   "outputs": [],
   "source": [
    "o = np.array([0.2, 0.])\n",
    "famp0 = [o.copy()]\n",
    "family = [famp0]\n",
    "pdbcontainer = pureDBContainer(crys2d, 0, family)\n",
    "mdbcontainer = mixedDBContainer(crys2d, 0, family)"
   ]
  },
  {
   "cell_type": "code",
   "execution_count": 5,
   "metadata": {},
   "outputs": [
    {
     "name": "stdout",
     "output_type": "stream",
     "text": [
      "0.8746856578222831\n"
     ]
    }
   ],
   "source": [
    "cutoff = 1.01*np.linalg.norm(crys2d.lattice[:, 0])\n",
    "print(cutoff)\n",
    "jset0, jset2 = pdbcontainer.jumpnetwork(cutoff, 0.01, 0.01), mdbcontainer.jumpnetwork(cutoff, 0.01, 0.01)"
   ]
  },
  {
   "cell_type": "code",
   "execution_count": 6,
   "metadata": {},
   "outputs": [
    {
     "data": {
      "text/plain": [
       "2"
      ]
     },
     "execution_count": 6,
     "metadata": {},
     "output_type": "execute_result"
    }
   ],
   "source": [
    "len(jset2)"
   ]
  },
  {
   "cell_type": "code",
   "execution_count": 7,
   "metadata": {},
   "outputs": [
    {
     "name": "stdout",
     "output_type": "stream",
     "text": [
      "Jump object:\n",
      "Initial state:\n",
      "\tSolute loctation:basis index = 0, lattice vector = [0 0]\n",
      "\tdumbbell : (i, or) index = 1, lattice vector = [0 0]\n",
      "Final state:\n",
      "\tSolute loctation :basis index = 0, lattice vector = [1 0]\n",
      "\tdumbbell : (i, or) index = 0, lattice vector = [1 0]\n",
      "Jumping from c1 = 1 to c2 = 1\n"
     ]
    }
   ],
   "source": [
    "print(jset2[0][1][0])"
   ]
  },
  {
   "cell_type": "code",
   "execution_count": 8,
   "metadata": {},
   "outputs": [],
   "source": [
    "# Modify jnet0\n",
    "jnet0 = jset0[0]\n",
    "jnet0_indexed = jset0[1]\n",
    "# Let's try to sort the jumps according to closest distance\n",
    "# except rotational jumps, we don't want them.\n",
    "z = np.zeros(crys2d.dim)\n",
    "indices = []\n",
    "\n",
    "for jt, jlist in enumerate(jnet0):\n",
    "    if np.allclose(jnet0_indexed[jt][0][1], z):\n",
    "        continue\n",
    "    indices.append(jt)\n",
    "    \n",
    "def sortkey(entry):\n",
    "    jmp = jnet0[entry][0]\n",
    "    or1 = pdbcontainer.iorlist[jmp.state1.iorind][1]\n",
    "    or2 = pdbcontainer.iorlist[jmp.state2.iorind][1]\n",
    "    dx = DB_disp(pdbcontainer, jmp.state1, jmp.state2)\n",
    "    dx1 = np.linalg.norm(jmp.c1*or1/2.)\n",
    "    dx2 = np.linalg.norm(dx + jmp.c2*or2/2. - jmp.c1*or1/2.)\n",
    "    dx3 = np.linalg.norm(-jmp.c2*or2/2.)\n",
    "    return dx1+dx2+dx3\n",
    "ind_sort = sorted(indices, key=sortkey)\n",
    "# ind_sort"
   ]
  },
  {
   "cell_type": "code",
   "execution_count": 9,
   "metadata": {},
   "outputs": [],
   "source": [
    "jset0new = ([jnet0[ind_sort[0]]], [jnet0_indexed[ind_sort[0]]])"
   ]
  },
  {
   "cell_type": "code",
   "execution_count": 10,
   "metadata": {},
   "outputs": [
    {
     "name": "stdout",
     "output_type": "stream",
     "text": [
      "[1, 0, 2]\n"
     ]
    }
   ],
   "source": [
    "# Modify jnet2\n",
    "jnet2 = jset2[0]\n",
    "jnet2_indexed = jset2[1]\n",
    "# Let's try to sort the jumps according to closest distance\n",
    "# we don't want the rotational jumps as before.\n",
    "z = np.zeros(crys2d.dim)\n",
    "indices2 = []\n",
    "for jt, jlist in enumerate(jnet2):\n",
    "    if np.allclose(jnet2_indexed[jt][0][1], z):\n",
    "        continue\n",
    "    indices2.append(jt)\n",
    "\n",
    "def sortkey2(entry):\n",
    "    jmp = jnet2[entry][0]\n",
    "    or1 = mdbcontainer.iorlist[jmp.state1.db.iorind][1]\n",
    "    or2 = mdbcontainer.iorlist[jmp.state2.db.iorind][1]\n",
    "    dx = DB_disp(mdbcontainer, jmp.state1, jmp.state2)\n",
    "    # c1 and c2 are always +1 for mixed dumbbell jumps.\n",
    "    dx1 = np.linalg.norm(jmp.c1*or1/2.)\n",
    "    dx2 = np.linalg.norm(dx + jmp.c2*or2/2. - jmp.c1*or1/2.)\n",
    "    dx3 = np.linalg.norm(-jmp.c2*or2/2.)\n",
    "    return dx1+dx2+dx3\n",
    "\n",
    "ind_sort2 = sorted(indices2, key=sortkey2)\n",
    "print(ind_sort2)"
   ]
  },
  {
   "cell_type": "code",
   "execution_count": 11,
   "metadata": {},
   "outputs": [],
   "source": [
    "jset2new = ([jnet2[ind_sort2[0]]], [jnet2_indexed[ind_sort2[0]]])"
   ]
  },
  {
   "cell_type": "code",
   "execution_count": 12,
   "metadata": {},
   "outputs": [
    {
     "name": "stdout",
     "output_type": "stream",
     "text": [
      "initializing thermo\n",
      "initializing kin\n",
      "generating thermodynamic shell\n",
      "built shell 1: time - 0.0005075931549072266\n",
      "grouped states by symmetry: 0.0030786991119384766\n",
      "built mixed dumbbell stars: 0.00011754035949707031\n",
      "built jtags2: 4.029273986816406e-05\n",
      "built mixed indexed star: 0.00037550926208496094\n",
      "building star2symlist : 3.814697265625e-05\n",
      "building bare, mixed index dicts : 9.1552734375e-05\n",
      "thermodynamic shell generated: 0.006536722183227539\n",
      "Total number of states in Thermodynamic Shell - 5, 2\n",
      "generating kinetic shell\n",
      "built shell 1: time - 0.0011272430419921875\n",
      "built shell 2: time - 0.005218982696533203\n",
      "grouped states by symmetry: 0.014017820358276367\n",
      "built mixed dumbbell stars: 8.225440979003906e-05\n",
      "built jtags2: 3.337860107421875e-05\n",
      "built mixed indexed star: 0.0002765655517578125\n",
      "building star2symlist : 4.3392181396484375e-05\n",
      "building bare, mixed index dicts : 8.678436279296875e-05\n",
      "Kinetic shell generated: 0.028203964233398438\n",
      "Total number of states in Kinetic Shell - 13, 2\n",
      "generating kinetic shell vector starset\n",
      "Kinetic shell vector starset generated: 0.015906810760498047\n",
      "Generating Jump networks\n",
      "building omega1\n",
      "built omega1 : time - 0.025394439697265625\n",
      "building omega43\n",
      "built omega43 : time 0.030572175979614258\n",
      "Jump networks generated: 0.05669379234313965\n",
      "building GF starsets\n",
      "\tComplex connections creation time: 0.04268145561218262\n",
      "\tComplex connections symmetry grouping time: 0.02590465545654297\n",
      "No. of pure dumbbell connections: 41\n",
      "GF star sets built: 0.06885981559753418\n",
      "Built Complex GF expansions: 0.05042767524719238\n",
      "built GFstarsets: 0.12004709243774414\n",
      "built rate expansions: 0.009420394897460938\n",
      "built bias expansions: 0.024727821350097656\n",
      "built outer product tensor:0.001829385757446289\n",
      "onsager calculator initiation time = 0.2898123264312744\n"
     ]
    }
   ],
   "source": [
    "start = time.time()\n",
    "onsagercalculator = dumbbellMediated(pdbcontainer, mdbcontainer, jset0new, jset2new, cutoff,\n",
    "                                     0.01, 0.01, 0.01, NGFmax=4, Nthermo=1)\n",
    "print(\"onsager calculator initiation time = {}\".format(time.time() - start))"
   ]
  },
  {
   "cell_type": "code",
   "execution_count": 13,
   "metadata": {},
   "outputs": [
    {
     "data": {
      "text/plain": [
       "4"
      ]
     },
     "execution_count": 13,
     "metadata": {},
     "output_type": "execute_result"
    }
   ],
   "source": [
    "len(onsagercalculator.jnet43)"
   ]
  },
  {
   "cell_type": "code",
   "execution_count": 14,
   "metadata": {},
   "outputs": [
    {
     "data": {
      "text/plain": [
       "[0, 0, 0, 0]"
      ]
     },
     "execution_count": 14,
     "metadata": {},
     "output_type": "execute_result"
    }
   ],
   "source": [
    "onsagercalculator.om1types"
   ]
  },
  {
   "cell_type": "code",
   "execution_count": 15,
   "metadata": {},
   "outputs": [
    {
     "name": "stdout",
     "output_type": "stream",
     "text": [
      "[2, 0, 3, 1]\n"
     ]
    }
   ],
   "source": [
    "jnet43 = onsagercalculator.jnet43\n",
    "jnet43_indexed = onsagercalculator.jnet43_indexed\n",
    "# Let's try to sort the jumps according to closest distance\n",
    "# we don't want the rotational jumps as before.\n",
    "\n",
    "z = np.zeros(crys2d.dim)\n",
    "indices43 = []\n",
    "for jt, jlist in enumerate(jnet43):\n",
    "    if np.allclose(jnet43_indexed[jt][0][1], z):\n",
    "        continue\n",
    "    indices43.append(jt)    \n",
    "# print(indices43)\n",
    "\n",
    "def sortkey43(entry):\n",
    "    jmp = jnet43[entry][0] # This is an omega4 jump\n",
    "    if not jmp.c2 == -1:\n",
    "        print(c2)\n",
    "    or1 = pdbcontainer.iorlist[jmp.state1.db.iorind][1]\n",
    "    or2 = mdbcontainer.iorlist[jmp.state2.db.iorind][1]\n",
    "    dx = DB_disp4(pdbcontainer, mdbcontainer, jmp.state1, jmp.state2)\n",
    "    # remember that c2 is -1 for an omega4 jump\n",
    "    dx1 = np.linalg.norm(jmp.c1*or1/2.)\n",
    "    dx2 = np.linalg.norm(dx - or2/2. - jmp.c1*or1/2.)\n",
    "    dx3 = np.linalg.norm(jmp.c2*or2/2.)\n",
    "    return dx1+dx2+dx3\n",
    "\n",
    "ind_sort43 = sorted(indices43, key=sortkey43)\n",
    "print(ind_sort43)"
   ]
  },
  {
   "cell_type": "code",
   "execution_count": 16,
   "metadata": {},
   "outputs": [
    {
     "name": "stdout",
     "output_type": "stream",
     "text": [
      "8\n"
     ]
    }
   ],
   "source": [
    "print(len(jnet43[ind_sort43[0]]))"
   ]
  },
  {
   "cell_type": "code",
   "execution_count": 17,
   "metadata": {
    "scrolled": true
   },
   "outputs": [
    {
     "name": "stdout",
     "output_type": "stream",
     "text": [
      "Jump object:\n",
      "Initial state:\n",
      "\tSolute loctation:basis index = 0, lattice vector = [0 0]\n",
      "\tdumbbell : (i, or) index = 0, lattice vector = [ 0 -1]\n",
      "Final state:\n",
      "\tSolute loctation :basis index = 0, lattice vector = [0 0]\n",
      "\tdumbbell : (i, or) index = 0, lattice vector = [0 0]\n",
      "Jumping from c1 = 1 to c2 = -1\n",
      "\n",
      "Jump object:\n",
      "Initial state:\n",
      "\tSolute loctation:basis index = 0, lattice vector = [0 0]\n",
      "\tdumbbell : (i, or) index = 0, lattice vector = [0 1]\n",
      "Final state:\n",
      "\tSolute loctation :basis index = 0, lattice vector = [0 0]\n",
      "\tdumbbell : (i, or) index = 1, lattice vector = [0 0]\n",
      "Jumping from c1 = -1 to c2 = -1\n",
      "\n",
      "Jump object:\n",
      "Initial state:\n",
      "\tSolute loctation:basis index = 0, lattice vector = [0 0]\n",
      "\tdumbbell : (i, or) index = 0, lattice vector = [-1  0]\n",
      "Final state:\n",
      "\tSolute loctation :basis index = 0, lattice vector = [0 0]\n",
      "\tdumbbell : (i, or) index = 1, lattice vector = [0 0]\n",
      "Jumping from c1 = -1 to c2 = -1\n",
      "\n",
      "Jump object:\n",
      "Initial state:\n",
      "\tSolute loctation:basis index = 0, lattice vector = [0 0]\n",
      "\tdumbbell : (i, or) index = 0, lattice vector = [1 0]\n",
      "Final state:\n",
      "\tSolute loctation :basis index = 0, lattice vector = [0 0]\n",
      "\tdumbbell : (i, or) index = 0, lattice vector = [0 0]\n",
      "Jumping from c1 = 1 to c2 = -1\n",
      "\n"
     ]
    }
   ],
   "source": [
    "# Check the omega43 jumps\n",
    "for jump in jnet43[ind_sort43[0]][0::2]:\n",
    "    print(jump)\n",
    "    print()"
   ]
  },
  {
   "cell_type": "code",
   "execution_count": 18,
   "metadata": {},
   "outputs": [
    {
     "data": {
      "text/plain": [
       "[(0, array([-0.2,  0. ])), (0, array([0.2, 0. ]))]"
      ]
     },
     "execution_count": 18,
     "metadata": {},
     "output_type": "execute_result"
    }
   ],
   "source": [
    "mdbcontainer.iorlist"
   ]
  },
  {
   "cell_type": "code",
   "execution_count": 19,
   "metadata": {},
   "outputs": [
    {
     "data": {
      "text/plain": [
       "[(0, array([-0.2,  0. ]))]"
      ]
     },
     "execution_count": 19,
     "metadata": {},
     "output_type": "execute_result"
    }
   ],
   "source": [
    "pdbcontainer.iorlist"
   ]
  },
  {
   "cell_type": "code",
   "execution_count": 20,
   "metadata": {},
   "outputs": [],
   "source": [
    "# regenerate expansions with new 4,3 jump list\n",
    "onsagercalculator.regenerate43([ind_sort43[0]])"
   ]
  },
  {
   "cell_type": "code",
   "execution_count": 21,
   "metadata": {},
   "outputs": [],
   "source": [
    "# 1.  First get the rates and thermodynamic data\n",
    "# All the energies of the \"mixed\" and pure dumbbells will be the same,\n",
    "# All the jump rates will be the same\n",
    "    # Since we have only one type each of omega0, omega2 and omega43 jumps, set their rates to zero.\n",
    "    # All omega1 rates will be the same as the above rate.\n",
    "# The \"solute\" energies will be zero since we are dealing with a chemically identical tracer.\n",
    "# All interaction energies will be zero.\n",
    "\n",
    "# 1a. Energies and pre-factors\n",
    "kT = 1\n",
    "\n",
    "predb0, enedb0 = np.ones(len(onsagercalculator.vkinetic.starset.pdbcontainer.symorlist)), \\\n",
    "                 np.ones(len(onsagercalculator.vkinetic.starset.pdbcontainer.symorlist))\n",
    "\n",
    "preS, eneS = np.ones(\n",
    "    len(onsagercalculator.vkinetic.starset.crys.sitelist(onsagercalculator.vkinetic.starset.chem))), \\\n",
    "             np.zeros(len(onsagercalculator.vkinetic.starset.crys.sitelist(\n",
    "                 onsagercalculator.vkinetic.starset.chem)))\n",
    "\n",
    "# These are the interaction or the excess energies and pre-factors for solutes and dumbbells.\n",
    "# The energies will all be zero.\n",
    "preSdb, eneSdb = np.ones(onsagercalculator.thermo.mixedstartindex), \\\n",
    "                 np.zeros(onsagercalculator.thermo.mixedstartindex)\n",
    "\n",
    "predb2, enedb2 = predb0.copy(), enedb0.copy()\n",
    "\n",
    "preT0, eneT0 = np.ones(len(onsagercalculator.vkinetic.starset.jnet0)), np.ones(len(onsagercalculator.jnet0))\n",
    "preT2, eneT2 = preT0.copy(), eneT0.copy()\n",
    "preT1, eneT1 = np.ones(len(onsagercalculator.jnet1)), np.array([eneT0[onsagercalculator.om1types[jt]] for jt in\n",
    "                                                                range(len(onsagercalculator.jnet1))])\n",
    "\n",
    "preT43, eneT43 = np.ones(len(onsagercalculator.jnet43)), eneT0.copy()"
   ]
  },
  {
   "cell_type": "code",
   "execution_count": 22,
   "metadata": {},
   "outputs": [],
   "source": [
    "# 1b. Now get the beta*free energy values.\n",
    "bFdb0, bFdb2, bFS, bFSdb, bFT0, bFT1, bFT2, bFT3, bFT4 = \\\n",
    "    onsagercalculator.preene2betafree(kT, predb0, enedb0, preS, eneS, preSdb, eneSdb, predb2, enedb2,\n",
    "                                           preT0, eneT0, preT2, eneT2, preT1, eneT1, preT43, eneT43)"
   ]
  },
  {
   "cell_type": "code",
   "execution_count": 23,
   "metadata": {},
   "outputs": [
    {
     "data": {
      "text/plain": [
       "4"
      ]
     },
     "execution_count": 23,
     "metadata": {},
     "output_type": "execute_result"
    }
   ],
   "source": [
    "len(onsagercalculator.jnet1)"
   ]
  },
  {
   "cell_type": "code",
   "execution_count": 24,
   "metadata": {},
   "outputs": [],
   "source": [
    "# get the probabilities and other data from L_ij\n",
    "L0bb,(L_uc_aa,L_c_aa), (L_uc_bb,L_c_bb), (L_uc_ab,L_c_ab)=\\\n",
    "onsagercalculator.L_ij(bFdb0, bFT0, bFdb2, bFT2, bFS, bFSdb, bFT1, bFT3, bFT4)"
   ]
  },
  {
   "cell_type": "code",
   "execution_count": 25,
   "metadata": {},
   "outputs": [],
   "source": [
    "L_aa = L_uc_aa + L_c_aa\n",
    "L_ab = L_uc_ab + L_c_ab"
   ]
  },
  {
   "cell_type": "code",
   "execution_count": 26,
   "metadata": {},
   "outputs": [
    {
     "data": {
      "text/plain": [
       "array([[1. , 0. ],\n",
       "       [0. , 0.5]])"
      ]
     },
     "execution_count": 26,
     "metadata": {},
     "output_type": "execute_result"
    }
   ],
   "source": [
    "L_ab"
   ]
  },
  {
   "cell_type": "code",
   "execution_count": 27,
   "metadata": {},
   "outputs": [
    {
     "data": {
      "text/plain": [
       "array([[0.241453, 0.      ],\n",
       "       [0.      , 0.5     ]])"
      ]
     },
     "execution_count": 27,
     "metadata": {},
     "output_type": "execute_result"
    }
   ],
   "source": [
    "L_aa"
   ]
  },
  {
   "cell_type": "code",
   "execution_count": 28,
   "metadata": {},
   "outputs": [
    {
     "data": {
      "text/plain": [
       "0.4943020016465871"
      ]
     },
     "execution_count": 28,
     "metadata": {},
     "output_type": "execute_result"
    }
   ],
   "source": [
    "np.trace(L_aa)/np.trace(L_ab)"
   ]
  },
  {
   "cell_type": "code",
   "execution_count": 29,
   "metadata": {},
   "outputs": [
    {
     "data": {
      "text/plain": [
       "0.4943020016465871"
      ]
     },
     "execution_count": 29,
     "metadata": {},
     "output_type": "execute_result"
    }
   ],
   "source": [
    "np.trace(L_aa)/np.trace(L_uc_aa)"
   ]
  },
  {
   "cell_type": "code",
   "execution_count": null,
   "metadata": {},
   "outputs": [],
   "source": []
  }
 ],
 "metadata": {
  "kernelspec": {
   "display_name": "Python 3",
   "language": "python",
   "name": "python3"
  },
  "language_info": {
   "codemirror_mode": {
    "name": "ipython",
    "version": 3
   },
   "file_extension": ".py",
   "mimetype": "text/x-python",
   "name": "python",
   "nbconvert_exporter": "python",
   "pygments_lexer": "ipython3",
   "version": "3.6.9"
  }
 },
 "nbformat": 4,
 "nbformat_minor": 4
}
