{
 "cells": [
  {
   "cell_type": "code",
   "execution_count": 1,
   "metadata": {},
   "outputs": [],
   "source": [
    "import sys\n",
    "sys.path.extend([\"../../../../\"])"
   ]
  },
  {
   "cell_type": "code",
   "execution_count": 2,
   "metadata": {},
   "outputs": [
    {
     "name": "stderr",
     "output_type": "stream",
     "text": [
      "../../../../onsager/cluster.py:804: NumbaDeprecationWarning: The 'numba.jitclass' decorator has moved to 'numba.experimental.jitclass' to better reflect the experimental nature of the functionality. Please update your imports to accommodate this change and see http://numba.pydata.org/numba-doc/latest/reference/deprecation.html#change-of-jitclass-location for the time frame.\n",
      "  @jitclass(MonteCarloSamplerSpec)\n"
     ]
    }
   ],
   "source": [
    "from onsager.crystal import Crystal\n",
    "from onsager.crystalStars import zeroclean\n",
    "from onsager.OnsagerCalc import *\n",
    "from onsager.crystal import DB_disp, DB_disp4, pureDBContainer, mixedDBContainer\n",
    "from onsager.DB_structs import dumbbell, SdPair, jump, connector"
   ]
  },
  {
   "cell_type": "code",
   "execution_count": 4,
   "metadata": {},
   "outputs": [
    {
     "name": "stdout",
     "output_type": "stream",
     "text": [
      "#Lattice:\n",
      "  a1 = [0.5 0.5 0.5]\n",
      "  a2 = [-0.5  0.5 -0.5]\n",
      "  a3 = [-0.5 -0.5  0.5]\n",
      "#Basis:\n",
      "  (Fe) 0.0 = [0. 0. 0.]\n"
     ]
    }
   ],
   "source": [
    "# make a BCC lattice\n",
    "# We'll modify the jumpnetwork to keep only the 60 degree reorientational jumps.\n",
    "a0 = 1.0\n",
    "latt = np.array([[1., 0., 0.], [0., 1., 0.], [0., 0., 1.]]) * a0\n",
    "Fe = crystal.Crystal(latt, [[np.array([0., 0., 0.]), np.array([0.5, 0.5, 0.5])]], [\"Fe\"])\n",
    "# Now give it the orientations - for BCC it's [110]\n",
    "o = np.array([1.,1.,0.])/np.linalg.norm(np.array([1.,1.,0.]))*a0/4\n",
    "famp0 = [o.copy()]\n",
    "family = [famp0]\n",
    "pdbcontainer_fe = pureDBContainer(Fe, 0, family)\n",
    "mdbcontainer_fe = mixedDBContainer(Fe, 0, family)\n",
    "jcut = np.sqrt(3)*1.01*a0/2.\n",
    "jset0, jset2 = pdbcontainer_fe.jumpnetwork(jcut, 0.01, 0.01), mdbcontainer_fe.jumpnetwork(jcut, 0.01, 0.01)\n",
    "print(Fe)"
   ]
  },
  {
   "cell_type": "code",
   "execution_count": 6,
   "metadata": {},
   "outputs": [],
   "source": [
    "# Modify jnet0\n",
    "jnet0 = jset0[0]\n",
    "jnet0_indexed = jset0[1]\n",
    "# Let's try to sort the jumps according to closest distance\n",
    "# except rotational jumps, we don't want them.\n",
    "z = np.zeros(3)\n",
    "indices = []\n",
    "\n",
    "for jt, jlist in enumerate(jnet0):\n",
    "    if np.allclose(jnet0_indexed[jt][0][1], z):\n",
    "        continue\n",
    "    indices.append(jt)\n",
    "    \n",
    "def sortkey(entry):\n",
    "    jmp = jnet0[entry][0]\n",
    "    or1 = pdbcontainer_fe.iorlist[jmp.state1.iorind][1]\n",
    "    or2 = pdbcontainer_fe.iorlist[jmp.state2.iorind][1]\n",
    "    dx = DB_disp(pdbcontainer_fe, jmp.state1, jmp.state2)\n",
    "    dx1 = np.linalg.norm(jmp.c1*or1/2.)\n",
    "    dx2 = np.linalg.norm(dx + jmp.c2*or2/2. - jmp.c1*or1/2.)\n",
    "    dx3 = np.linalg.norm(-jmp.c2*or2/2.)\n",
    "    return dx1+dx2+dx3\n",
    "ind_sort = sorted(indices, key=sortkey)"
   ]
  },
  {
   "cell_type": "code",
   "execution_count": 7,
   "metadata": {},
   "outputs": [
    {
     "name": "stdout",
     "output_type": "stream",
     "text": [
      "Jump object:\n",
      "Initial state:\n",
      "\tdumbbell : (i, or) index = 1, lattice vector = [0 0 0]\n",
      "Final state:\n",
      "\tdumbbell : (i, or) index = 0, lattice vector = [1 1 1]\n",
      "Jumping from c1 = -1 to c2 = -1\n",
      "\n"
     ]
    }
   ],
   "source": [
    "# Let's check if we got the correct jump\n",
    "print(jnet0[ind_sort[0]][0])"
   ]
  },
  {
   "cell_type": "code",
   "execution_count": 8,
   "metadata": {},
   "outputs": [
    {
     "data": {
      "text/plain": [
       "[(0, array([0.       , 0.1767767, 0.1767767])),\n",
       " (0, array([ 0.1767767,  0.       , -0.1767767])),\n",
       " (0, array([0.1767767, 0.1767767, 0.       ])),\n",
       " (0, array([0.1767767, 0.       , 0.1767767])),\n",
       " (0, array([ 0.       , -0.1767767,  0.1767767])),\n",
       " (0, array([ 0.1767767, -0.1767767,  0.       ]))]"
      ]
     },
     "execution_count": 8,
     "metadata": {},
     "output_type": "execute_result"
    }
   ],
   "source": [
    "pdbcontainer_fe.iorlist"
   ]
  },
  {
   "cell_type": "code",
   "execution_count": 9,
   "metadata": {},
   "outputs": [],
   "source": [
    "# take only the lowest displacement jump\n",
    "# that is the jump we want.\n",
    "jset0new = ([jnet0[ind_sort[0]]], [jnet0_indexed[ind_sort[0]]])"
   ]
  },
  {
   "cell_type": "code",
   "execution_count": 11,
   "metadata": {},
   "outputs": [
    {
     "name": "stdout",
     "output_type": "stream",
     "text": [
      "[0, 1, 2, 3, 4, 5, 6, 7, 8, 9, 10, 11, 12, 13, 14, 15, 16]\n",
      "[7, 11, 8, 9, 10, 0, 12, 6, 13, 14, 15, 16, 2, 5, 4, 1, 3]\n"
     ]
    }
   ],
   "source": [
    "# Now, we modify the mixed dumbbell jumpnetwork to also give the lowest displacement jump\n",
    "# Modify jnet0\n",
    "jnet2 = jset2[0]\n",
    "jnet2_indexed = jset2[1]\n",
    "# Let's try to sort the jumps according to closest distance\n",
    "# we don't want the rotational jumps as before.\n",
    "z = np.zeros(3)\n",
    "indices2 = []\n",
    "for jt, jlist in enumerate(jnet2):\n",
    "    if np.allclose(jnet2_indexed[jt][0][1], z):\n",
    "        continue\n",
    "    indices2.append(jt)    \n",
    "print(indices2)\n",
    "\n",
    "def sortkey2(entry):\n",
    "    jmp = jnet2[entry][0]\n",
    "    or1 = mdbcontainer_fe.iorlist[jmp.state1.db.iorind][1]\n",
    "    or2 = mdbcontainer_fe.iorlist[jmp.state2.db.iorind][1]\n",
    "    dx = DB_disp(mdbcontainer_fe, jmp.state1, jmp.state2)\n",
    "    # c1 and c2 are always +1 for mixed dumbbell jumps.\n",
    "    dx1 = np.linalg.norm(jmp.c1*or1/2.)\n",
    "    dx2 = np.linalg.norm(dx + jmp.c2*or2/2. - jmp.c1*or1/2.)\n",
    "    dx3 = np.linalg.norm(-jmp.c2*or2/2.)\n",
    "    return dx1+dx2+dx3\n",
    "ind_sort2 = sorted(indices2, key=sortkey2)\n",
    "print(ind_sort2)"
   ]
  },
  {
   "cell_type": "code",
   "execution_count": 12,
   "metadata": {},
   "outputs": [
    {
     "name": "stdout",
     "output_type": "stream",
     "text": [
      "Jump object:\n",
      "Initial state:\n",
      "\tSolute loctation:basis index = 0, lattice vector = [0 0 0]\n",
      "\tdumbbell : (i, or) index = 9, lattice vector = [0 0 0]\n",
      "Final state:\n",
      "\tSolute loctation :basis index = 0, lattice vector = [0 0 1]\n",
      "\tdumbbell : (i, or) index = 8, lattice vector = [0 0 1]\n",
      "Jumping from c1 = 1 to c2 = 1\n"
     ]
    }
   ],
   "source": [
    "# check if we have the correct type of jump\n",
    "print(jnet2[ind_sort2[0]][0])"
   ]
  },
  {
   "cell_type": "code",
   "execution_count": 13,
   "metadata": {},
   "outputs": [
    {
     "name": "stdout",
     "output_type": "stream",
     "text": [
      "(0, array([0.       , 0.1767767, 0.1767767]))\n",
      "(0, array([ 0.1767767,  0.       , -0.1767767]))\n",
      "(0, array([0.1767767, 0.1767767, 0.       ]))\n",
      "(0, array([0.1767767, 0.       , 0.1767767]))\n",
      "(0, array([ 0.       , -0.1767767, -0.1767767]))\n",
      "(0, array([-0.1767767,  0.       , -0.1767767]))\n",
      "(0, array([ 0.       , -0.1767767,  0.1767767]))\n",
      "(0, array([ 0.1767767, -0.1767767,  0.       ]))\n",
      "(0, array([ 0.       ,  0.1767767, -0.1767767]))\n",
      "(0, array([-0.1767767, -0.1767767,  0.       ]))\n",
      "(0, array([-0.1767767,  0.1767767,  0.       ]))\n",
      "(0, array([-0.1767767,  0.       ,  0.1767767]))\n"
     ]
    }
   ],
   "source": [
    "for tup in mdbcontainer_fe.iorlist:\n",
    "    print(tup)"
   ]
  },
  {
   "cell_type": "code",
   "execution_count": 14,
   "metadata": {},
   "outputs": [],
   "source": [
    "# take only the lowest displacement jump\n",
    "# that is the jump we want.\n",
    "jset2new = ([jnet2[ind_sort2[0]]], [jnet2_indexed[ind_sort2[0]]])"
   ]
  },
  {
   "cell_type": "code",
   "execution_count": 15,
   "metadata": {},
   "outputs": [
    {
     "name": "stdout",
     "output_type": "stream",
     "text": [
      "initializing thermo\n",
      "initializing kin\n",
      "generating thermodynamic shell\n",
      "built shell 1: time - 0.0272674560546875\n",
      "grouped states by symmetry: 0.09549093246459961\n",
      "built mixed dumbbell stars: 0.00041365623474121094\n",
      "built jtags2: 0.00030803680419921875\n",
      "built mixed indexed star: 0.005690336227416992\n",
      "building star2symlist : 3.814697265625e-05\n",
      "building bare, mixed index dicts : 0.00012087821960449219\n",
      "thermodynamic shell generated: 0.18557047843933105\n",
      "Total number of states in Thermodynamic Shell - 54, 12\n",
      "generating kinetic shell\n",
      "built shell 1: time - 0.027957439422607422\n",
      "built shell 2: time - 0.9283726215362549\n",
      "grouped states by symmetry: 1.0370509624481201\n",
      "built mixed dumbbell stars: 0.0006852149963378906\n",
      "built jtags2: 0.001753091812133789\n",
      "built mixed indexed star: 0.012142658233642578\n",
      "building star2symlist : 0.00015974044799804688\n",
      "building bare, mixed index dicts : 0.0004780292510986328\n",
      "Kinetic shell generated: 2.9629104137420654\n",
      "Total number of states in Kinetic Shell - 210, 12\n",
      "generating kinetic shell vector starset\n",
      "Kinetic shell vector starset generated: 1.2795212268829346\n",
      "Generating Jump networks\n",
      "building omega1\n",
      "built omega1 : time - 0.9337716102600098\n",
      "building omega43\n",
      "built omega43 : time 2.7882306575775146\n",
      "Jump networks generated: 3.7338130474090576\n",
      "building GF starsets\n",
      "\tComplex connections creation time: 25.294342279434204\n",
      "\tComplex connections symmetry grouping time: 7.7029173374176025\n",
      "No. of pure dumbbell connections: 6804\n",
      "GF star sets built: 33.000293254852295\n",
      "Built Complex GF expansions: 20.17355179786682\n",
      "built GFstarsets: 53.21182322502136\n",
      "built rate expansions: 0.430314302444458\n",
      "built bias expansions: 1.933239221572876\n",
      "built outer product tensor:0.04039907455444336\n",
      "onsager calculator initiation time = 66.93734669685364\n"
     ]
    }
   ],
   "source": [
    "# Now, we construct the Onsager calculator with these non-local jump sets.\n",
    "start = time.time()\n",
    "onsagercalculator = dumbbellMediated(pdbcontainer_fe, mdbcontainer_fe, jset0new, jset2new, jcut,\n",
    "                                     0.01, 0.01, 0.01, NGFmax=4, Nthermo=1)\n",
    "print(\"onsager calculator initiation time = {}\".format(time.time() - start))"
   ]
  },
  {
   "cell_type": "code",
   "execution_count": 16,
   "metadata": {},
   "outputs": [
    {
     "data": {
      "text/plain": [
       "[0, 0, 0, 0, 0, 0, 0, 0]"
      ]
     },
     "execution_count": 16,
     "metadata": {},
     "output_type": "execute_result"
    }
   ],
   "source": [
    "onsagercalculator.om1types"
   ]
  },
  {
   "cell_type": "code",
   "execution_count": 18,
   "metadata": {},
   "outputs": [
    {
     "name": "stdout",
     "output_type": "stream",
     "text": [
      "[8, 6, 12, 18, 10, 14, 2, 17, 0, 7, 22, 4, 9, 16, 25, 15, 24, 23, 3, 21, 11, 19, 13, 20, 5, 1]\n"
     ]
    }
   ],
   "source": [
    "# Next, we must also modify the omega3 and omega4 jump lists\n",
    "jnet43 = onsagercalculator.jnet43\n",
    "jnet43_indexed = onsagercalculator.jnet43_indexed\n",
    "# Let's try to sort the jumps according to closest distance\n",
    "# we don't want the rotational jumps as before.\n",
    "\n",
    "z = np.zeros(3)\n",
    "indices43 = []\n",
    "for jt, jlist in enumerate(jnet43):\n",
    "    if np.allclose(jnet43_indexed[jt][0][1], z):\n",
    "        continue\n",
    "    indices43.append(jt)    \n",
    "# print(indices43)\n",
    "\n",
    "def sortkey43(entry):\n",
    "    jmp = jnet43[entry][0] # This is an omega4 jump\n",
    "    if not jmp.c2 == -1:\n",
    "        print(c2)\n",
    "    or1 = pdbcontainer_fe.iorlist[jmp.state1.db.iorind][1]\n",
    "    or2 = mdbcontainer_fe.iorlist[jmp.state2.db.iorind][1]\n",
    "    dx = DB_disp4(pdbcontainer_fe, mdbcontainer_fe, jmp.state1, jmp.state2)\n",
    "    # remember that c2 is -1 for an omega4 jump\n",
    "    dx1 = np.linalg.norm(jmp.c1*or1/2.)\n",
    "    dx2 = np.linalg.norm(dx - or2/2. - jmp.c1*or1/2.)\n",
    "    dx3 = np.linalg.norm(jmp.c2*or2/2.)\n",
    "    return dx1+dx2+dx3\n",
    "\n",
    "ind_sort43 = sorted(indices43, key=sortkey43)\n",
    "print(ind_sort43)"
   ]
  },
  {
   "cell_type": "code",
   "execution_count": 19,
   "metadata": {},
   "outputs": [
    {
     "name": "stdout",
     "output_type": "stream",
     "text": [
      "Jump object:\n",
      "Initial state:\n",
      "\tSolute loctation:basis index = 0, lattice vector = [0 0 0]\n",
      "\tdumbbell : (i, or) index = 5, lattice vector = [1 1 1]\n",
      "Final state:\n",
      "\tSolute loctation :basis index = 0, lattice vector = [0 0 0]\n",
      "\tdumbbell : (i, or) index = 1, lattice vector = [0 0 0]\n",
      "Jumping from c1 = 1 to c2 = -1\n"
     ]
    }
   ],
   "source": [
    "# check if we have the correct jump\n",
    "print(jnet43[ind_sort43[0]][0])"
   ]
  },
  {
   "cell_type": "code",
   "execution_count": 20,
   "metadata": {},
   "outputs": [
    {
     "data": {
      "text/plain": [
       "[(0, array([0.       , 0.1767767, 0.1767767])),\n",
       " (0, array([ 0.1767767,  0.       , -0.1767767])),\n",
       " (0, array([0.1767767, 0.1767767, 0.       ])),\n",
       " (0, array([0.1767767, 0.       , 0.1767767])),\n",
       " (0, array([ 0.       , -0.1767767,  0.1767767])),\n",
       " (0, array([ 0.1767767, -0.1767767,  0.       ]))]"
      ]
     },
     "execution_count": 20,
     "metadata": {},
     "output_type": "execute_result"
    }
   ],
   "source": [
    "pdbcontainer_fe.iorlist"
   ]
  },
  {
   "cell_type": "code",
   "execution_count": 21,
   "metadata": {},
   "outputs": [
    {
     "data": {
      "text/plain": [
       "[(0, array([0.       , 0.1767767, 0.1767767])),\n",
       " (0, array([ 0.1767767,  0.       , -0.1767767])),\n",
       " (0, array([0.1767767, 0.1767767, 0.       ])),\n",
       " (0, array([0.1767767, 0.       , 0.1767767])),\n",
       " (0, array([ 0.       , -0.1767767, -0.1767767])),\n",
       " (0, array([-0.1767767,  0.       , -0.1767767])),\n",
       " (0, array([ 0.       , -0.1767767,  0.1767767])),\n",
       " (0, array([ 0.1767767, -0.1767767,  0.       ])),\n",
       " (0, array([ 0.       ,  0.1767767, -0.1767767])),\n",
       " (0, array([-0.1767767, -0.1767767,  0.       ])),\n",
       " (0, array([-0.1767767,  0.1767767,  0.       ])),\n",
       " (0, array([-0.1767767,  0.       ,  0.1767767]))]"
      ]
     },
     "execution_count": 21,
     "metadata": {},
     "output_type": "execute_result"
    }
   ],
   "source": [
    "mdbcontainer_fe.iorlist"
   ]
  },
  {
   "cell_type": "code",
   "execution_count": 22,
   "metadata": {},
   "outputs": [],
   "source": [
    "onsagercalculator.regenerate43([ind_sort43[0]])"
   ]
  },
  {
   "cell_type": "code",
   "execution_count": 23,
   "metadata": {},
   "outputs": [],
   "source": [
    "# 1.  First get the rates and thermodynamic data\n",
    "# All the energies of the \"mixed\" and pure dumbbells will be the same,\n",
    "# All the jump rates will be the same\n",
    "    # Since we have only one type each of omega0, omega2 and omega43 jumps, set their rates to zero.\n",
    "    # All omega1 rates will be the same as the above rate.\n",
    "# The \"solute\" energies will be zero since we are dealing with a chemically identical tracer.\n",
    "# All interaction energies will be zero.\n",
    "\n",
    "# 1a. Energies and pre-factors\n",
    "kT = 1\n",
    "\n",
    "predb0, enedb0 = np.ones(len(onsagercalculator.vkinetic.starset.pdbcontainer.symorlist)), \\\n",
    "                 np.random.rand(len(onsagercalculator.vkinetic.starset.pdbcontainer.symorlist))\n",
    "\n",
    "preS, eneS = np.ones(\n",
    "    len(onsagercalculator.vkinetic.starset.crys.sitelist(onsagercalculator.vkinetic.starset.chem))), \\\n",
    "             np.zeros(len(onsagercalculator.vkinetic.starset.crys.sitelist(\n",
    "                 onsagercalculator.vkinetic.starset.chem)))\n",
    "\n",
    "# These are the interaction or the excess energies and pre-factors for solutes and dumbbells.\n",
    "# The energies will all be zero.\n",
    "preSdb, eneSdb = np.ones(onsagercalculator.thermo.mixedstartindex), \\\n",
    "                 np.zeros(onsagercalculator.thermo.mixedstartindex)\n",
    "\n",
    "predb2, enedb2 = predb0.copy(), enedb0.copy()\n",
    "\n",
    "preT0, eneT0 = np.ones(len(onsagercalculator.vkinetic.starset.jnet0)), np.random.rand(\n",
    "    len(onsagercalculator.jnet0))\n",
    "preT2, eneT2 = preT0.copy(), eneT0.copy()\n",
    "preT1, eneT1 = np.ones(len(onsagercalculator.jnet1)), np.array([eneT0[onsagercalculator.om1types[jt]] for jt in\n",
    "                                                                range(len(onsagercalculator.jnet1))])\n",
    "\n",
    "preT43, eneT43 = np.ones(len(onsagercalculator.jnet43)), eneT0.copy()"
   ]
  },
  {
   "cell_type": "code",
   "execution_count": 24,
   "metadata": {},
   "outputs": [],
   "source": [
    "# 1b. Now get the beta*free energy values.\n",
    "bFdb0, bFdb2, bFS, bFSdb, bFT0, bFT1, bFT2, bFT3, bFT4 = \\\n",
    "    onsagercalculator.preene2betafree(kT, predb0, enedb0, preS, eneS, preSdb, eneSdb, predb2, enedb2,\n",
    "                                           preT0, eneT0, preT2, eneT2, preT1, eneT1, preT43, eneT43)"
   ]
  },
  {
   "cell_type": "code",
   "execution_count": 25,
   "metadata": {},
   "outputs": [
    {
     "data": {
      "text/plain": [
       "8"
      ]
     },
     "execution_count": 25,
     "metadata": {},
     "output_type": "execute_result"
    }
   ],
   "source": [
    "len(onsagercalculator.jnet1)"
   ]
  },
  {
   "cell_type": "code",
   "execution_count": 26,
   "metadata": {},
   "outputs": [],
   "source": [
    "# get the probabilities and other data from L_ij\n",
    "L0bb,(L_uc_aa,L_c_aa), (L_uc_bb,L_c_bb), (L_uc_ab,L_c_ab)=\\\n",
    "onsagercalculator.L_ij(bFdb0, bFT0, bFdb2, bFT2, bFS, bFSdb, bFT1, bFT3, bFT4)"
   ]
  },
  {
   "cell_type": "code",
   "execution_count": 27,
   "metadata": {},
   "outputs": [],
   "source": [
    "L_aa = L_uc_aa + L_c_aa"
   ]
  },
  {
   "cell_type": "code",
   "execution_count": 28,
   "metadata": {},
   "outputs": [],
   "source": [
    "L_ab = L_uc_ab + L_c_ab"
   ]
  },
  {
   "cell_type": "code",
   "execution_count": 29,
   "metadata": {},
   "outputs": [
    {
     "data": {
      "text/plain": [
       "0.4126434097962864"
      ]
     },
     "execution_count": 29,
     "metadata": {},
     "output_type": "execute_result"
    }
   ],
   "source": [
    "L_aa[0][0]/L_ab[0][0]"
   ]
  },
  {
   "cell_type": "code",
   "execution_count": null,
   "metadata": {},
   "outputs": [],
   "source": []
  }
 ],
 "metadata": {
  "kernelspec": {
   "display_name": "Python 3",
   "language": "python",
   "name": "python3"
  },
  "language_info": {
   "codemirror_mode": {
    "name": "ipython",
    "version": 3
   },
   "file_extension": ".py",
   "mimetype": "text/x-python",
   "name": "python",
   "nbconvert_exporter": "python",
   "pygments_lexer": "ipython3",
   "version": "3.6.9"
  }
 },
 "nbformat": 4,
 "nbformat_minor": 2
}
