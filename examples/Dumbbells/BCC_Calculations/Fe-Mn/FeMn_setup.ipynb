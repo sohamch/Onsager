{
 "cells": [
  {
   "cell_type": "code",
   "execution_count": 1,
   "metadata": {},
   "outputs": [],
   "source": [
    "import sys\n",
    "sys.path.extend([\"../../../../\"])"
   ]
  },
  {
   "cell_type": "code",
   "execution_count": 2,
   "metadata": {},
   "outputs": [],
   "source": [
    "import numpy as np\n",
    "from onsager.crystal import Crystal\n",
    "from onsager.crystalStars import zeroclean\n",
    "from onsager.OnsagerCalc import *\n",
    "from onsager.crystal import DB_disp, DB_disp4, pureDBContainer, mixedDBContainer\n",
    "from onsager.DB_structs import dumbbell, SdPair, jump, connector"
   ]
  },
  {
   "cell_type": "code",
   "execution_count": 3,
   "metadata": {},
   "outputs": [],
   "source": [
    "# make a BCC lattice\n",
    "# We'll modify the jumpnetwork to keep only the 60 degree reorientational jumps.\n",
    "latt = np.array([[1., 0., 0.], [0., 1., 0.], [0., 0., 1.]]) * 0.2831\n",
    "Fe = crystal.Crystal(latt, [[np.array([0., 0., 0.]), np.array([0.5, 0.5, 0.5])]], [\"Fe\"])\n",
    "# Now give it the orientations - for BCC it's [110]\n",
    "o = np.array([1.,1.,0.])/np.linalg.norm(np.array([1.,1.,0.]))*0.126*2\n",
    "famp0 = [o.copy()]\n",
    "family = [famp0]\n",
    "pdbcontainer_fe = pureDBContainer(Fe, 0, family)\n",
    "mdbcontainer_fe = mixedDBContainer(Fe, 0, family)\n",
    "jset0, jset2 = pdbcontainer_fe.jumpnetwork(0.26, 0.01, 0.01), mdbcontainer_fe.jumpnetwork(0.26, 0.01, 0.01)"
   ]
  },
  {
   "cell_type": "code",
   "execution_count": 4,
   "metadata": {},
   "outputs": [
    {
     "data": {
      "text/plain": [
       "3"
      ]
     },
     "execution_count": 4,
     "metadata": {},
     "output_type": "execute_result"
    }
   ],
   "source": [
    "# Modify jnet0\n",
    "jnet0 = jset0[0]\n",
    "jnet0_indexed = jset0[1]\n",
    "# Let's try to sort the jumps according to closest distance\n",
    "\n",
    "def sortkey(entry):\n",
    "    jmp = jnet0[entry][0]\n",
    "    or1 = pdbcontainer_fe.iorlist[jmp.state1.iorind][1]\n",
    "    or2 = pdbcontainer_fe.iorlist[jmp.state2.iorind][1]\n",
    "    dx = DB_disp(pdbcontainer_fe, jmp.state1, jmp.state2)\n",
    "    dx1 = np.linalg.norm(jmp.c1*or1/2.)\n",
    "    dx2 = np.linalg.norm(dx + jmp.c2*or2/2. - jmp.c1*or1/2.)\n",
    "    dx3 = np.linalg.norm(-jmp.c2*or2/2.)\n",
    "    return dx1+dx2+dx3\n",
    "\n",
    "z = np.zeros(3)\n",
    "indices = []\n",
    "for jt, jlist in enumerate(jnet0):\n",
    "#     if np.allclose(jnet0_indexed[jt][0][1], z):\n",
    "#         continue\n",
    "    indices.append(jt)\n",
    "\n",
    "ind_sort = sorted(indices, key=sortkey)[:3]\n",
    "len(ind_sort)"
   ]
  },
  {
   "cell_type": "code",
   "execution_count": 5,
   "metadata": {},
   "outputs": [
    {
     "name": "stdout",
     "output_type": "stream",
     "text": [
      "Jump object:\n",
      "Initial state:\n",
      "\tdumbbell : (i, or) index = 4, lattice vector = [0 0 0]\n",
      "Final state:\n",
      "\tdumbbell : (i, or) index = 2, lattice vector = [ 0  0 -1]\n",
      "Jumping from c1 = -1 to c2 = -1\n",
      "\n",
      "[ 0.14155  0.14155 -0.14155]\n",
      "\n",
      "Jump object:\n",
      "Initial state:\n",
      "\tdumbbell : (i, or) index = 3, lattice vector = [0 0 0]\n",
      "Final state:\n",
      "\tdumbbell : (i, or) index = 4, lattice vector = [0 0 0]\n",
      "Jumping from c1 = -1 to c2 = -1\n",
      "\n",
      "[0. 0. 0.]\n",
      "\n",
      "Jump object:\n",
      "Initial state:\n",
      "\tdumbbell : (i, or) index = 4, lattice vector = [0 0 0]\n",
      "Final state:\n",
      "\tdumbbell : (i, or) index = 4, lattice vector = [ 0  0 -1]\n",
      "Jumping from c1 = -1 to c2 = 1\n",
      "\n",
      "[ 0.14155  0.14155 -0.14155]\n",
      "\n"
     ]
    }
   ],
   "source": [
    "for ind in ind_sort:\n",
    "    jmp = jnet0[ind][0]\n",
    "    print(jmp)\n",
    "    print(np.dot(Fe.lattice, jmp.state2.R))\n",
    "    print()"
   ]
  },
  {
   "cell_type": "code",
   "execution_count": 6,
   "metadata": {},
   "outputs": [
    {
     "data": {
      "text/plain": [
       "[(0, array([-1.78190909e-01, -1.78190909e-01,  1.01947883e-17])),\n",
       " (0, array([ 1.01947883e-17, -1.78190909e-01, -1.78190909e-01])),\n",
       " (0, array([ 1.78190909e-01,  1.01947883e-17, -1.78190909e-01])),\n",
       " (0, array([ 1.78190909e-01, -1.78190909e-01,  5.09739416e-18])),\n",
       " (0, array([-2.83727636e-34, -1.78190909e-01,  1.78190909e-01])),\n",
       " (0, array([1.78190909e-01, 2.83727636e-34, 1.78190909e-01]))]"
      ]
     },
     "execution_count": 6,
     "metadata": {},
     "output_type": "execute_result"
    }
   ],
   "source": [
    "pdbcontainer_fe.iorlist"
   ]
  },
  {
   "cell_type": "code",
   "execution_count": 7,
   "metadata": {},
   "outputs": [],
   "source": [
    "# take the jumps we want.\n",
    "jset0new = ([jnet0[i] for i in ind_sort], [jnet0_indexed[i] for i in ind_sort])"
   ]
  },
  {
   "cell_type": "code",
   "execution_count": 8,
   "metadata": {},
   "outputs": [
    {
     "name": "stdout",
     "output_type": "stream",
     "text": [
      "[14, 12, 17] [17, 19]\n"
     ]
    }
   ],
   "source": [
    "# Now, we modify the mixed dumbbell jumpnetwork.\n",
    "# We'll include all the jumps there are in the paper\n",
    "# They are: First and second lowest transition jumps, 60 deg on-site rotation, 90-deg onsite rotation.\n",
    "jnet2 = jset2[0]\n",
    "jnet2_indexed = jset2[1]\n",
    "# Let's try to sort the jumps according to closest distance\n",
    "# we don't want only the rotational jumps as listed.\n",
    "\n",
    "def sortkey2(entry):\n",
    "    jmp = jnet2[entry][0]\n",
    "    or1 = mdbcontainer_fe.iorlist[jmp.state1.db.iorind][1]\n",
    "    or2 = mdbcontainer_fe.iorlist[jmp.state2.db.iorind][1]\n",
    "    dx = DB_disp(mdbcontainer_fe, jmp.state1, jmp.state2)\n",
    "    # c1 and c2 are always +1 for mixed dumbbell jumps.\n",
    "    dx1 = np.linalg.norm(jmp.c1*or1/2.)\n",
    "    dx2 = np.linalg.norm(dx + jmp.c2*or2/2. - jmp.c1*or1/2.)\n",
    "    dx3 = np.linalg.norm(-jmp.c2*or2/2.)\n",
    "    return dx1+dx2+dx3\n",
    "\n",
    "z = np.zeros(3)\n",
    "indices2 = []\n",
    "indices_rot = []\n",
    "for jt, jlist in enumerate(jnet2):\n",
    "    if np.allclose(jnet2_indexed[jt][0][1], z):\n",
    "        jmp = jlist[0]\n",
    "\n",
    "        or1 = mdbcontainer_fe.iorlist[jmp.state1.db.iorind][1]\n",
    "        or2 = mdbcontainer_fe.iorlist[jmp.state2.db.iorind][1]\n",
    "        \n",
    "        if np.allclose(np.dot(or1,or2)/(np.linalg.norm(or1)*np.linalg.norm(or2)), np.cos(np.pi/3.)):\n",
    "#             print(\"got 60 deg jump at {}\".format(jt))\n",
    "            indices_rot.append(jt)\n",
    "            continue\n",
    "        elif np.allclose(np.dot(or1,or2), 0.):\n",
    "#             print(\"got 90 deg jump at {}\".format(jt))\n",
    "            indices_rot.append(jt)\n",
    "            continue\n",
    "        else:\n",
    "            continue\n",
    "    indices2.append(jt)\n",
    "ind_sort2 = sorted(indices2, key=sortkey2)[:2]\n",
    "indices2all = ind_sort2[:2]\n",
    "indices2all.append(indices_rot[0]) # we'll ignore the 180 degree rotation\n",
    "print(indices2all, indices_rot)"
   ]
  },
  {
   "cell_type": "code",
   "execution_count": 9,
   "metadata": {},
   "outputs": [
    {
     "name": "stdout",
     "output_type": "stream",
     "text": [
      "Jump object:\n",
      "Initial state:\n",
      "\tSolute loctation:basis index = 0, lattice vector = [0 0 0]\n",
      "\tdumbbell : (i, or) index = 4, lattice vector = [0 0 0]\n",
      "Final state:\n",
      "\tSolute loctation :basis index = 0, lattice vector = [0 0 0]\n",
      "\tdumbbell : (i, or) index = 7, lattice vector = [0 0 0]\n",
      "Jumping from c1 = 1 to c2 = 1\n",
      "[0. 0. 0.] [ 1.78190909e-01  1.01947883e-17 -1.78190909e-01]\n",
      "[0. 0. 0.] [-2.83727636e-34  1.78190909e-01 -1.78190909e-01]\n",
      "\n",
      "Jump object:\n",
      "Initial state:\n",
      "\tSolute loctation:basis index = 0, lattice vector = [0 0 0]\n",
      "\tdumbbell : (i, or) index = 4, lattice vector = [0 0 0]\n",
      "Final state:\n",
      "\tSolute loctation :basis index = 0, lattice vector = [0 0 0]\n",
      "\tdumbbell : (i, or) index = 11, lattice vector = [0 0 0]\n",
      "Jumping from c1 = 1 to c2 = 1\n",
      "[0. 0. 0.] [ 1.78190909e-01  1.01947883e-17 -1.78190909e-01]\n",
      "[0. 0. 0.] [-1.78190909e-01 -2.83727636e-34 -1.78190909e-01]\n",
      "\n"
     ]
    }
   ],
   "source": [
    "for index in indices_rot:\n",
    "    jmp = jnet2[index][0]\n",
    "    print(jmp)\n",
    "    # get the lattice vector\n",
    "    print(np.dot(mdbcontainer_fe.crys.lattice, jmp.state1.db.R), mdbcontainer_fe.iorlist[jmp.state1.db.iorind][1])\n",
    "    print(np.dot(mdbcontainer_fe.crys.lattice, jmp.state2.db.R), mdbcontainer_fe.iorlist[jmp.state2.db.iorind][1])\n",
    "    print()"
   ]
  },
  {
   "cell_type": "code",
   "execution_count": 10,
   "metadata": {},
   "outputs": [
    {
     "name": "stdout",
     "output_type": "stream",
     "text": [
      "Jump object:\n",
      "Initial state:\n",
      "\tSolute loctation:basis index = 0, lattice vector = [0 0 0]\n",
      "\tdumbbell : (i, or) index = 7, lattice vector = [0 0 0]\n",
      "Final state:\n",
      "\tSolute loctation :basis index = 0, lattice vector = [0 1 0]\n",
      "\tdumbbell : (i, or) index = 5, lattice vector = [0 1 0]\n",
      "Jumping from c1 = 1 to c2 = 1\n",
      "\n",
      "Jump object:\n",
      "Initial state:\n",
      "\tSolute loctation:basis index = 0, lattice vector = [0 0 0]\n",
      "\tdumbbell : (i, or) index = 7, lattice vector = [0 0 0]\n",
      "Final state:\n",
      "\tSolute loctation :basis index = 0, lattice vector = [0 1 0]\n",
      "\tdumbbell : (i, or) index = 6, lattice vector = [0 1 0]\n",
      "Jumping from c1 = 1 to c2 = 1\n",
      "\n",
      "Jump object:\n",
      "Initial state:\n",
      "\tSolute loctation:basis index = 0, lattice vector = [0 0 0]\n",
      "\tdumbbell : (i, or) index = 4, lattice vector = [0 0 0]\n",
      "Final state:\n",
      "\tSolute loctation :basis index = 0, lattice vector = [0 0 0]\n",
      "\tdumbbell : (i, or) index = 7, lattice vector = [0 0 0]\n",
      "Jumping from c1 = 1 to c2 = 1\n",
      "\n"
     ]
    }
   ],
   "source": [
    "# check if we have the correct type of jumps\n",
    "for ind in indices2all:\n",
    "    jmp = jnet2[ind][0]\n",
    "    print(jmp)\n",
    "#     print(np.dot(Fe.lattice, jmp.state2.R))\n",
    "    print()"
   ]
  },
  {
   "cell_type": "code",
   "execution_count": 11,
   "metadata": {},
   "outputs": [
    {
     "name": "stdout",
     "output_type": "stream",
     "text": [
      "(0, array([-1.78190909e-01, -1.78190909e-01,  1.01947883e-17]))\n",
      "(0, array([ 1.01947883e-17, -1.78190909e-01, -1.78190909e-01]))\n",
      "(0, array([-1.01947883e-17,  1.78190909e-01,  1.78190909e-01]))\n",
      "(0, array([ 1.78190909e-01,  1.78190909e-01, -1.01947883e-17]))\n",
      "(0, array([ 1.78190909e-01,  1.01947883e-17, -1.78190909e-01]))\n",
      "(0, array([ 1.78190909e-01, -1.78190909e-01,  5.09739416e-18]))\n",
      "(0, array([-2.83727636e-34, -1.78190909e-01,  1.78190909e-01]))\n",
      "(0, array([-2.83727636e-34,  1.78190909e-01, -1.78190909e-01]))\n",
      "(0, array([1.78190909e-01, 2.83727636e-34, 1.78190909e-01]))\n",
      "(0, array([-1.78190909e-01, -1.01947883e-17,  1.78190909e-01]))\n",
      "(0, array([-1.78190909e-01,  1.78190909e-01, -5.09739416e-18]))\n",
      "(0, array([-1.78190909e-01, -2.83727636e-34, -1.78190909e-01]))\n"
     ]
    }
   ],
   "source": [
    "for tup in mdbcontainer_fe.iorlist:\n",
    "    print(tup)"
   ]
  },
  {
   "cell_type": "code",
   "execution_count": 12,
   "metadata": {},
   "outputs": [
    {
     "data": {
      "text/plain": [
       "(3, 3)"
      ]
     },
     "execution_count": 12,
     "metadata": {},
     "output_type": "execute_result"
    }
   ],
   "source": [
    "# take only the lowest displacement jump\n",
    "jset2new = ([jnet2[i] for i in indices2all], [jnet2_indexed[i] for i in indices2all])\n",
    "len(jset0new[0]), len(jset2new[0])"
   ]
  },
  {
   "cell_type": "code",
   "execution_count": 13,
   "metadata": {},
   "outputs": [
    {
     "name": "stdout",
     "output_type": "stream",
     "text": [
      "initializing thermo\n",
      "initializing kin\n",
      "generating thermodynamic shell\n",
      "built shell 1: time - 0.03968238830566406\n",
      "built shell 2: time - 1.7213683128356934\n",
      "built shell 3: time - 7.4458394050598145\n",
      "grouped states by symmetry: 6.546286582946777\n",
      "built mixed dumbbell stars: 0.0004239082336425781\n",
      "built jtags2: 0.0008866786956787109\n",
      "built mixed indexed star: 0.007028818130493164\n",
      "building star2symlist : 0.0001373291015625\n",
      "building bare, mixed index dicts : 0.00022649765014648438\n",
      "thermodynamic shell generated: 21.837061166763306\n",
      "Total number of states in Thermodynamic Shell - 546, 12\n",
      "generating kinetic shell\n",
      "built shell 1: time - 0.04696464538574219\n",
      "built shell 2: time - 1.8473424911499023\n",
      "built shell 3: time - 7.847361326217651\n",
      "built shell 4: time - 21.128112077713013\n",
      "grouped states by symmetry: 26.589154720306396\n",
      "built mixed dumbbell stars: 0.00040078163146972656\n",
      "built jtags2: 0.00107574462890625\n",
      "built mixed indexed star: 0.006126880645751953\n",
      "building star2symlist : 0.00020503997802734375\n",
      "building bare, mixed index dicts : 0.00029730796813964844\n",
      "Kinetic shell generated: 83.06540703773499\n",
      "Total number of states in Kinetic Shell - 1134, 12\n",
      "generating kinetic shell vector starset\n",
      "Kinetic shell vector starset generated: 9.0233473777771\n",
      "Generating Jump networks\n",
      "building omega1\n",
      "built omega1 : time - 502.7503492832184\n",
      "building omega43\n",
      "built omega43 : time 6.298063039779663\n",
      "Jump networks generated: 509.18743991851807\n",
      "building GF starsets\n",
      "\tComplex connections creation time: 818.6987285614014\n",
      "\tComplex connections symmetry grouping time: 51.14322757720947\n",
      "No. of pure dumbbell connections: 44676\n",
      "GF star sets built: 869.869015455246\n",
      "Built Complex GF expansions: 685.1697812080383\n",
      "built GFstarsets: 1561.0008618831635\n",
      "built rate expansions: 6.2909581661224365\n",
      "built bias expansions: 53.27713966369629\n",
      "built outer product tensor:0.32909560203552246\n",
      "onsager calculator initiation time = 2247.304768562317\n"
     ]
    }
   ],
   "source": [
    "# re-initialize the calculator.\n",
    "# Now, we construct the Onsager calculator with these non-local jump sets.\n",
    "start = time.time()\n",
    "onsagercalculator = dumbbellMediated(pdbcontainer_fe, mdbcontainer_fe, jset0new, jset2new, 0.26,\n",
    "                                     0.01, 0.01, 0.01, NGFmax=4, Nthermo=3)\n",
    "print(\"onsager calculator initiation time = {}\".format(time.time() - start))"
   ]
  },
  {
   "cell_type": "code",
   "execution_count": 15,
   "metadata": {},
   "outputs": [
    {
     "name": "stdout",
     "output_type": "stream",
     "text": [
      "[20]\n"
     ]
    }
   ],
   "source": [
    "jnet43 = onsagercalculator.jnet43\n",
    "jnet43_indexed = onsagercalculator.jnet43_indexed\n",
    "# Let's try to sort the jumps according to closest distance\n",
    "# We assume that association and dissociation occurs via Johnson mechanism.\n",
    "\n",
    "def sortkey3(entry):\n",
    "    jmp = jnet43[entry][0] # This is an omega4 jump\n",
    "    if not jmp.c2 == -1:\n",
    "        print(c2)\n",
    "    or1 = pdbcontainer_fe.iorlist[jmp.state1.db.iorind][1]\n",
    "    or2 = mdbcontainer_fe.iorlist[jmp.state2.db.iorind][1]\n",
    "    dx = DB_disp4(pdbcontainer_fe, mdbcontainer_fe, jmp.state1, jmp.state2)\n",
    "    # remember that c2 is -1 for an omega4 jump\n",
    "    dx1 = np.linalg.norm(jmp.c1*or1/2.)\n",
    "    dx2 = np.linalg.norm(dx - or2/2. - jmp.c1*or1/2.)\n",
    "    dx3 = np.linalg.norm(jmp.c2*or2/2.)\n",
    "    return dx1+dx2+dx3\n",
    "\n",
    "z = np.zeros(3)\n",
    "indices43 = []\n",
    "for jt, jlist in enumerate(jnet43):\n",
    "    if np.allclose(jnet43_indexed[jt][0][1], z):\n",
    "        continue\n",
    "    indices43.append(jt)    \n",
    "ind_sort43 = sorted(indices43, key=sortkey3)[:1]\n",
    "print(ind_sort43)"
   ]
  },
  {
   "cell_type": "code",
   "execution_count": 17,
   "metadata": {},
   "outputs": [
    {
     "name": "stdout",
     "output_type": "stream",
     "text": [
      "Jump object:\n",
      "Initial state:\n",
      "\tSolute loctation:basis index = 0, lattice vector = [0 0 0]\n",
      "\tdumbbell : (i, or) index = 0, lattice vector = [ 0  0 -1]\n",
      "Final state:\n",
      "\tSolute loctation :basis index = 0, lattice vector = [0 0 0]\n",
      "\tdumbbell : (i, or) index = 9, lattice vector = [0 0 0]\n",
      "Jumping from c1 = 1 to c2 = -1\n",
      "((31, 9), array([-0.14155, -0.14155,  0.14155]))\n"
     ]
    }
   ],
   "source": [
    "# check if we have the correct jump\n",
    "print(jnet43[ind_sort43[0]][0])\n",
    "print(jnet43_indexed[ind_sort43[0]][0])"
   ]
  },
  {
   "cell_type": "code",
   "execution_count": 19,
   "metadata": {},
   "outputs": [
    {
     "name": "stdout",
     "output_type": "stream",
     "text": [
      "(0, array([-1.78190909e-01, -1.78190909e-01,  1.01947883e-17]))\n",
      "(0, array([-1.78190909e-01, -1.01947883e-17,  1.78190909e-01]))\n"
     ]
    }
   ],
   "source": [
    "print(onsagercalculator.pdbcontainer.iorlist[jnet43[ind_sort43[0]][0].state1.db.iorind])\n",
    "print(onsagercalculator.mdbcontainer.iorlist[jnet43[ind_sort43[0]][0].state2.db.iorind])"
   ]
  },
  {
   "cell_type": "code",
   "execution_count": 20,
   "metadata": {},
   "outputs": [],
   "source": [
    "# extract the network\n",
    "onsagercalculator.regenerate43(ind_sort43)"
   ]
  },
  {
   "cell_type": "code",
   "execution_count": 22,
   "metadata": {},
   "outputs": [],
   "source": [
    "import pickle\n",
    "with open('FeMn_Onsg.pkl','wb') as fl:\n",
    "    pickle.dump(onsagercalculator,fl)"
   ]
  },
  {
   "cell_type": "code",
   "execution_count": null,
   "metadata": {},
   "outputs": [],
   "source": []
  }
 ],
 "metadata": {
  "kernelspec": {
   "display_name": "Python 3",
   "language": "python",
   "name": "python3"
  },
  "language_info": {
   "codemirror_mode": {
    "name": "ipython",
    "version": 3
   },
   "file_extension": ".py",
   "mimetype": "text/x-python",
   "name": "python",
   "nbconvert_exporter": "python",
   "pygments_lexer": "ipython3",
   "version": "3.6.9"
  }
 },
 "nbformat": 4,
 "nbformat_minor": 2
}
