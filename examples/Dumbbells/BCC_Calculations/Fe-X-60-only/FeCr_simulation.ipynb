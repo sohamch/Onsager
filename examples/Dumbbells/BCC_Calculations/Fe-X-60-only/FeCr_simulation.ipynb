{
 "cells": [
  {
   "cell_type": "code",
   "execution_count": 1,
   "metadata": {},
   "outputs": [],
   "source": [
    "import sys\n",
    "sys.path.extend([\"../../../../\"])"
   ]
  },
  {
   "cell_type": "code",
   "execution_count": 2,
   "metadata": {},
   "outputs": [],
   "source": [
    "import numpy as np\n",
    "from onsager.crystal import Crystal\n",
    "from onsager.crystalStars import zeroclean\n",
    "from onsager.OnsagerCalc import *\n",
    "from onsager.crystal import DB_disp, DB_disp4, pureDBContainer, mixedDBContainer\n",
    "from onsager.DB_structs import dumbbell, SdPair, jump, connector\n",
    "\n",
    "from scipy.constants import physical_constants\n",
    "kB = physical_constants['Boltzmann constant in eV/K'][0]\n",
    "from matplotlib import pyplot as plt\n",
    "from collections import defaultdict\n",
    "\n",
    "import pickle"
   ]
  },
  {
   "cell_type": "code",
   "execution_count": 3,
   "metadata": {},
   "outputs": [
    {
     "name": "stdout",
     "output_type": "stream",
     "text": [
      "CPU times: user 7min 50s, sys: 4.8 s, total: 7min 55s\n",
      "Wall time: 7min 48s\n"
     ]
    }
   ],
   "source": [
    "%%time\n",
    "# Let's load the pickle file we just saved\n",
    "with open(\"FeX_60RT.pkl\",\"rb\") as fl:\n",
    "    onsagercalculator = pickle.load(fl)"
   ]
  },
  {
   "cell_type": "code",
   "execution_count": 8,
   "metadata": {},
   "outputs": [
    {
     "name": "stdout",
     "output_type": "stream",
     "text": [
      "0\n",
      "[ 0.     -0.1782 -0.1782]\n",
      "[0. 0. 0.]\n",
      "\n",
      "1\n",
      "[-0.1782  0.     -0.1782]\n",
      "[-0.14155  0.14155 -0.14155]\n",
      "\n",
      "2\n",
      "[ 0.     -0.1782 -0.1782]\n",
      "[ 0.14155  0.14155 -0.14155]\n",
      "\n",
      "3\n",
      "[ 0.     -0.1782 -0.1782]\n",
      "[0.     0.     0.2831]\n",
      "\n",
      "4\n",
      "[-0.1782  0.1782  0.    ]\n",
      "[ 0.      0.     -0.2831]\n",
      "\n",
      "5\n",
      "[ 0.     -0.1782 -0.1782]\n",
      "[-0.2831  0.      0.2831]\n",
      "\n",
      "6\n",
      "[ 0.     -0.1782 -0.1782]\n",
      "[0.     0.2831 0.2831]\n",
      "\n",
      "7\n",
      "[-0.1782  0.1782  0.    ]\n",
      "[-0.2831 -0.2831  0.    ]\n",
      "\n",
      "8\n",
      "[-0.1782  0.     -0.1782]\n",
      "[ 0.14155  0.14155 -0.42465]\n",
      "\n",
      "9\n",
      "[ 0.     -0.1782 -0.1782]\n",
      "[0.14155 0.14155 0.42465]\n",
      "\n",
      "10\n",
      "[ 0.      0.1782 -0.1782]\n",
      "[ 0.42465 -0.14155  0.14155]\n",
      "\n",
      "11\n",
      "[ 0.     -0.1782 -0.1782]\n",
      "[ 0.42465  0.14155 -0.14155]\n",
      "\n",
      "12\n",
      "[ 0.      0.1782 -0.1782]\n",
      "[-0.2831 -0.2831  0.2831]\n",
      "\n",
      "13\n",
      "[ 0.      0.1782 -0.1782]\n",
      "[0.2831 0.2831 0.2831]\n",
      "\n",
      "14\n",
      "[-0.1782 -0.1782  0.    ]\n",
      "[-0.14155 -0.42465  0.42465]\n",
      "\n",
      "15\n",
      "[-0.1782 -0.1782  0.    ]\n",
      "[ 0.14155 -0.42465  0.42465]\n",
      "\n",
      "16\n",
      "[-0.1782 -0.1782  0.    ]\n",
      "[-0.42465 -0.42465 -0.14155]\n",
      "\n",
      "17\n",
      "[-0.1782  0.1782  0.    ]\n",
      "[-0.42465 -0.42465 -0.14155]\n",
      "\n",
      "18\n",
      "[-0.1782  0.     -0.1782]\n",
      "[-0.42465  0.42465  0.42465]\n",
      "\n",
      "19\n",
      "[-0.1782  0.     -0.1782]\n",
      "[0.42465 0.42465 0.42465]\n",
      "\n"
     ]
    }
   ],
   "source": [
    "# Now, we'll look at the complex states in our thermodynamic shell\n",
    "# For each state, the first number printed out is the index assgined to the symmetry-unique group the state\n",
    "# belongs to,\n",
    "# The second line tells the pure dumbbell orientation.\n",
    "# The third line prints the position of the dumbbell with respect to the solute location (Recall that\n",
    "# lattice parameter of BCC Fe is 0.2831 nm, as per Messina et al.'s paper)\n",
    "# Note that the first complex state is an origin state (pure dumbbell on top of solute) and is unphysical.\n",
    "# We'll then match our complex states, with the states shown in Messina et. al. (1nnA, 1nnB etc)\n",
    "count = 0\n",
    "for star in onsagercalculator.thermo.stars[:onsagercalculator.thermo.mixedstartindex]:\n",
    "    print(count)\n",
    "    db = star[0].db\n",
    "    print(np.round(onsagercalculator.pdbcontainer.iorlist[db.iorind][1], decimals=4)+0)\n",
    "    print(np.dot(onsagercalculator.crys.lattice, db.R))\n",
    "    print()\n",
    "    count += 1"
   ]
  },
  {
   "cell_type": "code",
   "execution_count": 9,
   "metadata": {},
   "outputs": [],
   "source": [
    "# Next, we assign labels to the states we have just identified\n",
    "# No interaction will be assumed when a corresponding energy is not found in Messina et. al.'s database (such \n",
    "# as the 4nnD orientation which they did not consider)\n",
    "name_to_themo_star = {\"1nnA\":2, \"1nnB\":1, \"2nnA\":4, \"2nnB\":3, \"3nnA\": 7, \"3nnB\":5, \"3nnC\":6,\n",
    "       \"4nnA\":11,\"4nnB\":10,\"4nnC\":9, \"4nnD\":8, \"5nnA\":13, \"5nnB\":12}"
   ]
  },
  {
   "cell_type": "code",
   "execution_count": 10,
   "metadata": {},
   "outputs": [
    {
     "data": {
      "text/plain": [
       "{'1nnA_2nnA': [1],\n",
       " '1nnA_2nnB': [3],\n",
       " '1nnA_3nnB': [4],\n",
       " '1nnA_3nnC': [2],\n",
       " '1nnB_2nnB': [6],\n",
       " '1nnB_3nnB': [7],\n",
       " '1nnB_5nnB': [5],\n",
       " '2nnA_4nnC': [10],\n",
       " '2nnB_4nnB': [9],\n",
       " '2nnB_4nnC': [8]}"
      ]
     },
     "execution_count": 10,
     "metadata": {},
     "output_type": "execute_result"
    }
   ],
   "source": [
    "# sorting out the jumps with the nomenclatures\n",
    "jmpdict = {\"1nnA_2nnA\":[], \"1nnA_2nnB\":[], \"1nnA_3nnB\":[], \"1nnA_3nnC\":[], \"1nnB_2nnB\":[], \"1nnB_3nnB\":[],\n",
    "          \"1nnB_5nnB\":[], \"2nnA_4nnC\":[], \"2nnB_4nnB\":[], \"2nnB_4nnC\":[]}\n",
    "# Now identify the jumps and put them into the dictionaries\n",
    "for jlistind, jlist in enumerate(onsagercalculator.jnet1):\n",
    "    jmp = jlist[0]\n",
    "    state1 = jmp.state1\n",
    "    state2 = jmp.state2\n",
    "    \n",
    "    star1 = onsagercalculator.kinetic.complexIndexdict[state1][1]\n",
    "    star2 = onsagercalculator.kinetic.complexIndexdict[state2][1]\n",
    "    \n",
    "    if star1 in onsagercalculator.thermo2kin and star2 in onsagercalculator.thermo2kin:\n",
    "        thermo_star1 = onsagercalculator.thermo.complexIndexdict[state1][1]\n",
    "        thermo_star2 = onsagercalculator.thermo.complexIndexdict[state2][1]\n",
    "        name1 = \"\"\n",
    "        name2 = \"\"\n",
    "        #Now see which categories the states belong to\n",
    "        star1found = False\n",
    "        count1 = 0\n",
    "        star2found = False\n",
    "        count2 = 0\n",
    "        for (key, value) in name_to_themo_star.items():\n",
    "            if thermo_star1==value:\n",
    "                star1found = True\n",
    "                count1 += 1\n",
    "                name1 = key\n",
    "            if thermo_star2==value:\n",
    "                star2found = True\n",
    "                count2 += 1\n",
    "                name2 = key\n",
    "        # just to ensure we don't have any multiple counting business going on.\n",
    "        if count1>1:\n",
    "            print(thermo_star1)\n",
    "        if count2>1:\n",
    "            print(thermo_star2)\n",
    "        # Now concatenate names\n",
    "        jname = name1+\"_\"+name2\n",
    "        jnamerev = name2+\"_\"+name1\n",
    "        try:\n",
    "            jmpdict[jname].append(jlistind)\n",
    "        except:\n",
    "            try:\n",
    "                # maybe the jump we have is the reverse of what we stored as the label in the dictionary?\n",
    "                jmpdict[jnamerev].append(jlistind)\n",
    "            except:    \n",
    "                continue\n",
    "\n",
    "# check to see we have found all the jumps\n",
    "jmpdict               "
   ]
  },
  {
   "cell_type": "code",
   "execution_count": 11,
   "metadata": {},
   "outputs": [],
   "source": [
    "E_f_pdb = 4.0799084 # formation energy of pure dumbbell - from energy file\n",
    "# Now, we assign energies to the complex states in the thermo shell\n",
    "# name to supercell energy\n",
    "name_to_en = {\"1nnA\":-2081.86385487, \"1nnB\":-2081.96714335, \n",
    "              \"2nnA\":-2081.84673179, \"2nnB\":-2081.84805032, \n",
    "              \"3nnA\":-2081.86785633, \"3nnB\":-2081.89911432,\n",
    "              \"3nnC\":-2081.89517078, \"4nnA\":-2081.89240119,\n",
    "              \"4nnB\":-2081.88260599, \"4nnC\":-2081.90014080,\n",
    "              \"5nnA\":-2081.90574167, \"5nnB\":-2081.89623144}"
   ]
  },
  {
   "cell_type": "code",
   "execution_count": 12,
   "metadata": {},
   "outputs": [
    {
     "data": {
      "text/plain": [
       "defaultdict(float,\n",
       "            {'1nnA': 4.144898479999916,\n",
       "             '1nnB': 4.041610000000197,\n",
       "             '2nnA': 4.1620215600000625,\n",
       "             '2nnB': 4.1607030300001275,\n",
       "             '3nnA': 4.140897019999989,\n",
       "             '3nnB': 4.1096390299999035,\n",
       "             '3nnC': 4.113582569999813,\n",
       "             '4nnA': 4.116352160000111,\n",
       "             '4nnB': 4.12614736000021,\n",
       "             '4nnC': 4.108612550000067,\n",
       "             '5nnA': 4.103011679999759,\n",
       "             '5nnB': 4.112521909999919,\n",
       "             '4nnD': 4.0799084})"
      ]
     },
     "execution_count": 12,
     "metadata": {},
     "output_type": "execute_result"
    }
   ],
   "source": [
    "E_sup_pdb = -2080.58061654\n",
    "E_sup_solute = -2077.70333299\n",
    "E_bulk = -2076.35510458 # E_bulk is the same as E_ref\n",
    "name_to_Ef = defaultdict(float)\n",
    "for (key, E_IB) in name_to_en.items():\n",
    "    # get the binding energy first\n",
    "    Eb = -E_IB + E_sup_pdb + E_sup_solute - E_bulk\n",
    "    # Next, get the formation energy (relative to solute formation energy)\n",
    "    name_to_Ef[key] = E_f_pdb - Eb\n",
    "name_to_Ef[\"4nnD\"] = E_f_pdb\n",
    "name_to_Ef"
   ]
  },
  {
   "cell_type": "code",
   "execution_count": 13,
   "metadata": {},
   "outputs": [
    {
     "name": "stdout",
     "output_type": "stream",
     "text": [
      "-0.04502686000023459\n"
     ]
    }
   ],
   "source": [
    "# The complex energies are set. Now, we set the mixed dumbbell energies\n",
    "E_b_mdb = 2081.97387181 + E_sup_pdb + E_sup_solute - E_bulk\n",
    "E_f_mdb = E_f_pdb - E_b_mdb\n",
    "\n",
    "# Check the mixed dumbbell binding energy\n",
    "print(E_f_mdb - E_f_pdb)"
   ]
  },
  {
   "cell_type": "code",
   "execution_count": 14,
   "metadata": {},
   "outputs": [],
   "source": [
    "Jname_2_TS_en = {\"1nnA_2nnA\":-2081.53754083, \"1nnA_2nnB\":-2081.45300295, \"1nnA_3nnB\":-2081.54309435,\n",
    "                 \"1nnA_3nnC\":-2081.51203629, \"1nnB_2nnB\":-2081.59390973, \"1nnB_3nnB\":-2081.58124941,\n",
    "                 \"1nnB_5nnB\":-2081.56664001, \"2nnA_4nnC\":-2081.53814922, \"2nnB_4nnB\":-2081.53362146,\n",
    "                 \"2nnB_4nnC\":-2081.53385038}"
   ]
  },
  {
   "cell_type": "code",
   "execution_count": 15,
   "metadata": {},
   "outputs": [],
   "source": [
    "# Now, we have to find the TS energies.\n",
    "Jname_2_ef_ts = defaultdict(float)\n",
    "for (key, E_IB) in Jname_2_TS_en.items():\n",
    "    Eb = -E_IB + E_sup_pdb + E_sup_solute - E_bulk\n",
    "    # Next, get the formation energy (relative to solute formation energy)\n",
    "    Jname_2_ef_ts[key] = E_f_pdb - Eb"
   ]
  },
  {
   "cell_type": "code",
   "execution_count": 16,
   "metadata": {},
   "outputs": [
    {
     "data": {
      "text/plain": [
       "defaultdict(float,\n",
       "            {'1nnA_2nnA': 4.471212519999859,\n",
       "             '1nnA_2nnB': 4.5557503999998294,\n",
       "             '1nnA_3nnB': 4.465658999999937,\n",
       "             '1nnA_3nnC': 4.496717059999788,\n",
       "             '1nnB_2nnB': 4.4148436199998065,\n",
       "             '1nnB_3nnB': 4.427503939999929,\n",
       "             '1nnB_5nnB': 4.442113340000083,\n",
       "             '2nnA_4nnC': 4.470604130000061,\n",
       "             '2nnB_4nnB': 4.475131889999807,\n",
       "             '2nnB_4nnC': 4.474902970000108})"
      ]
     },
     "execution_count": 16,
     "metadata": {},
     "output_type": "execute_result"
    }
   ],
   "source": [
    "Jname_2_ef_ts"
   ]
  },
  {
   "cell_type": "code",
   "execution_count": 17,
   "metadata": {},
   "outputs": [],
   "source": [
    "Jname_2_mig = defaultdict(float)\n",
    "for (key, TS_en) in Jname_2_ef_ts.items():\n",
    "    initstar = key[:4]\n",
    "    Jname_2_mig[key] = TS_en - name_to_Ef[initstar]"
   ]
  },
  {
   "cell_type": "code",
   "execution_count": 18,
   "metadata": {},
   "outputs": [
    {
     "data": {
      "text/plain": [
       "defaultdict(float,\n",
       "            {'1nnA_2nnA': 0.3263140399999429,\n",
       "             '1nnA_2nnB': 0.41085191999991366,\n",
       "             '1nnA_3nnB': 0.32076052000002164,\n",
       "             '1nnA_3nnC': 0.35181857999987187,\n",
       "             '1nnB_2nnB': 0.3732336199996098,\n",
       "             '1nnB_3nnB': 0.38589393999973254,\n",
       "             '1nnB_5nnB': 0.4005033399998865,\n",
       "             '2nnA_4nnC': 0.30858256999999867,\n",
       "             '2nnB_4nnB': 0.31442885999967984,\n",
       "             '2nnB_4nnC': 0.3141999399999804})"
      ]
     },
     "execution_count": 18,
     "metadata": {},
     "output_type": "execute_result"
    }
   ],
   "source": [
    "# Check that correct energies have been assigned to the jumps\n",
    "Jname_2_mig"
   ]
  },
  {
   "cell_type": "code",
   "execution_count": 19,
   "metadata": {},
   "outputs": [
    {
     "name": "stdout",
     "output_type": "stream",
     "text": [
      "0.2414906400003929 0.36488417000009576 0.3581557099996644\n"
     ]
    }
   ],
   "source": [
    "E_IB_43, E_IB_2 = -2081.60898764, -2081.73238117\n",
    "Eb_43, Eb_2 = -E_IB_43 + E_sup_pdb + E_sup_solute - E_bulk, -E_IB_2 + E_sup_pdb + E_sup_solute - E_bulk \n",
    "# Next, get the formation energy (relative to solute formation energy)\n",
    "ef_ts_43 = E_f_pdb - Eb_43\n",
    "ef_ts_2 = E_f_pdb - Eb_2\n",
    "print(ef_ts_2-E_f_mdb, ef_ts_43 - E_f_mdb, ef_ts_43 - name_to_Ef[\"1nnB\"])"
   ]
  },
  {
   "cell_type": "code",
   "execution_count": 20,
   "metadata": {},
   "outputs": [],
   "source": [
    "# get the SCMF PDC data from the file to compare to\n",
    "temp = []\n",
    "pdcr = []\n",
    "with open(\"PDC_ratio_Cr.dat\", \"r\") as fl:\n",
    "    for line in fl:\n",
    "        arr = line.split()\n",
    "        temp.append(float(arr[0]))\n",
    "        pdcr.append(float(arr[1]))\n",
    "temp = np.array(temp)\n",
    "pdcr = np.array(pdcr)\n",
    "\n",
    "drag = []\n",
    "with open(\"DragRatio_Cr.dat\",\"r\") as fl:\n",
    "    for line in fl:\n",
    "        arr = line.split()\n",
    "        drag.append(float(arr[0]))\n",
    "drag = np.array(drag)"
   ]
  },
  {
   "cell_type": "markdown",
   "metadata": {},
   "source": [
    "## Cr calculations"
   ]
  },
  {
   "cell_type": "code",
   "execution_count": 21,
   "metadata": {},
   "outputs": [],
   "source": [
    "# Jump rates and energy barriers set. Now, let's set the calculations up.\n",
    "vu0=4.4447\n",
    "vu2=4.5551\n",
    "Dconv=1.\n",
    "\n",
    "predb0, enedb0 = np.ones(1), np.array([E_f_pdb])\n",
    "\n",
    "# We'll measure every formation energy relative to the solute formation energy.\n",
    "preS, eneS = np.ones(1), np.array([0.0])\n",
    "\n",
    "# Next, interaction or the excess energies and pre-factors for solutes and dumbbells.\n",
    "preSdb, eneSdb = np.ones(onsagercalculator.thermo.mixedstartindex), \\\n",
    "                 np.zeros(onsagercalculator.thermo.mixedstartindex)\n",
    "# Now, we go over the necessary stars and assign interaction energies\n",
    "for (key, index) in name_to_themo_star.items():\n",
    "    eneSdb[index] = name_to_Ef[key] - E_f_pdb\n",
    "\n",
    "predb2, enedb2 = np.ones(1), np.array([E_f_mdb])\n",
    "\n",
    "# Transition state energies - For omega0, omega2 and omega43, the first type is the Johnson jump,\n",
    "# and the second one is the Rigid jump.\n",
    "\n",
    "# Omega0 TS eneriges\n",
    "preT0, eneT0 = Dconv*vu0*np.ones(1), np.array([E_f_pdb + 0.33759025])\n",
    "\n",
    "# Omega2 TS energies\n",
    "Nj2 = len(onsagercalculator.jnet2)\n",
    "preT2, eneT2 = Dconv*vu2*np.ones(Nj2), np.array([ef_ts_2])\n",
    "\n",
    "# Omega43 TS energies\n",
    "preT43, eneT43 = Dconv*vu0*np.ones(1), np.array([ef_ts_43])\n",
    "\n",
    "# Omega1 TS energies - need to be careful here\n",
    "preT1 = Dconv*vu0*np.ones(len(onsagercalculator.jnet1))\n",
    "eneT1 = np.array([eneT0[i] for i in onsagercalculator.om1types])\n",
    "# Now, we go over the jumps that are provided and make the necessary changes\n",
    "for (key, index) in jmpdict.items():\n",
    "    eneT1[index] = Jname_2_ef_ts[key]\n",
    "    \n",
    "# set origin state jumps to zeros - the code handles this anyway\n",
    "eneT1[0] = 0.0"
   ]
  },
  {
   "cell_type": "code",
   "execution_count": 22,
   "metadata": {},
   "outputs": [
    {
     "name": "stderr",
     "output_type": "stream",
     "text": [
      "100%|██████████| 381/381 [25:13<00:00,  3.97s/it]"
     ]
    },
    {
     "name": "stdout",
     "output_type": "stream",
     "text": [
      "1513.5864696502686\n"
     ]
    },
    {
     "name": "stderr",
     "output_type": "stream",
     "text": [
      "\n"
     ]
    }
   ],
   "source": [
    "# Then we calculate the transport coefficients\n",
    "from tqdm import tqdm\n",
    "\n",
    "diff_aa_Cr = np.zeros(len(temp))\n",
    "diff_ab_Cr = np.zeros(len(temp))\n",
    "diff_bb = np.zeros(len(temp))\n",
    "diff_bb_non_loc = np.zeros(len(temp))\n",
    "\n",
    "start = time.time()\n",
    "for i in tqdm(range(len(temp)), position=0, leave=True):\n",
    "    T = temp[i]\n",
    "    kT = kB*T\n",
    "    bFdb0, bFdb2, bFS, bFSdb, bFT0, bFT1, bFT2, bFT3, bFT4 = \\\n",
    "        onsagercalculator.preene2betafree(kT, predb0, enedb0, preS, eneS, preSdb, eneSdb, predb2, enedb2,\n",
    "                                               preT0, eneT0, preT2, eneT2, preT1, eneT1, preT43, eneT43)\n",
    "\n",
    "    # get the probabilities and other data from L_ij\n",
    "    L0bb, (L_uc_aa,L_c_aa), (L_uc_bb,L_c_bb), (L_uc_ab,L_c_ab)=\\\n",
    "    onsagercalculator.L_ij(bFdb0, bFT0, bFdb2, bFT2, bFS, bFSdb, bFT1, bFT3, bFT4)\n",
    "    \n",
    "    L_aa = L_uc_aa + L_c_aa\n",
    "    L_bb = L_uc_bb + L_c_bb\n",
    "    L_ab = L_uc_ab + L_c_ab\n",
    "    \n",
    "    diff_aa_Cr[i] = L_aa[0][0]\n",
    "    diff_ab_Cr[i] = L_ab[0][0]\n",
    "    diff_bb[i] = L_bb[0][0]\n",
    "    diff_bb_non_loc[i] = L0bb[0][0]\n",
    "        \n",
    "print(time.time() - start)"
   ]
  },
  {
   "cell_type": "code",
   "execution_count": 23,
   "metadata": {},
   "outputs": [
    {
     "data": {
      "text/plain": [
       "<matplotlib.legend.Legend at 0x7fcec31a2898>"
      ]
     },
     "execution_count": 23,
     "metadata": {},
     "output_type": "execute_result"
    },
    {
     "data": {
      "image/png": "[encoded data removed]",
      "text/plain": [
       "<Figure size 504x576 with 1 Axes>"
      ]
     },
     "metadata": {
      "needs_background": "light"
     },
     "output_type": "display_data"
    }
   ],
   "source": [
    "# Next, compare the pdc ratio\n",
    "T_arr = temp\n",
    "plt.figure(figsize=(7,8))\n",
    "plt.semilogy(1/T_arr, diff_ab_Cr/(diff_bb_non_loc), label=\"Calculated\", linewidth=3)\n",
    "plt.semilogy(1/temp, np.array(pdcr), linewidth=2,\n",
    "             label=\"Schuler et. al.\")\n",
    "plt.xlabel(r\"1/T (K$^{-1}$)\", fontsize=18)\n",
    "plt.ylabel(r\"$\\frac{L_{Cr-Fe_i}}{L_{Fe_i-Fe_i}}$\", fontsize=30, rotation = 0, labelpad=50)\n",
    "\n",
    "plt.xticks(fontsize=16, rotation = 30)\n",
    "plt.yticks(fontsize=16)\n",
    "# plt.xlim(400, 1301)\n",
    "plt.tight_layout()\n",
    "plt.legend(fontsize=16)\n",
    "# plt.savefig(\"pdc_ratio_Cr_Fe_log.png\")"
   ]
  },
  {
   "cell_type": "code",
   "execution_count": 24,
   "metadata": {},
   "outputs": [
    {
     "data": {
      "text/plain": [
       "<matplotlib.legend.Legend at 0x7fcec16da198>"
      ]
     },
     "execution_count": 24,
     "metadata": {},
     "output_type": "execute_result"
    },
    {
     "data": {
      "image/png": "[encoded data removed]",
      "text/plain": [
       "<Figure size 504x576 with 1 Axes>"
      ]
     },
     "metadata": {
      "needs_background": "light"
     },
     "output_type": "display_data"
    }
   ],
   "source": [
    "# Next, compare the drag ratio\n",
    "T_arr = temp\n",
    "plt.figure(figsize=(7,8))\n",
    "plt.plot(T_arr, diff_ab_Cr/(diff_aa_Cr), label=\"Calculated\", linewidth=3)\n",
    "plt.plot(temp, np.array(drag), linewidth=2,\n",
    "             label=\"Schuler et. al.\")\n",
    "plt.xlabel(r\"1/T (K$^{-1}$)\", fontsize=18)\n",
    "plt.ylabel(r\"$\\frac{L_{Cr-Fe_i}}{L_{Fe_i-Fe_i}}$\", fontsize=30, rotation = 0, labelpad=50)\n",
    "# plt.legend(loc=\"best\", fontsize=16)\n",
    "# plt.ticklabel_format(style='sci', axis='x', scilimits=(0,0))\n",
    "plt.xticks(fontsize=16, rotation = 30)\n",
    "plt.yticks(fontsize=16)\n",
    "# plt.xlim(400, 1301)\n",
    "plt.tight_layout()\n",
    "plt.legend(fontsize=16)\n",
    "# plt.savefig(\"pdc_ratio_Cr_Fe_log.png\")"
   ]
  },
  {
   "cell_type": "code",
   "execution_count": 25,
   "metadata": {},
   "outputs": [],
   "source": [
    "# Now save the data\n",
    "import h5py\n",
    "with h5py.File(\"Cr_data.h5\",\"w\") as fl:\n",
    "    fl.create_dataset(\"diff_aa\", data=diff_aa_Cr)\n",
    "    fl.create_dataset(\"diff_ab\", data=diff_ab_Cr)\n",
    "    fl.create_dataset(\"diff_bb_nl\", data=diff_bb_non_loc)\n",
    "    fl.create_dataset(\"diff_bb\", data=diff_bb)\n",
    "    fl.create_dataset(\"Temp\", data=np.array(temp))"
   ]
  },
  {
   "cell_type": "code",
   "execution_count": 26,
   "metadata": {},
   "outputs": [],
   "source": [
    "# Now let's do the infinite temeperature limit\n",
    "kT = np.inf\n",
    "bFdb0, bFdb2, bFS, bFSdb, bFT0, bFT1, bFT2, bFT3, bFT4 = \\\n",
    "    onsagercalculator.preene2betafree(kT, predb0, enedb0, preS, eneS, preSdb, eneSdb, predb2, enedb2,\n",
    "                                           preT0, eneT0, preT2, eneT2, preT1, eneT1, preT43, eneT43)\n",
    "#     bFdicts[i] = [bFdb0, bFdb2, bFS, bFSdb, bFT0, bFT1, bFT2, bFT3, bFT4]\n",
    "# get the probabilities and other data from L_ij\n",
    "L0bb, (L_uc_aa,L_c_aa), (L_uc_bb,L_c_bb), (L_uc_ab,L_c_ab)=\\\n",
    "onsagercalculator.L_ij(bFdb0, bFT0, bFdb2, bFT2, bFS, bFSdb, bFT1, bFT3, bFT4)\n",
    "\n",
    "L_aa = L_uc_aa + L_c_aa\n",
    "L_bb = L_uc_bb + L_c_bb\n",
    "L_ab = L_uc_ab + L_c_ab"
   ]
  },
  {
   "cell_type": "code",
   "execution_count": 28,
   "metadata": {},
   "outputs": [
    {
     "data": {
      "text/plain": [
       "2.4171370058101593"
      ]
     },
     "execution_count": 28,
     "metadata": {},
     "output_type": "execute_result"
    }
   ],
   "source": [
    "# Get the drag ratio\n",
    "L_ab[0][0]/L_aa[0][0]"
   ]
  },
  {
   "cell_type": "code",
   "execution_count": null,
   "metadata": {},
   "outputs": [],
   "source": []
  }
 ],
 "metadata": {
  "kernelspec": {
   "display_name": "Python 3",
   "language": "python",
   "name": "python3"
  },
  "language_info": {
   "codemirror_mode": {
    "name": "ipython",
    "version": 3
   },
   "file_extension": ".py",
   "mimetype": "text/x-python",
   "name": "python",
   "nbconvert_exporter": "python",
   "pygments_lexer": "ipython3",
   "version": "3.6.9"
  }
 },
 "nbformat": 4,
 "nbformat_minor": 2
}
