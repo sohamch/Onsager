{
 "cells": [
  {
   "cell_type": "code",
   "execution_count": 1,
   "metadata": {},
   "outputs": [],
   "source": [
    "import sys\n",
    "sys.path.extend([\"../../../../\"])"
   ]
  },
  {
   "cell_type": "code",
   "execution_count": 2,
   "metadata": {},
   "outputs": [
    {
     "name": "stderr",
     "output_type": "stream",
     "text": [
      "/usr/local/lib/python3.6/dist-packages/onsager-1.3.3.1-py3.6.egg/onsager/cluster.py:804: NumbaDeprecationWarning: The 'numba.jitclass' decorator has moved to 'numba.experimental.jitclass' to better reflect the experimental nature of the functionality. Please update your imports to accommodate this change and see http://numba.pydata.org/numba-doc/latest/reference/deprecation.html#change-of-jitclass-location for the time frame.\n"
     ]
    }
   ],
   "source": [
    "import numpy as np\n",
    "from onsager.crystal import Crystal\n",
    "from onsager.crystalStars import zeroclean\n",
    "from onsager.OnsagerCalc import *\n",
    "from onsager.crystal import DB_disp, DB_disp4, pureDBContainer, mixedDBContainer\n",
    "from onsager.DB_structs import dumbbell, SdPair, jump, connector"
   ]
  },
  {
   "cell_type": "code",
   "execution_count": 3,
   "metadata": {},
   "outputs": [
    {
     "name": "stdout",
     "output_type": "stream",
     "text": [
      "#Lattice:\n",
      "  a1 = [0.14155 0.14155 0.14155]\n",
      "  a2 = [-0.14155  0.14155 -0.14155]\n",
      "  a3 = [-0.14155 -0.14155  0.14155]\n",
      "#Basis:\n",
      "  (Fe) 0.0 = [0. 0. 0.]\n"
     ]
    }
   ],
   "source": [
    "# make a BCC lattice\n",
    "# We'll modify the jumpnetwork to keep only the 60 degree reorientational jumps.\n",
    "latt = np.array([[1., 0., 0.], [0., 1., 0.], [0., 0., 1.]]) * 0.2831\n",
    "Fe = crystal.Crystal(latt, [[np.array([0., 0., 0.]), np.array([0.5, 0.5, 0.5])]], [\"Fe\"])\n",
    "# Now give it the orientations - for BCC it's [110]\n",
    "o = np.array([1.,1.,0.])/np.linalg.norm(np.array([1.,1.,0.]))*0.126*2\n",
    "famp0 = [o.copy()]\n",
    "family = [famp0]\n",
    "pdbcontainer_fe = pureDBContainer(Fe, 0, family)\n",
    "mdbcontainer_fe = mixedDBContainer(Fe, 0, family)\n",
    "jset0, jset2 = pdbcontainer_fe.jumpnetwork(0.26, 0.01, 0.01), mdbcontainer_fe.jumpnetwork(0.26, 0.01, 0.01)\n",
    "print(Fe)"
   ]
  },
  {
   "cell_type": "code",
   "execution_count": 4,
   "metadata": {},
   "outputs": [
    {
     "data": {
      "text/plain": [
       "1"
      ]
     },
     "execution_count": 4,
     "metadata": {},
     "output_type": "execute_result"
    }
   ],
   "source": [
    "# Modify jnet0\n",
    "jnet0 = jset0[0]\n",
    "jnet0_indexed = jset0[1]\n",
    "# Let's try to sort the jumps according to closest distance\n",
    "# except rotational jumps, we don't want them.\n",
    "\n",
    "def sortkey(entry):\n",
    "    jmp = jnet0[entry][0]\n",
    "    or1 = pdbcontainer_fe.iorlist[jmp.state1.iorind][1]\n",
    "    or2 = pdbcontainer_fe.iorlist[jmp.state2.iorind][1]\n",
    "    dx = DB_disp(pdbcontainer_fe, jmp.state1, jmp.state2)\n",
    "    dx1 = np.linalg.norm(jmp.c1*or1/2.)\n",
    "    dx2 = np.linalg.norm(dx + jmp.c2*or2/2. - jmp.c1*or1/2.)\n",
    "    dx3 = np.linalg.norm(-jmp.c2*or2/2.)\n",
    "    return dx1+dx2+dx3\n",
    "\n",
    "z = np.zeros(3)\n",
    "indices = []\n",
    "for jt, jlist in enumerate(jnet0):\n",
    "    if np.allclose(jnet0_indexed[jt][0][1], z):\n",
    "        continue\n",
    "    indices.append(jt)\n",
    "\n",
    "ind_sort = sorted(indices, key=sortkey)[:1]\n",
    "len(ind_sort)"
   ]
  },
  {
   "cell_type": "code",
   "execution_count": 5,
   "metadata": {},
   "outputs": [
    {
     "name": "stdout",
     "output_type": "stream",
     "text": [
      "Jump object:\n",
      "Initial state:\n",
      "\tdumbbell : (i, or) index = 3, lattice vector = [0 0 0]\n",
      "Final state:\n",
      "\tdumbbell : (i, or) index = 5, lattice vector = [ 0 -1  0]\n",
      "Jumping from c1 = 1 to c2 = -1\n",
      "\n"
     ]
    }
   ],
   "source": [
    "print(jnet0[ind_sort[0]][0])"
   ]
  },
  {
   "cell_type": "code",
   "execution_count": 6,
   "metadata": {},
   "outputs": [
    {
     "data": {
      "text/plain": [
       "[(0, array([1.78190909e-01, 2.83727636e-34, 1.78190909e-01])),\n",
       " (0, array([-1.78190909e-01, -1.01947883e-17,  1.78190909e-01])),\n",
       " (0, array([-1.78190909e-01, -1.78190909e-01,  1.01947883e-17])),\n",
       " (0, array([ 5.09739416e-18, -1.78190909e-01,  1.78190909e-01])),\n",
       " (0, array([-1.01947883e-17,  1.78190909e-01,  1.78190909e-01])),\n",
       " (0, array([ 1.78190909e-01, -1.78190909e-01,  5.09739416e-18]))]"
      ]
     },
     "execution_count": 6,
     "metadata": {},
     "output_type": "execute_result"
    }
   ],
   "source": [
    "pdbcontainer_fe.iorlist"
   ]
  },
  {
   "cell_type": "code",
   "execution_count": 7,
   "metadata": {},
   "outputs": [],
   "source": [
    "# take the jumps we want.\n",
    "jset0new = ([jnet0[i] for i in ind_sort], [jnet0_indexed[i] for i in ind_sort])"
   ]
  },
  {
   "cell_type": "code",
   "execution_count": 8,
   "metadata": {},
   "outputs": [
    {
     "name": "stdout",
     "output_type": "stream",
     "text": [
      "[16]\n"
     ]
    }
   ],
   "source": [
    "# Now, we modify the mixed dumbbell jumpnetwork.\n",
    "# We'll include all the jumps there are in the paper\n",
    "# They are: First and second lowest transition jumps, 60 deg on-site rotation, 90-deg onsite rotation.\n",
    "jnet2 = jset2[0]\n",
    "jnet2_indexed = jset2[1]\n",
    "# Let's try to sort the jumps according to closest distance\n",
    "# we don't want only the rotational jumps as listed.\n",
    "\n",
    "def sortkey2(entry):\n",
    "    jmp = jnet2[entry][0]\n",
    "    or1 = mdbcontainer_fe.iorlist[jmp.state1.db.iorind][1]\n",
    "    or2 = mdbcontainer_fe.iorlist[jmp.state2.db.iorind][1]\n",
    "    dx = DB_disp(mdbcontainer_fe, jmp.state1, jmp.state2)\n",
    "    # c1 and c2 are always +1 for mixed dumbbell jumps.\n",
    "    dx1 = np.linalg.norm(jmp.c1*or1/2.)\n",
    "    dx2 = np.linalg.norm(dx + jmp.c2*or2/2. - jmp.c1*or1/2.)\n",
    "    dx3 = np.linalg.norm(-jmp.c2*or2/2.)\n",
    "    return dx1+dx2+dx3\n",
    "\n",
    "z = np.zeros(3)\n",
    "indices2 = []\n",
    "indices_rot = []\n",
    "for jt, jlist in enumerate(jnet2):\n",
    "    if np.allclose(jnet2_indexed[jt][0][1], z):\n",
    "        jmp = jlist[0]\n",
    "\n",
    "        or1 = mdbcontainer_fe.iorlist[jmp.state1.db.iorind][1]\n",
    "        or2 = mdbcontainer_fe.iorlist[jmp.state2.db.iorind][1]\n",
    "        \n",
    "        if np.allclose(np.dot(or1,or2)/(np.linalg.norm(or1)*np.linalg.norm(or2)), np.cos(np.pi/3.)):\n",
    "#             print(\"got 60 deg jump at {}\".format(jt))\n",
    "            indices_rot.append(jt)\n",
    "            continue\n",
    "        elif np.allclose(np.dot(or1,or2), 0.):\n",
    "#             print(\"got 90 deg jump at {}\".format(jt))\n",
    "            indices_rot.append(jt)\n",
    "            continue\n",
    "        else:\n",
    "            continue\n",
    "    indices2.append(jt)\n",
    "ind_sort2 = sorted(indices2, key=sortkey2)[:2]\n",
    "indices2all = ind_sort2[:1]\n",
    "print(indices2all)"
   ]
  },
  {
   "cell_type": "code",
   "execution_count": 9,
   "metadata": {},
   "outputs": [
    {
     "name": "stdout",
     "output_type": "stream",
     "text": [
      "Jump object:\n",
      "Initial state:\n",
      "\tSolute loctation:basis index = 0, lattice vector = [0 0 0]\n",
      "\tdumbbell : (i, or) index = 2, lattice vector = [0 0 0]\n",
      "Final state:\n",
      "\tSolute loctation :basis index = 0, lattice vector = [ 0  0 -1]\n",
      "\tdumbbell : (i, or) index = 3, lattice vector = [ 0  0 -1]\n",
      "Jumping from c1 = 1 to c2 = 1\n"
     ]
    }
   ],
   "source": [
    "# check if we have the correct type of jumps\n",
    "print(jnet2[ind_sort2[0]][0])"
   ]
  },
  {
   "cell_type": "code",
   "execution_count": 10,
   "metadata": {},
   "outputs": [
    {
     "name": "stdout",
     "output_type": "stream",
     "text": [
      "(0, array([1.78190909e-01, 2.83727636e-34, 1.78190909e-01]))\n",
      "(0, array([-1.78190909e-01, -1.01947883e-17,  1.78190909e-01]))\n",
      "(0, array([ 1.78190909e-01,  2.00863708e-17, -1.78190909e-01]))\n",
      "(0, array([-1.78190909e-01, -1.78190909e-01,  1.01947883e-17]))\n",
      "(0, array([ 5.09739416e-18, -1.78190909e-01,  1.78190909e-01]))\n",
      "(0, array([ 1.78190909e-01,  1.78190909e-01, -1.01947883e-17]))\n",
      "(0, array([-2.83727636e-34,  1.78190909e-01, -1.78190909e-01]))\n",
      "(0, array([-1.01947883e-17,  1.78190909e-01,  1.78190909e-01]))\n",
      "(0, array([ 1.78190909e-01, -1.78190909e-01,  5.09739416e-18]))\n",
      "(0, array([-1.78190909e-01, -2.83727636e-34, -1.78190909e-01]))\n",
      "(0, array([-1.78190909e-01,  1.78190909e-01, -5.09739416e-18]))\n",
      "(0, array([ 5.09739416e-18, -1.78190909e-01, -1.78190909e-01]))\n"
     ]
    }
   ],
   "source": [
    "for tup in mdbcontainer_fe.iorlist:\n",
    "    print(tup)"
   ]
  },
  {
   "cell_type": "code",
   "execution_count": 11,
   "metadata": {},
   "outputs": [],
   "source": [
    "jset2new = ([jnet2[i] for i in indices2all], [jnet2_indexed[i] for i in indices2all])"
   ]
  },
  {
   "cell_type": "code",
   "execution_count": 12,
   "metadata": {},
   "outputs": [
    {
     "name": "stdout",
     "output_type": "stream",
     "text": [
      "Jump object:\n",
      "Initial state:\n",
      "\tSolute loctation:basis index = 0, lattice vector = [0 0 0]\n",
      "\tdumbbell : (i, or) index = 2, lattice vector = [0 0 0]\n",
      "Final state:\n",
      "\tSolute loctation :basis index = 0, lattice vector = [ 0  0 -1]\n",
      "\tdumbbell : (i, or) index = 3, lattice vector = [ 0  0 -1]\n",
      "Jumping from c1 = 1 to c2 = 1\n"
     ]
    }
   ],
   "source": [
    "print(jset2new[0][0][0])"
   ]
  },
  {
   "cell_type": "code",
   "execution_count": 13,
   "metadata": {},
   "outputs": [
    {
     "name": "stdout",
     "output_type": "stream",
     "text": [
      "initializing thermo\n",
      "initializing kin\n",
      "generating thermodynamic shell\n",
      "built shell 1: time - 0.02938675880432129\n",
      "built shell 2: time - 0.7820460796356201\n",
      "built shell 3: time - 3.3492231369018555\n",
      "grouped states by symmetry: 6.138690948486328\n",
      "built mixed dumbbell stars: 0.00044846534729003906\n",
      "built jtags2: 0.0005025863647460938\n",
      "built mixed indexed star: 0.0056514739990234375\n",
      "building star2symlist : 0.00011920928955078125\n",
      "building bare, mixed index dicts : 0.00020575523376464844\n",
      "thermodynamic shell generated: 15.885826110839844\n",
      "Total number of states in Thermodynamic Shell - 546, 12\n",
      "generating kinetic shell\n",
      "built shell 1: time - 0.02607893943786621\n",
      "built shell 2: time - 0.7532057762145996\n",
      "built shell 3: time - 3.766287326812744\n",
      "built shell 4: time - 10.188633441925049\n",
      "grouped states by symmetry: 26.30510115623474\n",
      "built mixed dumbbell stars: 0.0006434917449951172\n",
      "built jtags2: 0.0005800724029541016\n",
      "built mixed indexed star: 0.006206989288330078\n",
      "building star2symlist : 0.00020051002502441406\n",
      "building bare, mixed index dicts : 0.0003039836883544922\n",
      "Kinetic shell generated: 65.98993420600891\n",
      "Total number of states in Kinetic Shell - 1134, 12\n",
      "generating kinetic shell vector starset\n",
      "Kinetic shell vector starset generated: 8.934087038040161\n",
      "Generating Jump networks\n",
      "building omega1\n",
      "built omega1 : time - 8.501256942749023\n",
      "building omega43\n",
      "built omega43 : time 6.0987443923950195\n",
      "Jump networks generated: 14.67906641960144\n",
      "building GF starsets\n",
      "\tComplex connections creation time: 883.8111810684204\n",
      "\tComplex connections symmetry grouping time: 49.75226330757141\n",
      "No. of pure dumbbell connections: 44676\n",
      "GF star sets built: 933.59073138237\n",
      "Built Complex GF expansions: 637.7106304168701\n",
      "built GFstarsets: 1577.2545590400696\n",
      "built rate expansions: 2.9083375930786133\n",
      "built bias expansions: 27.390244007110596\n",
      "built outer product tensor:0.40116000175476074\n",
      "onsager calculator initiation time = 1716.9269211292267\n"
     ]
    }
   ],
   "source": [
    "# Initialize the calculator.\n",
    "# We pass in the omega43 network we constructed above\n",
    "start = time.time()\n",
    "onsagercalculator = dumbbellMediated(pdbcontainer_fe, mdbcontainer_fe, jset0new, jset2new, 0.27,\n",
    "                                     0.01, 0.01, 0.01, NGFmax=4, Nthermo=3)\n",
    "print(\"onsager calculator initiation time = {}\".format(time.time() - start))"
   ]
  },
  {
   "cell_type": "code",
   "execution_count": 14,
   "metadata": {},
   "outputs": [
    {
     "name": "stdout",
     "output_type": "stream",
     "text": [
      "[19]\n"
     ]
    }
   ],
   "source": [
    "# next, we extract those omega43 jumps that we need.\n",
    "jnet43 = onsagercalculator.jnet43\n",
    "jnet43_indexed = onsagercalculator.jnet43_indexed\n",
    "# Let's try to sort the jumps according to closest distance\n",
    "# We assume that association and dissociation occurs via Johnson mechanism.\n",
    "\n",
    "def sortkey3(entry):\n",
    "    jmp = jnet43[entry][0] # This is an omega4 jump\n",
    "    if not jmp.c2 == -1:\n",
    "        print(c2)\n",
    "    or1 = pdbcontainer_fe.iorlist[jmp.state1.db.iorind][1]\n",
    "    or2 = mdbcontainer_fe.iorlist[jmp.state2.db.iorind][1]\n",
    "    dx = DB_disp4(pdbcontainer_fe, mdbcontainer_fe, jmp.state1, jmp.state2)\n",
    "    # remember that c2 is -1 for an omega4 jump\n",
    "    dx1 = np.linalg.norm(jmp.c1*or1/2.)\n",
    "    dx2 = np.linalg.norm(dx - or2/2. - jmp.c1*or1/2.)\n",
    "    dx3 = np.linalg.norm(jmp.c2*or2/2.)\n",
    "    return dx1+dx2+dx3\n",
    "\n",
    "z = np.zeros(3)\n",
    "indices43 = []\n",
    "for jt, jlist in enumerate(jnet43):\n",
    "    if np.allclose(jnet43_indexed[jt][0][1], z):\n",
    "        continue\n",
    "    indices43.append(jt)    \n",
    "ind_sort43 = sorted(indices43, key=sortkey3)[:1]\n",
    "print(ind_sort43)"
   ]
  },
  {
   "cell_type": "code",
   "execution_count": 15,
   "metadata": {},
   "outputs": [
    {
     "name": "stdout",
     "output_type": "stream",
     "text": [
      "Jump object:\n",
      "Initial state:\n",
      "\tSolute loctation:basis index = 0, lattice vector = [0 0 0]\n",
      "\tdumbbell : (i, or) index = 0, lattice vector = [0 0 1]\n",
      "Final state:\n",
      "\tSolute loctation :basis index = 0, lattice vector = [0 0 0]\n",
      "\tdumbbell : (i, or) index = 3, lattice vector = [0 0 0]\n",
      "Jumping from c1 = 1 to c2 = -1\n"
     ]
    }
   ],
   "source": [
    "# check if we have the correct jump\n",
    "print(jnet43[ind_sort43[0]][0])"
   ]
  },
  {
   "cell_type": "code",
   "execution_count": 17,
   "metadata": {},
   "outputs": [
    {
     "name": "stdout",
     "output_type": "stream",
     "text": [
      "(0, array([ 1.78190909e-01,  1.78190909e-01, -1.01947883e-17]))\n",
      "(0, array([ 0.        ,  0.17819091, -0.17819091]))\n"
     ]
    }
   ],
   "source": [
    "print(onsagercalculator.pdbcontainer.iorlist[0])\n",
    "print(onsagercalculator.mdbcontainer.iorlist[3])"
   ]
  },
  {
   "cell_type": "code",
   "execution_count": 18,
   "metadata": {},
   "outputs": [],
   "source": [
    "onsagercalculator.regenerate43(ind_sort43)"
   ]
  },
  {
   "cell_type": "code",
   "execution_count": 19,
   "metadata": {},
   "outputs": [],
   "source": [
    "with open('FeCr_Onsg.pkl','wb') as fl:\n",
    "    pickle.dump(onsagercalculator,fl)"
   ]
  },
  {
   "cell_type": "code",
   "execution_count": null,
   "metadata": {},
   "outputs": [],
   "source": []
  }
 ],
 "metadata": {
  "kernelspec": {
   "display_name": "Python 3",
   "language": "python",
   "name": "python3"
  },
  "language_info": {
   "codemirror_mode": {
    "name": "ipython",
    "version": 3
   },
   "file_extension": ".py",
   "mimetype": "text/x-python",
   "name": "python",
   "nbconvert_exporter": "python",
   "pygments_lexer": "ipython3",
   "version": "3.6.9"
  }
 },
 "nbformat": 4,
 "nbformat_minor": 2
}
